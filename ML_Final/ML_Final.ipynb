{
 "cells": [
  {
   "cell_type": "markdown",
   "id": "monthly-stewart",
   "metadata": {},
   "source": [
    "## Forecasting Covid-19 Cases"
   ]
  },
  {
   "cell_type": "markdown",
   "id": "absent-puppy",
   "metadata": {},
   "source": [
    "### Import the Dataset"
   ]
  },
  {
   "cell_type": "code",
   "execution_count": 1,
   "id": "hungry-fetish",
   "metadata": {},
   "outputs": [],
   "source": [
    "import pandas as pd\n",
    "df = pd.read_csv(\"D:\\Final_project\\data\\EDA.csv\")"
   ]
  },
  {
   "cell_type": "code",
   "execution_count": 2,
   "id": "serious-cookie",
   "metadata": {},
   "outputs": [
    {
     "data": {
      "text/html": [
       "<div>\n",
       "<style scoped>\n",
       "    .dataframe tbody tr th:only-of-type {\n",
       "        vertical-align: middle;\n",
       "    }\n",
       "\n",
       "    .dataframe tbody tr th {\n",
       "        vertical-align: top;\n",
       "    }\n",
       "\n",
       "    .dataframe thead th {\n",
       "        text-align: right;\n",
       "    }\n",
       "</style>\n",
       "<table border=\"1\" class=\"dataframe\">\n",
       "  <thead>\n",
       "    <tr style=\"text-align: right;\">\n",
       "      <th></th>\n",
       "      <th>iso_code</th>\n",
       "      <th>continent</th>\n",
       "      <th>location</th>\n",
       "      <th>date</th>\n",
       "      <th>total_cases</th>\n",
       "      <th>new_cases</th>\n",
       "      <th>new_cases_smoothed</th>\n",
       "      <th>total_deaths</th>\n",
       "      <th>new_deaths</th>\n",
       "      <th>new_deaths_smoothed</th>\n",
       "      <th>...</th>\n",
       "      <th>people_vaccinated</th>\n",
       "      <th>people_fully_vaccinated</th>\n",
       "      <th>new_vaccinations</th>\n",
       "      <th>new_vaccinations_smoothed</th>\n",
       "      <th>total_vaccinations_per_hundred</th>\n",
       "      <th>people_vaccinated_per_hundred</th>\n",
       "      <th>people_fully_vaccinated_per_hundred</th>\n",
       "      <th>new_vaccinations_smoothed_per_million</th>\n",
       "      <th>population</th>\n",
       "      <th>population_density</th>\n",
       "    </tr>\n",
       "  </thead>\n",
       "  <tbody>\n",
       "    <tr>\n",
       "      <th>65799</th>\n",
       "      <td>ZWE</td>\n",
       "      <td>Africa</td>\n",
       "      <td>Zimbabwe</td>\n",
       "      <td>2021-02-07</td>\n",
       "      <td>34552.0</td>\n",
       "      <td>65.0</td>\n",
       "      <td>166.286</td>\n",
       "      <td>1326.0</td>\n",
       "      <td>10.0</td>\n",
       "      <td>15.571</td>\n",
       "      <td>...</td>\n",
       "      <td>202042.626514</td>\n",
       "      <td>173260.613062</td>\n",
       "      <td>-12018.854475</td>\n",
       "      <td>20179.002912</td>\n",
       "      <td>2189.385</td>\n",
       "      <td>13593.731</td>\n",
       "      <td>11657.234</td>\n",
       "      <td>1357.674</td>\n",
       "      <td>14862927.0</td>\n",
       "      <td>42.729</td>\n",
       "    </tr>\n",
       "    <tr>\n",
       "      <th>65800</th>\n",
       "      <td>ZWE</td>\n",
       "      <td>Africa</td>\n",
       "      <td>Zimbabwe</td>\n",
       "      <td>2021-02-08</td>\n",
       "      <td>34658.0</td>\n",
       "      <td>106.0</td>\n",
       "      <td>158.571</td>\n",
       "      <td>1339.0</td>\n",
       "      <td>13.0</td>\n",
       "      <td>15.000</td>\n",
       "      <td>...</td>\n",
       "      <td>200489.896645</td>\n",
       "      <td>173548.194279</td>\n",
       "      <td>-11394.374095</td>\n",
       "      <td>20075.984392</td>\n",
       "      <td>2155.236</td>\n",
       "      <td>13489.261</td>\n",
       "      <td>11676.583</td>\n",
       "      <td>1350.742</td>\n",
       "      <td>14862927.0</td>\n",
       "      <td>42.729</td>\n",
       "    </tr>\n",
       "    <tr>\n",
       "      <th>65801</th>\n",
       "      <td>ZWE</td>\n",
       "      <td>Africa</td>\n",
       "      <td>Zimbabwe</td>\n",
       "      <td>2021-02-09</td>\n",
       "      <td>34781.0</td>\n",
       "      <td>123.0</td>\n",
       "      <td>138.143</td>\n",
       "      <td>1353.0</td>\n",
       "      <td>14.0</td>\n",
       "      <td>14.143</td>\n",
       "      <td>...</td>\n",
       "      <td>199250.060411</td>\n",
       "      <td>174435.659533</td>\n",
       "      <td>-11105.734623</td>\n",
       "      <td>19997.080279</td>\n",
       "      <td>2215.303</td>\n",
       "      <td>13405.843</td>\n",
       "      <td>11736.293</td>\n",
       "      <td>1345.434</td>\n",
       "      <td>14862927.0</td>\n",
       "      <td>42.729</td>\n",
       "    </tr>\n",
       "    <tr>\n",
       "      <th>65802</th>\n",
       "      <td>ZWE</td>\n",
       "      <td>Africa</td>\n",
       "      <td>Zimbabwe</td>\n",
       "      <td>2021-02-10</td>\n",
       "      <td>34864.0</td>\n",
       "      <td>83.0</td>\n",
       "      <td>128.571</td>\n",
       "      <td>1364.0</td>\n",
       "      <td>11.0</td>\n",
       "      <td>13.571</td>\n",
       "      <td>...</td>\n",
       "      <td>197971.146576</td>\n",
       "      <td>175151.001255</td>\n",
       "      <td>-11703.673670</td>\n",
       "      <td>19929.314019</td>\n",
       "      <td>2182.777</td>\n",
       "      <td>13319.795</td>\n",
       "      <td>11784.422</td>\n",
       "      <td>1340.874</td>\n",
       "      <td>14862927.0</td>\n",
       "      <td>42.729</td>\n",
       "    </tr>\n",
       "    <tr>\n",
       "      <th>65803</th>\n",
       "      <td>ZWE</td>\n",
       "      <td>Africa</td>\n",
       "      <td>Zimbabwe</td>\n",
       "      <td>2021-02-11</td>\n",
       "      <td>34864.0</td>\n",
       "      <td>0.0</td>\n",
       "      <td>99.000</td>\n",
       "      <td>1364.0</td>\n",
       "      <td>0.0</td>\n",
       "      <td>10.857</td>\n",
       "      <td>...</td>\n",
       "      <td>188557.868114</td>\n",
       "      <td>177056.676529</td>\n",
       "      <td>-14126.035117</td>\n",
       "      <td>19375.934871</td>\n",
       "      <td>1558.995</td>\n",
       "      <td>12686.456</td>\n",
       "      <td>11912.639</td>\n",
       "      <td>1303.642</td>\n",
       "      <td>14862927.0</td>\n",
       "      <td>42.729</td>\n",
       "    </tr>\n",
       "  </tbody>\n",
       "</table>\n",
       "<p>5 rows × 37 columns</p>\n",
       "</div>"
      ],
      "text/plain": [
       "      iso_code continent  location        date  total_cases  new_cases  \\\n",
       "65799      ZWE    Africa  Zimbabwe  2021-02-07      34552.0       65.0   \n",
       "65800      ZWE    Africa  Zimbabwe  2021-02-08      34658.0      106.0   \n",
       "65801      ZWE    Africa  Zimbabwe  2021-02-09      34781.0      123.0   \n",
       "65802      ZWE    Africa  Zimbabwe  2021-02-10      34864.0       83.0   \n",
       "65803      ZWE    Africa  Zimbabwe  2021-02-11      34864.0        0.0   \n",
       "\n",
       "       new_cases_smoothed  total_deaths  new_deaths  new_deaths_smoothed  ...  \\\n",
       "65799             166.286        1326.0        10.0               15.571  ...   \n",
       "65800             158.571        1339.0        13.0               15.000  ...   \n",
       "65801             138.143        1353.0        14.0               14.143  ...   \n",
       "65802             128.571        1364.0        11.0               13.571  ...   \n",
       "65803              99.000        1364.0         0.0               10.857  ...   \n",
       "\n",
       "       people_vaccinated  people_fully_vaccinated  new_vaccinations  \\\n",
       "65799      202042.626514            173260.613062     -12018.854475   \n",
       "65800      200489.896645            173548.194279     -11394.374095   \n",
       "65801      199250.060411            174435.659533     -11105.734623   \n",
       "65802      197971.146576            175151.001255     -11703.673670   \n",
       "65803      188557.868114            177056.676529     -14126.035117   \n",
       "\n",
       "       new_vaccinations_smoothed  total_vaccinations_per_hundred  \\\n",
       "65799               20179.002912                        2189.385   \n",
       "65800               20075.984392                        2155.236   \n",
       "65801               19997.080279                        2215.303   \n",
       "65802               19929.314019                        2182.777   \n",
       "65803               19375.934871                        1558.995   \n",
       "\n",
       "       people_vaccinated_per_hundred  people_fully_vaccinated_per_hundred  \\\n",
       "65799                      13593.731                            11657.234   \n",
       "65800                      13489.261                            11676.583   \n",
       "65801                      13405.843                            11736.293   \n",
       "65802                      13319.795                            11784.422   \n",
       "65803                      12686.456                            11912.639   \n",
       "\n",
       "       new_vaccinations_smoothed_per_million  population  population_density  \n",
       "65799                               1357.674  14862927.0              42.729  \n",
       "65800                               1350.742  14862927.0              42.729  \n",
       "65801                               1345.434  14862927.0              42.729  \n",
       "65802                               1340.874  14862927.0              42.729  \n",
       "65803                               1303.642  14862927.0              42.729  \n",
       "\n",
       "[5 rows x 37 columns]"
      ]
     },
     "execution_count": 2,
     "metadata": {},
     "output_type": "execute_result"
    }
   ],
   "source": [
    "df.tail()"
   ]
  },
  {
   "cell_type": "markdown",
   "id": "needed-director",
   "metadata": {},
   "source": [
    "### Select Subset Datasets"
   ]
  },
  {
   "cell_type": "code",
   "execution_count": 3,
   "id": "saved-tracker",
   "metadata": {},
   "outputs": [],
   "source": [
    "International= df[df['location']==\"International\"]"
   ]
  },
  {
   "cell_type": "code",
   "execution_count": 4,
   "id": "korean-religious",
   "metadata": {},
   "outputs": [],
   "source": [
    "world= df[df['location']==\"World\"]"
   ]
  },
  {
   "cell_type": "code",
   "execution_count": 5,
   "id": "ceramic-blanket",
   "metadata": {},
   "outputs": [],
   "source": [
    "Saudi = df[df['location']==\"Saudi Arabia\"]"
   ]
  },
  {
   "cell_type": "markdown",
   "id": "functioning-priest",
   "metadata": {},
   "source": [
    "### Prepare the Datasets for Modeling"
   ]
  },
  {
   "cell_type": "code",
   "execution_count": 6,
   "id": "lovely-horizon",
   "metadata": {},
   "outputs": [],
   "source": [
    "International= International.filter(['date','new_cases'])\n",
    "# remove all columns except \"date\" and \"new cases\"\n",
    "International.columns = ['ds', 'y'] # rename the columns \n",
    " # exporting the data\n",
    "    "
   ]
  },
  {
   "cell_type": "code",
   "execution_count": 7,
   "id": "patient-beauty",
   "metadata": {},
   "outputs": [],
   "source": [
    "world= world.filter(['date','new_cases'])\n",
    "# remove all columns except \"date\" and \"new cases\"\n",
    "world.columns = ['ds', 'y'] # rename the columns \n",
    " # exporting the data\n"
   ]
  },
  {
   "cell_type": "code",
   "execution_count": 8,
   "id": "amazing-ontario",
   "metadata": {},
   "outputs": [],
   "source": [
    "Saudi= Saudi.filter(['date','new_cases'])\n",
    "# remove all columns except \"date\" and \"new cases\"\n",
    "Saudi.columns = ['ds', 'y'] # rename the columns \n",
    " # exporting the data"
   ]
  },
  {
   "cell_type": "markdown",
   "id": "wired-treasure",
   "metadata": {},
   "source": [
    "### Ploting the Datasets"
   ]
  },
  {
   "cell_type": "code",
   "execution_count": 9,
   "id": "convinced-facility",
   "metadata": {},
   "outputs": [
    {
     "data": {
      "image/png": "[encoded data removed]",
      "text/plain": [
       "<Figure size 648x360 with 1 Axes>"
      ]
     },
     "metadata": {
      "needs_background": "light"
     },
     "output_type": "display_data"
    }
   ],
   "source": [
    "# importing libraries \n",
    "from matplotlib import pyplot\n",
    "import matplotlib.pyplot as plt\n",
    "International.plot(\"ds\",\"y\",figsize=(9,5))#plot the dataset\n",
    "plt.title(\" International Cases Distribution Per Months\", fontsize=16) #set title and it size\n",
    "plt.ylabel('Cases', fontsize=18) # set y axis name and size\n",
    "plt.xlabel('Date', fontsize=18); #set x axis size"
   ]
  },
  {
   "cell_type": "code",
   "execution_count": 10,
   "id": "descending-third",
   "metadata": {},
   "outputs": [
    {
     "data": {
      "image/png": "[encoded data removed]",
      "text/plain": [
       "<Figure size 720x360 with 1 Axes>"
      ]
     },
     "metadata": {
      "needs_background": "light"
     },
     "output_type": "display_data"
    }
   ],
   "source": [
    "world.plot(\"ds\",\"y\",figsize=(10, 5)) #plot the dataset\n",
    "plt.title(\" world Cases Distribution Per Months\", fontsize=16) #set title and it size\n",
    "plt.ylabel('Cases', fontsize=18) # set y axis name and size\n",
    "plt.xlabel('Date', fontsize=18); #set x axis size"
   ]
  },
  {
   "cell_type": "code",
   "execution_count": 11,
   "id": "changed-encyclopedia",
   "metadata": {},
   "outputs": [
    {
     "data": {
      "image/png": "[encoded data removed]",
      "text/plain": [
       "<Figure size 648x360 with 1 Axes>"
      ]
     },
     "metadata": {
      "needs_background": "light"
     },
     "output_type": "display_data"
    }
   ],
   "source": [
    "Saudi.plot(\"ds\",\"y\",figsize=(9, 5)) #plot the dataset\n",
    "plt.title(\" Saudi Cases Distribution Per Months\", fontsize=16) #set title and it size\n",
    "plt.ylabel('Cases', fontsize=18) # set y axis name and size\n",
    "plt.xlabel('Date', fontsize=18); #set x axis size"
   ]
  },
  {
   "cell_type": "markdown",
   "id": "secondary-vehicle",
   "metadata": {},
   "source": [
    "### The Baseline Model"
   ]
  },
  {
   "cell_type": "code",
   "execution_count": 12,
   "id": "canadian-instruction",
   "metadata": {},
   "outputs": [],
   "source": [
    "import itertools # importing library\n",
    "def base_line(df):\n",
    "    srise_value = df.y.values # take the y column data\n",
    "    value = pd.DataFrame(srise_value) # make dataframe\n",
    "    #create new dataframe contain a value and y value shifted\n",
    "    new_df = pd.concat([value,value.shift(1)],axis=1 ) \n",
    "    new_df.columns = ['present','futur']  # name the columns\n",
    "    result = new_df.futur.tail(1).item() # set result to the last value in new_df \n",
    "    global baselin # set result baseline dataset to global\n",
    "    baselin = list(itertools.repeat(result, 90)) # iterate result\n",
    "    return baselin #return iterator result"
   ]
  },
  {
   "cell_type": "code",
   "execution_count": 13,
   "id": "decent-municipality",
   "metadata": {},
   "outputs": [],
   "source": [
    "#International Baseline model\n",
    "Int = base_line(International)"
   ]
  },
  {
   "cell_type": "code",
   "execution_count": 14,
   "id": "basic-biodiversity",
   "metadata": {},
   "outputs": [],
   "source": [
    "#world Baseline model\n",
    "w = base_line(world)"
   ]
  },
  {
   "cell_type": "code",
   "execution_count": 15,
   "id": "boring-audit",
   "metadata": {},
   "outputs": [],
   "source": [
    "#Saudi Baseline model\n",
    "S = base_line(Saudi)"
   ]
  },
  {
   "cell_type": "markdown",
   "id": "assured-updating",
   "metadata": {},
   "source": [
    "### Create Dataframe for the Baseline Model Results"
   ]
  },
  {
   "cell_type": "code",
   "execution_count": 16,
   "id": "western-syndication",
   "metadata": {},
   "outputs": [
    {
     "data": {
      "text/html": [
       "<div>\n",
       "<style scoped>\n",
       "    .dataframe tbody tr th:only-of-type {\n",
       "        vertical-align: middle;\n",
       "    }\n",
       "\n",
       "    .dataframe tbody tr th {\n",
       "        vertical-align: top;\n",
       "    }\n",
       "\n",
       "    .dataframe thead th {\n",
       "        text-align: right;\n",
       "    }\n",
       "</style>\n",
       "<table border=\"1\" class=\"dataframe\">\n",
       "  <thead>\n",
       "    <tr style=\"text-align: right;\">\n",
       "      <th></th>\n",
       "      <th>y</th>\n",
       "      <th>ds</th>\n",
       "    </tr>\n",
       "  </thead>\n",
       "  <tbody>\n",
       "    <tr>\n",
       "      <th>85</th>\n",
       "      <td>0.0</td>\n",
       "      <td>86 days</td>\n",
       "    </tr>\n",
       "    <tr>\n",
       "      <th>86</th>\n",
       "      <td>0.0</td>\n",
       "      <td>87 days</td>\n",
       "    </tr>\n",
       "    <tr>\n",
       "      <th>87</th>\n",
       "      <td>0.0</td>\n",
       "      <td>88 days</td>\n",
       "    </tr>\n",
       "    <tr>\n",
       "      <th>88</th>\n",
       "      <td>0.0</td>\n",
       "      <td>89 days</td>\n",
       "    </tr>\n",
       "    <tr>\n",
       "      <th>89</th>\n",
       "      <td>0.0</td>\n",
       "      <td>90 days</td>\n",
       "    </tr>\n",
       "  </tbody>\n",
       "</table>\n",
       "</div>"
      ],
      "text/plain": [
       "      y      ds\n",
       "85  0.0 86 days\n",
       "86  0.0 87 days\n",
       "87  0.0 88 days\n",
       "88  0.0 89 days\n",
       "89  0.0 90 days"
      ]
     },
     "execution_count": 16,
     "metadata": {},
     "output_type": "execute_result"
    }
   ],
   "source": [
    "#International\n",
    "import datetime #importing library\n",
    "date_list = [datetime.timedelta(days=x) for x in range(1,len(Int)+1)]  \n",
    "# creat dayes for values in base line model\n",
    "p1 = pd.concat([pd.Series(Int), pd.Series(date_list)], axis=1) \n",
    "# merge columns to one dataframe\n",
    "p1.columns = ['y','ds'] # name the columns\n",
    "p1.tail()"
   ]
  },
  {
   "cell_type": "code",
   "execution_count": 17,
   "id": "constant-grade",
   "metadata": {},
   "outputs": [
    {
     "data": {
      "text/html": [
       "<div>\n",
       "<style scoped>\n",
       "    .dataframe tbody tr th:only-of-type {\n",
       "        vertical-align: middle;\n",
       "    }\n",
       "\n",
       "    .dataframe tbody tr th {\n",
       "        vertical-align: top;\n",
       "    }\n",
       "\n",
       "    .dataframe thead th {\n",
       "        text-align: right;\n",
       "    }\n",
       "</style>\n",
       "<table border=\"1\" class=\"dataframe\">\n",
       "  <thead>\n",
       "    <tr style=\"text-align: right;\">\n",
       "      <th></th>\n",
       "      <th>y</th>\n",
       "      <th>ds</th>\n",
       "    </tr>\n",
       "  </thead>\n",
       "  <tbody>\n",
       "    <tr>\n",
       "      <th>85</th>\n",
       "      <td>514862.0</td>\n",
       "      <td>86 days</td>\n",
       "    </tr>\n",
       "    <tr>\n",
       "      <th>86</th>\n",
       "      <td>514862.0</td>\n",
       "      <td>87 days</td>\n",
       "    </tr>\n",
       "    <tr>\n",
       "      <th>87</th>\n",
       "      <td>514862.0</td>\n",
       "      <td>88 days</td>\n",
       "    </tr>\n",
       "    <tr>\n",
       "      <th>88</th>\n",
       "      <td>514862.0</td>\n",
       "      <td>89 days</td>\n",
       "    </tr>\n",
       "    <tr>\n",
       "      <th>89</th>\n",
       "      <td>514862.0</td>\n",
       "      <td>90 days</td>\n",
       "    </tr>\n",
       "  </tbody>\n",
       "</table>\n",
       "</div>"
      ],
      "text/plain": [
       "           y      ds\n",
       "85  514862.0 86 days\n",
       "86  514862.0 87 days\n",
       "87  514862.0 88 days\n",
       "88  514862.0 89 days\n",
       "89  514862.0 90 days"
      ]
     },
     "execution_count": 17,
     "metadata": {},
     "output_type": "execute_result"
    }
   ],
   "source": [
    "#world\n",
    "date_list = [datetime.timedelta(days=x) for x in range(1,len(w)+1)]  \n",
    "# creat dayes for values in base line model\n",
    "p2 = pd.concat([pd.Series(w), pd.Series(date_list)], axis=1) \n",
    "# merge columns to one dataframe\n",
    "p2.columns = ['y','ds'] # name the columns\n",
    "p2.tail()"
   ]
  },
  {
   "cell_type": "code",
   "execution_count": 18,
   "id": "formed-listening",
   "metadata": {},
   "outputs": [
    {
     "data": {
      "text/html": [
       "<div>\n",
       "<style scoped>\n",
       "    .dataframe tbody tr th:only-of-type {\n",
       "        vertical-align: middle;\n",
       "    }\n",
       "\n",
       "    .dataframe tbody tr th {\n",
       "        vertical-align: top;\n",
       "    }\n",
       "\n",
       "    .dataframe thead th {\n",
       "        text-align: right;\n",
       "    }\n",
       "</style>\n",
       "<table border=\"1\" class=\"dataframe\">\n",
       "  <thead>\n",
       "    <tr style=\"text-align: right;\">\n",
       "      <th></th>\n",
       "      <th>y</th>\n",
       "      <th>ds</th>\n",
       "    </tr>\n",
       "  </thead>\n",
       "  <tbody>\n",
       "    <tr>\n",
       "      <th>85</th>\n",
       "      <td>369.0</td>\n",
       "      <td>86 days</td>\n",
       "    </tr>\n",
       "    <tr>\n",
       "      <th>86</th>\n",
       "      <td>369.0</td>\n",
       "      <td>87 days</td>\n",
       "    </tr>\n",
       "    <tr>\n",
       "      <th>87</th>\n",
       "      <td>369.0</td>\n",
       "      <td>88 days</td>\n",
       "    </tr>\n",
       "    <tr>\n",
       "      <th>88</th>\n",
       "      <td>369.0</td>\n",
       "      <td>89 days</td>\n",
       "    </tr>\n",
       "    <tr>\n",
       "      <th>89</th>\n",
       "      <td>369.0</td>\n",
       "      <td>90 days</td>\n",
       "    </tr>\n",
       "  </tbody>\n",
       "</table>\n",
       "</div>"
      ],
      "text/plain": [
       "        y      ds\n",
       "85  369.0 86 days\n",
       "86  369.0 87 days\n",
       "87  369.0 88 days\n",
       "88  369.0 89 days\n",
       "89  369.0 90 days"
      ]
     },
     "execution_count": 18,
     "metadata": {},
     "output_type": "execute_result"
    }
   ],
   "source": [
    "#Saudi\n",
    "date_list = [datetime.timedelta(days=x) for x in range(1,len(S)+1)]  \n",
    "# creat dayes for values in base line model\n",
    "p3 = pd.concat([pd.Series(S), pd.Series(date_list)], axis=1) \n",
    "# merge columns to one dataframe\n",
    "p3.columns = ['y','ds'] # name the columns\n",
    "p3.tail()"
   ]
  },
  {
   "cell_type": "markdown",
   "id": "numerical-embassy",
   "metadata": {},
   "source": [
    "### Plot the Baseline Model Result  "
   ]
  },
  {
   "cell_type": "code",
   "execution_count": 19,
   "id": "amino-homework",
   "metadata": {},
   "outputs": [
    {
     "data": {
      "image/png": "[encoded data removed]",
      "text/plain": [
       "<Figure size 1800x360 with 1 Axes>"
      ]
     },
     "metadata": {
      "needs_background": "light"
     },
     "output_type": "display_data"
    }
   ],
   "source": [
    "#International\n",
    "p1.plot(\"ds\",\"y\",figsize=(25, 5)) # plot the data\n",
    "plt.title(\"International baseModel Forcast\", fontsize=16) # set title\n",
    "plt.ylabel('Cases', fontsize=18) #set y axis name and size\n",
    "plt.xlabel('ds', fontsize=18);#set x axis name and size"
   ]
  },
  {
   "cell_type": "code",
   "execution_count": 20,
   "id": "sharing-hopkins",
   "metadata": {},
   "outputs": [
    {
     "data": {
      "image/png": "[encoded data removed]",
      "text/plain": [
       "<Figure size 1800x360 with 1 Axes>"
      ]
     },
     "metadata": {
      "needs_background": "light"
     },
     "output_type": "display_data"
    }
   ],
   "source": [
    "#world\n",
    "p2.plot(\"ds\",\"y\",figsize=(25, 5)) # plot the data\n",
    "plt.title(\"world baseModel Forcast\", fontsize=16) # set title\n",
    "plt.ylabel('Cases', fontsize=18) #set y axis name and size\n",
    "plt.xlabel('ds', fontsize=18);#set x axis name and size"
   ]
  },
  {
   "cell_type": "code",
   "execution_count": 21,
   "id": "tropical-allergy",
   "metadata": {},
   "outputs": [
    {
     "data": {
      "image/png": "[encoded data removed]",
      "text/plain": [
       "<Figure size 1800x360 with 1 Axes>"
      ]
     },
     "metadata": {
      "needs_background": "light"
     },
     "output_type": "display_data"
    }
   ],
   "source": [
    "#Saudi\n",
    "p3.plot(\"ds\",\"y\",figsize=(25, 5)) # plot the data\n",
    "plt.title(\"Saudi baseModel Forcast\", fontsize=16) # set title\n",
    "plt.ylabel('Cases', fontsize=18) #set y axis name and size\n",
    "plt.xlabel('ds', fontsize=18);#set x axis name and size"
   ]
  },
  {
   "cell_type": "markdown",
   "id": "large-institute",
   "metadata": {},
   "source": [
    "### Baseline Model Scores"
   ]
  },
  {
   "cell_type": "code",
   "execution_count": 22,
   "id": "unlikely-optimization",
   "metadata": {},
   "outputs": [],
   "source": [
    "from sklearn.metrics import mean_absolute_error"
   ]
  },
  {
   "cell_type": "markdown",
   "id": "mature-beast",
   "metadata": {},
   "source": [
    "##### International Baseline Model Score"
   ]
  },
  {
   "cell_type": "code",
   "execution_count": 23,
   "id": "apart-marketplace",
   "metadata": {},
   "outputs": [
    {
     "data": {
      "text/plain": [
       "8.011111111111111"
      ]
     },
     "execution_count": 23,
     "metadata": {},
     "output_type": "execute_result"
    }
   ],
   "source": [
    "mean_absolute_error(International.y[:90], Int)"
   ]
  },
  {
   "cell_type": "markdown",
   "id": "celtic-orleans",
   "metadata": {},
   "source": [
    "##### World Baseline Model Score"
   ]
  },
  {
   "cell_type": "code",
   "execution_count": 24,
   "id": "suspended-victoria",
   "metadata": {},
   "outputs": [
    {
     "data": {
      "text/plain": [
       "487182.5"
      ]
     },
     "execution_count": 24,
     "metadata": {},
     "output_type": "execute_result"
    }
   ],
   "source": [
    "mean_absolute_error(world.y[:90], w)"
   ]
  },
  {
   "cell_type": "markdown",
   "id": "insured-height",
   "metadata": {},
   "source": [
    "##### Saudi Baseline Model Score"
   ]
  },
  {
   "cell_type": "code",
   "execution_count": 25,
   "id": "earlier-humanity",
   "metadata": {},
   "outputs": [
    {
     "data": {
      "text/plain": [
       "804.3555555555556"
      ]
     },
     "execution_count": 25,
     "metadata": {},
     "output_type": "execute_result"
    }
   ],
   "source": [
    "mean_absolute_error(Saudi.y[:90], S)"
   ]
  },
  {
   "cell_type": "markdown",
   "id": "played-imperial",
   "metadata": {},
   "source": [
    "### Prophet Models"
   ]
  },
  {
   "cell_type": "code",
   "execution_count": 26,
   "id": "economic-sociology",
   "metadata": {},
   "outputs": [],
   "source": [
    "from fbprophet import Prophet # import propht"
   ]
  },
  {
   "cell_type": "markdown",
   "id": "stainless-proposal",
   "metadata": {},
   "source": [
    "#### International Prophet Model"
   ]
  },
  {
   "cell_type": "code",
   "execution_count": 27,
   "id": "outdoor-wiring",
   "metadata": {},
   "outputs": [
    {
     "name": "stderr",
     "output_type": "stream",
     "text": [
      "INFO:fbprophet:Disabling yearly seasonality. Run prophet with yearly_seasonality=True to override this.\n",
      "INFO:fbprophet:Disabling daily seasonality. Run prophet with daily_seasonality=True to override this.\n"
     ]
    },
    {
     "data": {
      "text/plain": [
       "<fbprophet.forecaster.Prophet at 0x27226821520>"
      ]
     },
     "execution_count": 27,
     "metadata": {},
     "output_type": "execute_result"
    }
   ],
   "source": [
    "m = Prophet() # set up model\n",
    "m.fit(International) # fit model"
   ]
  },
  {
   "cell_type": "code",
   "execution_count": 28,
   "id": "continuing-gregory",
   "metadata": {},
   "outputs": [],
   "source": [
    "future_Int = m.make_future_dataframe(periods=365)\n",
    "#make a dataframe to hold your future value predictions"
   ]
  },
  {
   "cell_type": "code",
   "execution_count": 29,
   "id": "gorgeous-regular",
   "metadata": {},
   "outputs": [
    {
     "data": {
      "text/html": [
       "<div>\n",
       "<style scoped>\n",
       "    .dataframe tbody tr th:only-of-type {\n",
       "        vertical-align: middle;\n",
       "    }\n",
       "\n",
       "    .dataframe tbody tr th {\n",
       "        vertical-align: top;\n",
       "    }\n",
       "\n",
       "    .dataframe thead th {\n",
       "        text-align: right;\n",
       "    }\n",
       "</style>\n",
       "<table border=\"1\" class=\"dataframe\">\n",
       "  <thead>\n",
       "    <tr style=\"text-align: right;\">\n",
       "      <th></th>\n",
       "      <th>ds</th>\n",
       "    </tr>\n",
       "  </thead>\n",
       "  <tbody>\n",
       "    <tr>\n",
       "      <th>731</th>\n",
       "      <td>2022-02-07</td>\n",
       "    </tr>\n",
       "    <tr>\n",
       "      <th>732</th>\n",
       "      <td>2022-02-08</td>\n",
       "    </tr>\n",
       "    <tr>\n",
       "      <th>733</th>\n",
       "      <td>2022-02-09</td>\n",
       "    </tr>\n",
       "    <tr>\n",
       "      <th>734</th>\n",
       "      <td>2022-02-10</td>\n",
       "    </tr>\n",
       "    <tr>\n",
       "      <th>735</th>\n",
       "      <td>2022-02-11</td>\n",
       "    </tr>\n",
       "  </tbody>\n",
       "</table>\n",
       "</div>"
      ],
      "text/plain": [
       "            ds\n",
       "731 2022-02-07\n",
       "732 2022-02-08\n",
       "733 2022-02-09\n",
       "734 2022-02-10\n",
       "735 2022-02-11"
      ]
     },
     "execution_count": 29,
     "metadata": {},
     "output_type": "execute_result"
    }
   ],
   "source": [
    "future_Int.tail() # see the data"
   ]
  },
  {
   "cell_type": "code",
   "execution_count": 30,
   "id": "grave-fraction",
   "metadata": {},
   "outputs": [
    {
     "data": {
      "text/html": [
       "<div>\n",
       "<style scoped>\n",
       "    .dataframe tbody tr th:only-of-type {\n",
       "        vertical-align: middle;\n",
       "    }\n",
       "\n",
       "    .dataframe tbody tr th {\n",
       "        vertical-align: top;\n",
       "    }\n",
       "\n",
       "    .dataframe thead th {\n",
       "        text-align: right;\n",
       "    }\n",
       "</style>\n",
       "<table border=\"1\" class=\"dataframe\">\n",
       "  <thead>\n",
       "    <tr style=\"text-align: right;\">\n",
       "      <th></th>\n",
       "      <th>ds</th>\n",
       "      <th>trend</th>\n",
       "      <th>yhat_lower</th>\n",
       "      <th>yhat_upper</th>\n",
       "      <th>trend_lower</th>\n",
       "      <th>trend_upper</th>\n",
       "      <th>additive_terms</th>\n",
       "      <th>additive_terms_lower</th>\n",
       "      <th>additive_terms_upper</th>\n",
       "      <th>weekly</th>\n",
       "      <th>weekly_lower</th>\n",
       "      <th>weekly_upper</th>\n",
       "      <th>multiplicative_terms</th>\n",
       "      <th>multiplicative_terms_lower</th>\n",
       "      <th>multiplicative_terms_upper</th>\n",
       "      <th>yhat</th>\n",
       "    </tr>\n",
       "  </thead>\n",
       "  <tbody>\n",
       "    <tr>\n",
       "      <th>0</th>\n",
       "      <td>2020-02-07</td>\n",
       "      <td>20.702194</td>\n",
       "      <td>7.750488</td>\n",
       "      <td>32.810530</td>\n",
       "      <td>20.702194</td>\n",
       "      <td>20.702194</td>\n",
       "      <td>-0.151995</td>\n",
       "      <td>-0.151995</td>\n",
       "      <td>-0.151995</td>\n",
       "      <td>-0.151995</td>\n",
       "      <td>-0.151995</td>\n",
       "      <td>-0.151995</td>\n",
       "      <td>0.0</td>\n",
       "      <td>0.0</td>\n",
       "      <td>0.0</td>\n",
       "      <td>20.550199</td>\n",
       "    </tr>\n",
       "    <tr>\n",
       "      <th>1</th>\n",
       "      <td>2020-02-08</td>\n",
       "      <td>20.401033</td>\n",
       "      <td>7.101441</td>\n",
       "      <td>32.040009</td>\n",
       "      <td>20.401033</td>\n",
       "      <td>20.401033</td>\n",
       "      <td>-0.753577</td>\n",
       "      <td>-0.753577</td>\n",
       "      <td>-0.753577</td>\n",
       "      <td>-0.753577</td>\n",
       "      <td>-0.753577</td>\n",
       "      <td>-0.753577</td>\n",
       "      <td>0.0</td>\n",
       "      <td>0.0</td>\n",
       "      <td>0.0</td>\n",
       "      <td>19.647456</td>\n",
       "    </tr>\n",
       "    <tr>\n",
       "      <th>2</th>\n",
       "      <td>2020-02-09</td>\n",
       "      <td>20.099873</td>\n",
       "      <td>7.985953</td>\n",
       "      <td>32.907351</td>\n",
       "      <td>20.099873</td>\n",
       "      <td>20.099873</td>\n",
       "      <td>0.454282</td>\n",
       "      <td>0.454282</td>\n",
       "      <td>0.454282</td>\n",
       "      <td>0.454282</td>\n",
       "      <td>0.454282</td>\n",
       "      <td>0.454282</td>\n",
       "      <td>0.0</td>\n",
       "      <td>0.0</td>\n",
       "      <td>0.0</td>\n",
       "      <td>20.554155</td>\n",
       "    </tr>\n",
       "    <tr>\n",
       "      <th>3</th>\n",
       "      <td>2020-02-10</td>\n",
       "      <td>19.798712</td>\n",
       "      <td>9.585402</td>\n",
       "      <td>32.647644</td>\n",
       "      <td>19.798712</td>\n",
       "      <td>19.798712</td>\n",
       "      <td>1.265996</td>\n",
       "      <td>1.265996</td>\n",
       "      <td>1.265996</td>\n",
       "      <td>1.265996</td>\n",
       "      <td>1.265996</td>\n",
       "      <td>1.265996</td>\n",
       "      <td>0.0</td>\n",
       "      <td>0.0</td>\n",
       "      <td>0.0</td>\n",
       "      <td>21.064708</td>\n",
       "    </tr>\n",
       "    <tr>\n",
       "      <th>4</th>\n",
       "      <td>2020-02-11</td>\n",
       "      <td>19.497552</td>\n",
       "      <td>8.198238</td>\n",
       "      <td>32.023564</td>\n",
       "      <td>19.497552</td>\n",
       "      <td>19.497552</td>\n",
       "      <td>-0.206922</td>\n",
       "      <td>-0.206922</td>\n",
       "      <td>-0.206922</td>\n",
       "      <td>-0.206922</td>\n",
       "      <td>-0.206922</td>\n",
       "      <td>-0.206922</td>\n",
       "      <td>0.0</td>\n",
       "      <td>0.0</td>\n",
       "      <td>0.0</td>\n",
       "      <td>19.290630</td>\n",
       "    </tr>\n",
       "    <tr>\n",
       "      <th>...</th>\n",
       "      <td>...</td>\n",
       "      <td>...</td>\n",
       "      <td>...</td>\n",
       "      <td>...</td>\n",
       "      <td>...</td>\n",
       "      <td>...</td>\n",
       "      <td>...</td>\n",
       "      <td>...</td>\n",
       "      <td>...</td>\n",
       "      <td>...</td>\n",
       "      <td>...</td>\n",
       "      <td>...</td>\n",
       "      <td>...</td>\n",
       "      <td>...</td>\n",
       "      <td>...</td>\n",
       "      <td>...</td>\n",
       "    </tr>\n",
       "    <tr>\n",
       "      <th>731</th>\n",
       "      <td>2022-02-07</td>\n",
       "      <td>-0.346873</td>\n",
       "      <td>-23.171782</td>\n",
       "      <td>25.090767</td>\n",
       "      <td>-20.590137</td>\n",
       "      <td>21.647048</td>\n",
       "      <td>1.265996</td>\n",
       "      <td>1.265996</td>\n",
       "      <td>1.265996</td>\n",
       "      <td>1.265996</td>\n",
       "      <td>1.265996</td>\n",
       "      <td>1.265996</td>\n",
       "      <td>0.0</td>\n",
       "      <td>0.0</td>\n",
       "      <td>0.0</td>\n",
       "      <td>0.919123</td>\n",
       "    </tr>\n",
       "    <tr>\n",
       "      <th>732</th>\n",
       "      <td>2022-02-08</td>\n",
       "      <td>-0.347309</td>\n",
       "      <td>-26.362863</td>\n",
       "      <td>25.227735</td>\n",
       "      <td>-20.667110</td>\n",
       "      <td>21.730805</td>\n",
       "      <td>-0.206922</td>\n",
       "      <td>-0.206922</td>\n",
       "      <td>-0.206922</td>\n",
       "      <td>-0.206922</td>\n",
       "      <td>-0.206922</td>\n",
       "      <td>-0.206922</td>\n",
       "      <td>0.0</td>\n",
       "      <td>0.0</td>\n",
       "      <td>0.0</td>\n",
       "      <td>-0.554231</td>\n",
       "    </tr>\n",
       "    <tr>\n",
       "      <th>733</th>\n",
       "      <td>2022-02-09</td>\n",
       "      <td>-0.347745</td>\n",
       "      <td>-23.456983</td>\n",
       "      <td>26.359738</td>\n",
       "      <td>-20.743072</td>\n",
       "      <td>21.867411</td>\n",
       "      <td>0.923393</td>\n",
       "      <td>0.923393</td>\n",
       "      <td>0.923393</td>\n",
       "      <td>0.923393</td>\n",
       "      <td>0.923393</td>\n",
       "      <td>0.923393</td>\n",
       "      <td>0.0</td>\n",
       "      <td>0.0</td>\n",
       "      <td>0.0</td>\n",
       "      <td>0.575649</td>\n",
       "    </tr>\n",
       "    <tr>\n",
       "      <th>734</th>\n",
       "      <td>2022-02-10</td>\n",
       "      <td>-0.348180</td>\n",
       "      <td>-25.609757</td>\n",
       "      <td>24.169523</td>\n",
       "      <td>-20.804131</td>\n",
       "      <td>22.011928</td>\n",
       "      <td>-1.531178</td>\n",
       "      <td>-1.531178</td>\n",
       "      <td>-1.531178</td>\n",
       "      <td>-1.531178</td>\n",
       "      <td>-1.531178</td>\n",
       "      <td>-1.531178</td>\n",
       "      <td>0.0</td>\n",
       "      <td>0.0</td>\n",
       "      <td>0.0</td>\n",
       "      <td>-1.879358</td>\n",
       "    </tr>\n",
       "    <tr>\n",
       "      <th>735</th>\n",
       "      <td>2022-02-11</td>\n",
       "      <td>-0.348616</td>\n",
       "      <td>-24.616939</td>\n",
       "      <td>26.024826</td>\n",
       "      <td>-20.846973</td>\n",
       "      <td>22.156446</td>\n",
       "      <td>-0.151995</td>\n",
       "      <td>-0.151995</td>\n",
       "      <td>-0.151995</td>\n",
       "      <td>-0.151995</td>\n",
       "      <td>-0.151995</td>\n",
       "      <td>-0.151995</td>\n",
       "      <td>0.0</td>\n",
       "      <td>0.0</td>\n",
       "      <td>0.0</td>\n",
       "      <td>-0.500610</td>\n",
       "    </tr>\n",
       "  </tbody>\n",
       "</table>\n",
       "<p>736 rows × 16 columns</p>\n",
       "</div>"
      ],
      "text/plain": [
       "            ds      trend  yhat_lower  yhat_upper  trend_lower  trend_upper  \\\n",
       "0   2020-02-07  20.702194    7.750488   32.810530    20.702194    20.702194   \n",
       "1   2020-02-08  20.401033    7.101441   32.040009    20.401033    20.401033   \n",
       "2   2020-02-09  20.099873    7.985953   32.907351    20.099873    20.099873   \n",
       "3   2020-02-10  19.798712    9.585402   32.647644    19.798712    19.798712   \n",
       "4   2020-02-11  19.497552    8.198238   32.023564    19.497552    19.497552   \n",
       "..         ...        ...         ...         ...          ...          ...   \n",
       "731 2022-02-07  -0.346873  -23.171782   25.090767   -20.590137    21.647048   \n",
       "732 2022-02-08  -0.347309  -26.362863   25.227735   -20.667110    21.730805   \n",
       "733 2022-02-09  -0.347745  -23.456983   26.359738   -20.743072    21.867411   \n",
       "734 2022-02-10  -0.348180  -25.609757   24.169523   -20.804131    22.011928   \n",
       "735 2022-02-11  -0.348616  -24.616939   26.024826   -20.846973    22.156446   \n",
       "\n",
       "     additive_terms  additive_terms_lower  additive_terms_upper    weekly  \\\n",
       "0         -0.151995             -0.151995             -0.151995 -0.151995   \n",
       "1         -0.753577             -0.753577             -0.753577 -0.753577   \n",
       "2          0.454282              0.454282              0.454282  0.454282   \n",
       "3          1.265996              1.265996              1.265996  1.265996   \n",
       "4         -0.206922             -0.206922             -0.206922 -0.206922   \n",
       "..              ...                   ...                   ...       ...   \n",
       "731        1.265996              1.265996              1.265996  1.265996   \n",
       "732       -0.206922             -0.206922             -0.206922 -0.206922   \n",
       "733        0.923393              0.923393              0.923393  0.923393   \n",
       "734       -1.531178             -1.531178             -1.531178 -1.531178   \n",
       "735       -0.151995             -0.151995             -0.151995 -0.151995   \n",
       "\n",
       "     weekly_lower  weekly_upper  multiplicative_terms  \\\n",
       "0       -0.151995     -0.151995                   0.0   \n",
       "1       -0.753577     -0.753577                   0.0   \n",
       "2        0.454282      0.454282                   0.0   \n",
       "3        1.265996      1.265996                   0.0   \n",
       "4       -0.206922     -0.206922                   0.0   \n",
       "..            ...           ...                   ...   \n",
       "731      1.265996      1.265996                   0.0   \n",
       "732     -0.206922     -0.206922                   0.0   \n",
       "733      0.923393      0.923393                   0.0   \n",
       "734     -1.531178     -1.531178                   0.0   \n",
       "735     -0.151995     -0.151995                   0.0   \n",
       "\n",
       "     multiplicative_terms_lower  multiplicative_terms_upper       yhat  \n",
       "0                           0.0                         0.0  20.550199  \n",
       "1                           0.0                         0.0  19.647456  \n",
       "2                           0.0                         0.0  20.554155  \n",
       "3                           0.0                         0.0  21.064708  \n",
       "4                           0.0                         0.0  19.290630  \n",
       "..                          ...                         ...        ...  \n",
       "731                         0.0                         0.0   0.919123  \n",
       "732                         0.0                         0.0  -0.554231  \n",
       "733                         0.0                         0.0   0.575649  \n",
       "734                         0.0                         0.0  -1.879358  \n",
       "735                         0.0                         0.0  -0.500610  \n",
       "\n",
       "[736 rows x 16 columns]"
      ]
     },
     "execution_count": 30,
     "metadata": {},
     "output_type": "execute_result"
    }
   ],
   "source": [
    "m.predict(future_Int) #  make a forecast "
   ]
  },
  {
   "cell_type": "code",
   "execution_count": 31,
   "id": "brazilian-turning",
   "metadata": {},
   "outputs": [
    {
     "data": {
      "text/html": [
       "<div>\n",
       "<style scoped>\n",
       "    .dataframe tbody tr th:only-of-type {\n",
       "        vertical-align: middle;\n",
       "    }\n",
       "\n",
       "    .dataframe tbody tr th {\n",
       "        vertical-align: top;\n",
       "    }\n",
       "\n",
       "    .dataframe thead th {\n",
       "        text-align: right;\n",
       "    }\n",
       "</style>\n",
       "<table border=\"1\" class=\"dataframe\">\n",
       "  <thead>\n",
       "    <tr style=\"text-align: right;\">\n",
       "      <th></th>\n",
       "      <th>ds</th>\n",
       "      <th>yhat</th>\n",
       "      <th>yhat_lower</th>\n",
       "      <th>yhat_upper</th>\n",
       "    </tr>\n",
       "  </thead>\n",
       "  <tbody>\n",
       "    <tr>\n",
       "      <th>731</th>\n",
       "      <td>2022-02-07</td>\n",
       "      <td>0.919123</td>\n",
       "      <td>-22.839603</td>\n",
       "      <td>27.049937</td>\n",
       "    </tr>\n",
       "    <tr>\n",
       "      <th>732</th>\n",
       "      <td>2022-02-08</td>\n",
       "      <td>-0.554231</td>\n",
       "      <td>-26.204714</td>\n",
       "      <td>26.348030</td>\n",
       "    </tr>\n",
       "    <tr>\n",
       "      <th>733</th>\n",
       "      <td>2022-02-09</td>\n",
       "      <td>0.575649</td>\n",
       "      <td>-24.506168</td>\n",
       "      <td>27.231167</td>\n",
       "    </tr>\n",
       "    <tr>\n",
       "      <th>734</th>\n",
       "      <td>2022-02-10</td>\n",
       "      <td>-1.879358</td>\n",
       "      <td>-26.934668</td>\n",
       "      <td>23.308032</td>\n",
       "    </tr>\n",
       "    <tr>\n",
       "      <th>735</th>\n",
       "      <td>2022-02-11</td>\n",
       "      <td>-0.500610</td>\n",
       "      <td>-25.459673</td>\n",
       "      <td>25.362906</td>\n",
       "    </tr>\n",
       "  </tbody>\n",
       "</table>\n",
       "</div>"
      ],
      "text/plain": [
       "            ds      yhat  yhat_lower  yhat_upper\n",
       "731 2022-02-07  0.919123  -22.839603   27.049937\n",
       "732 2022-02-08 -0.554231  -26.204714   26.348030\n",
       "733 2022-02-09  0.575649  -24.506168   27.231167\n",
       "734 2022-02-10 -1.879358  -26.934668   23.308032\n",
       "735 2022-02-11 -0.500610  -25.459673   25.362906"
      ]
     },
     "execution_count": 31,
     "metadata": {},
     "output_type": "execute_result"
    }
   ],
   "source": [
    "forecast_Int = m.predict(future_Int) #  make a forecast \n",
    "forecast_Int[['ds', 'yhat', 'yhat_lower', 'yhat_upper']].tail() # chosen columns"
   ]
  },
  {
   "cell_type": "markdown",
   "id": "restricted-livestock",
   "metadata": {},
   "source": [
    "#### Plot the Forecast for International Data"
   ]
  },
  {
   "cell_type": "code",
   "execution_count": 32,
   "id": "recorded-librarian",
   "metadata": {},
   "outputs": [
    {
     "data": {
      "image/png": "[encoded data removed]",
      "text/plain": [
       "<Figure size 720x432 with 1 Axes>"
      ]
     },
     "metadata": {},
     "output_type": "display_data"
    }
   ],
   "source": [
    "m.plot(forecast_Int); # plot \n",
    "plt.title(\"International Forcast\", fontsize=16) # set title\n",
    "plt.ylabel('Y', fontsize=18) #set y axis name and size\n",
    "plt.xlabel('ds', fontsize=18);#set x axis name and size"
   ]
  },
  {
   "cell_type": "markdown",
   "id": "cheap-snake",
   "metadata": {},
   "source": [
    " - Black dots: actual values\n",
    " - Blue lines: upper, actual (dark blue), lower windows for yhat\n",
    " - Blue blob: prediction window (yhat window)"
   ]
  },
  {
   "cell_type": "markdown",
   "id": "guided-corruption",
   "metadata": {},
   "source": [
    "### Plot Components of International Forcast (Trend,Weekly)"
   ]
  },
  {
   "cell_type": "code",
   "execution_count": 33,
   "id": "contemporary-glory",
   "metadata": {},
   "outputs": [
    {
     "data": {
      "image/png": "[encoded data removed]",
      "text/plain": [
       "<Figure size 648x432 with 2 Axes>"
      ]
     },
     "metadata": {},
     "output_type": "display_data"
    }
   ],
   "source": [
    "m.plot_components(forecast_Int);#plot"
   ]
  },
  {
   "cell_type": "markdown",
   "id": "thrown-roman",
   "metadata": {},
   "source": [
    "#### World Prophet Model"
   ]
  },
  {
   "cell_type": "code",
   "execution_count": 34,
   "id": "tested-popularity",
   "metadata": {},
   "outputs": [
    {
     "name": "stderr",
     "output_type": "stream",
     "text": [
      "INFO:fbprophet:Disabling yearly seasonality. Run prophet with yearly_seasonality=True to override this.\n",
      "INFO:fbprophet:Disabling daily seasonality. Run prophet with daily_seasonality=True to override this.\n"
     ]
    },
    {
     "data": {
      "text/plain": [
       "<fbprophet.forecaster.Prophet at 0x27228ceb7c0>"
      ]
     },
     "execution_count": 34,
     "metadata": {},
     "output_type": "execute_result"
    }
   ],
   "source": [
    "m1 = Prophet() # set up model \n",
    "m1.fit(world) # fit model"
   ]
  },
  {
   "cell_type": "code",
   "execution_count": 35,
   "id": "embedded-hacker",
   "metadata": {},
   "outputs": [],
   "source": [
    "future_W = m.make_future_dataframe(periods=365)\n",
    "#make a dataframe to hold your future value predictions"
   ]
  },
  {
   "cell_type": "code",
   "execution_count": 36,
   "id": "musical-cabin",
   "metadata": {},
   "outputs": [
    {
     "data": {
      "text/html": [
       "<div>\n",
       "<style scoped>\n",
       "    .dataframe tbody tr th:only-of-type {\n",
       "        vertical-align: middle;\n",
       "    }\n",
       "\n",
       "    .dataframe tbody tr th {\n",
       "        vertical-align: top;\n",
       "    }\n",
       "\n",
       "    .dataframe thead th {\n",
       "        text-align: right;\n",
       "    }\n",
       "</style>\n",
       "<table border=\"1\" class=\"dataframe\">\n",
       "  <thead>\n",
       "    <tr style=\"text-align: right;\">\n",
       "      <th></th>\n",
       "      <th>ds</th>\n",
       "    </tr>\n",
       "  </thead>\n",
       "  <tbody>\n",
       "    <tr>\n",
       "      <th>731</th>\n",
       "      <td>2022-02-07</td>\n",
       "    </tr>\n",
       "    <tr>\n",
       "      <th>732</th>\n",
       "      <td>2022-02-08</td>\n",
       "    </tr>\n",
       "    <tr>\n",
       "      <th>733</th>\n",
       "      <td>2022-02-09</td>\n",
       "    </tr>\n",
       "    <tr>\n",
       "      <th>734</th>\n",
       "      <td>2022-02-10</td>\n",
       "    </tr>\n",
       "    <tr>\n",
       "      <th>735</th>\n",
       "      <td>2022-02-11</td>\n",
       "    </tr>\n",
       "  </tbody>\n",
       "</table>\n",
       "</div>"
      ],
      "text/plain": [
       "            ds\n",
       "731 2022-02-07\n",
       "732 2022-02-08\n",
       "733 2022-02-09\n",
       "734 2022-02-10\n",
       "735 2022-02-11"
      ]
     },
     "execution_count": 36,
     "metadata": {},
     "output_type": "execute_result"
    }
   ],
   "source": [
    "future_W.tail() # see the data"
   ]
  },
  {
   "cell_type": "code",
   "execution_count": 37,
   "id": "employed-pitch",
   "metadata": {},
   "outputs": [
    {
     "data": {
      "text/html": [
       "<div>\n",
       "<style scoped>\n",
       "    .dataframe tbody tr th:only-of-type {\n",
       "        vertical-align: middle;\n",
       "    }\n",
       "\n",
       "    .dataframe tbody tr th {\n",
       "        vertical-align: top;\n",
       "    }\n",
       "\n",
       "    .dataframe thead th {\n",
       "        text-align: right;\n",
       "    }\n",
       "</style>\n",
       "<table border=\"1\" class=\"dataframe\">\n",
       "  <thead>\n",
       "    <tr style=\"text-align: right;\">\n",
       "      <th></th>\n",
       "      <th>ds</th>\n",
       "      <th>trend</th>\n",
       "      <th>yhat_lower</th>\n",
       "      <th>yhat_upper</th>\n",
       "      <th>trend_lower</th>\n",
       "      <th>trend_upper</th>\n",
       "      <th>additive_terms</th>\n",
       "      <th>additive_terms_lower</th>\n",
       "      <th>additive_terms_upper</th>\n",
       "      <th>weekly</th>\n",
       "      <th>weekly_lower</th>\n",
       "      <th>weekly_upper</th>\n",
       "      <th>multiplicative_terms</th>\n",
       "      <th>multiplicative_terms_lower</th>\n",
       "      <th>multiplicative_terms_upper</th>\n",
       "      <th>yhat</th>\n",
       "    </tr>\n",
       "  </thead>\n",
       "  <tbody>\n",
       "    <tr>\n",
       "      <th>0</th>\n",
       "      <td>2020-02-07</td>\n",
       "      <td>-10608.346258</td>\n",
       "      <td>-45724.549348</td>\n",
       "      <td>8.736507e+04</td>\n",
       "      <td>-10608.346258</td>\n",
       "      <td>-1.060835e+04</td>\n",
       "      <td>27655.449735</td>\n",
       "      <td>27655.449735</td>\n",
       "      <td>27655.449735</td>\n",
       "      <td>27655.449735</td>\n",
       "      <td>27655.449735</td>\n",
       "      <td>27655.449735</td>\n",
       "      <td>0.0</td>\n",
       "      <td>0.0</td>\n",
       "      <td>0.0</td>\n",
       "      <td>17047.103477</td>\n",
       "    </tr>\n",
       "    <tr>\n",
       "      <th>1</th>\n",
       "      <td>2020-02-08</td>\n",
       "      <td>-9411.974851</td>\n",
       "      <td>-80139.405769</td>\n",
       "      <td>6.061194e+04</td>\n",
       "      <td>-9411.974851</td>\n",
       "      <td>-9.411975e+03</td>\n",
       "      <td>-1318.119703</td>\n",
       "      <td>-1318.119703</td>\n",
       "      <td>-1318.119703</td>\n",
       "      <td>-1318.119703</td>\n",
       "      <td>-1318.119703</td>\n",
       "      <td>-1318.119703</td>\n",
       "      <td>0.0</td>\n",
       "      <td>0.0</td>\n",
       "      <td>0.0</td>\n",
       "      <td>-10730.094554</td>\n",
       "    </tr>\n",
       "    <tr>\n",
       "      <th>2</th>\n",
       "      <td>2020-02-09</td>\n",
       "      <td>-8215.603445</td>\n",
       "      <td>-114781.578549</td>\n",
       "      <td>1.769655e+04</td>\n",
       "      <td>-8215.603445</td>\n",
       "      <td>-8.215603e+03</td>\n",
       "      <td>-42280.738107</td>\n",
       "      <td>-42280.738107</td>\n",
       "      <td>-42280.738107</td>\n",
       "      <td>-42280.738107</td>\n",
       "      <td>-42280.738107</td>\n",
       "      <td>-42280.738107</td>\n",
       "      <td>0.0</td>\n",
       "      <td>0.0</td>\n",
       "      <td>0.0</td>\n",
       "      <td>-50496.341552</td>\n",
       "    </tr>\n",
       "    <tr>\n",
       "      <th>3</th>\n",
       "      <td>2020-02-10</td>\n",
       "      <td>-7019.232038</td>\n",
       "      <td>-107838.482901</td>\n",
       "      <td>2.705823e+04</td>\n",
       "      <td>-7019.232038</td>\n",
       "      <td>-7.019232e+03</td>\n",
       "      <td>-33592.304953</td>\n",
       "      <td>-33592.304953</td>\n",
       "      <td>-33592.304953</td>\n",
       "      <td>-33592.304953</td>\n",
       "      <td>-33592.304953</td>\n",
       "      <td>-33592.304953</td>\n",
       "      <td>0.0</td>\n",
       "      <td>0.0</td>\n",
       "      <td>0.0</td>\n",
       "      <td>-40611.536992</td>\n",
       "    </tr>\n",
       "    <tr>\n",
       "      <th>4</th>\n",
       "      <td>2020-02-11</td>\n",
       "      <td>-5822.860632</td>\n",
       "      <td>-75615.954735</td>\n",
       "      <td>6.134239e+04</td>\n",
       "      <td>-5822.860632</td>\n",
       "      <td>-5.822861e+03</td>\n",
       "      <td>-532.618487</td>\n",
       "      <td>-532.618487</td>\n",
       "      <td>-532.618487</td>\n",
       "      <td>-532.618487</td>\n",
       "      <td>-532.618487</td>\n",
       "      <td>-532.618487</td>\n",
       "      <td>0.0</td>\n",
       "      <td>0.0</td>\n",
       "      <td>0.0</td>\n",
       "      <td>-6355.479119</td>\n",
       "    </tr>\n",
       "    <tr>\n",
       "      <th>...</th>\n",
       "      <td>...</td>\n",
       "      <td>...</td>\n",
       "      <td>...</td>\n",
       "      <td>...</td>\n",
       "      <td>...</td>\n",
       "      <td>...</td>\n",
       "      <td>...</td>\n",
       "      <td>...</td>\n",
       "      <td>...</td>\n",
       "      <td>...</td>\n",
       "      <td>...</td>\n",
       "      <td>...</td>\n",
       "      <td>...</td>\n",
       "      <td>...</td>\n",
       "      <td>...</td>\n",
       "      <td>...</td>\n",
       "    </tr>\n",
       "    <tr>\n",
       "      <th>731</th>\n",
       "      <td>2022-02-07</td>\n",
       "      <td>438946.725143</td>\n",
       "      <td>-232967.113181</td>\n",
       "      <td>9.904519e+05</td>\n",
       "      <td>-187509.211812</td>\n",
       "      <td>1.017548e+06</td>\n",
       "      <td>-33592.304953</td>\n",
       "      <td>-33592.304953</td>\n",
       "      <td>-33592.304953</td>\n",
       "      <td>-33592.304953</td>\n",
       "      <td>-33592.304953</td>\n",
       "      <td>-33592.304953</td>\n",
       "      <td>0.0</td>\n",
       "      <td>0.0</td>\n",
       "      <td>0.0</td>\n",
       "      <td>405354.420189</td>\n",
       "    </tr>\n",
       "    <tr>\n",
       "      <th>732</th>\n",
       "      <td>2022-02-08</td>\n",
       "      <td>438579.915066</td>\n",
       "      <td>-198696.623349</td>\n",
       "      <td>1.008940e+06</td>\n",
       "      <td>-189262.810180</td>\n",
       "      <td>1.018651e+06</td>\n",
       "      <td>-532.618487</td>\n",
       "      <td>-532.618487</td>\n",
       "      <td>-532.618487</td>\n",
       "      <td>-532.618487</td>\n",
       "      <td>-532.618487</td>\n",
       "      <td>-532.618487</td>\n",
       "      <td>0.0</td>\n",
       "      <td>0.0</td>\n",
       "      <td>0.0</td>\n",
       "      <td>438047.296580</td>\n",
       "    </tr>\n",
       "    <tr>\n",
       "      <th>733</th>\n",
       "      <td>2022-02-09</td>\n",
       "      <td>438213.104990</td>\n",
       "      <td>-173719.871305</td>\n",
       "      <td>1.056754e+06</td>\n",
       "      <td>-191016.408549</td>\n",
       "      <td>1.019862e+06</td>\n",
       "      <td>23034.541194</td>\n",
       "      <td>23034.541194</td>\n",
       "      <td>23034.541194</td>\n",
       "      <td>23034.541194</td>\n",
       "      <td>23034.541194</td>\n",
       "      <td>23034.541194</td>\n",
       "      <td>0.0</td>\n",
       "      <td>0.0</td>\n",
       "      <td>0.0</td>\n",
       "      <td>461247.646184</td>\n",
       "    </tr>\n",
       "    <tr>\n",
       "      <th>734</th>\n",
       "      <td>2022-02-10</td>\n",
       "      <td>437846.294914</td>\n",
       "      <td>-164920.909815</td>\n",
       "      <td>1.065566e+06</td>\n",
       "      <td>-194739.977096</td>\n",
       "      <td>1.020831e+06</td>\n",
       "      <td>27033.790321</td>\n",
       "      <td>27033.790321</td>\n",
       "      <td>27033.790321</td>\n",
       "      <td>27033.790321</td>\n",
       "      <td>27033.790321</td>\n",
       "      <td>27033.790321</td>\n",
       "      <td>0.0</td>\n",
       "      <td>0.0</td>\n",
       "      <td>0.0</td>\n",
       "      <td>464880.085235</td>\n",
       "    </tr>\n",
       "    <tr>\n",
       "      <th>735</th>\n",
       "      <td>2022-02-11</td>\n",
       "      <td>437479.484837</td>\n",
       "      <td>-169972.419291</td>\n",
       "      <td>1.042347e+06</td>\n",
       "      <td>-196640.188182</td>\n",
       "      <td>1.023494e+06</td>\n",
       "      <td>27655.449735</td>\n",
       "      <td>27655.449735</td>\n",
       "      <td>27655.449735</td>\n",
       "      <td>27655.449735</td>\n",
       "      <td>27655.449735</td>\n",
       "      <td>27655.449735</td>\n",
       "      <td>0.0</td>\n",
       "      <td>0.0</td>\n",
       "      <td>0.0</td>\n",
       "      <td>465134.934572</td>\n",
       "    </tr>\n",
       "  </tbody>\n",
       "</table>\n",
       "<p>736 rows × 16 columns</p>\n",
       "</div>"
      ],
      "text/plain": [
       "            ds          trend     yhat_lower    yhat_upper    trend_lower  \\\n",
       "0   2020-02-07  -10608.346258  -45724.549348  8.736507e+04  -10608.346258   \n",
       "1   2020-02-08   -9411.974851  -80139.405769  6.061194e+04   -9411.974851   \n",
       "2   2020-02-09   -8215.603445 -114781.578549  1.769655e+04   -8215.603445   \n",
       "3   2020-02-10   -7019.232038 -107838.482901  2.705823e+04   -7019.232038   \n",
       "4   2020-02-11   -5822.860632  -75615.954735  6.134239e+04   -5822.860632   \n",
       "..         ...            ...            ...           ...            ...   \n",
       "731 2022-02-07  438946.725143 -232967.113181  9.904519e+05 -187509.211812   \n",
       "732 2022-02-08  438579.915066 -198696.623349  1.008940e+06 -189262.810180   \n",
       "733 2022-02-09  438213.104990 -173719.871305  1.056754e+06 -191016.408549   \n",
       "734 2022-02-10  437846.294914 -164920.909815  1.065566e+06 -194739.977096   \n",
       "735 2022-02-11  437479.484837 -169972.419291  1.042347e+06 -196640.188182   \n",
       "\n",
       "      trend_upper  additive_terms  additive_terms_lower  additive_terms_upper  \\\n",
       "0   -1.060835e+04    27655.449735          27655.449735          27655.449735   \n",
       "1   -9.411975e+03    -1318.119703          -1318.119703          -1318.119703   \n",
       "2   -8.215603e+03   -42280.738107         -42280.738107         -42280.738107   \n",
       "3   -7.019232e+03   -33592.304953         -33592.304953         -33592.304953   \n",
       "4   -5.822861e+03     -532.618487           -532.618487           -532.618487   \n",
       "..            ...             ...                   ...                   ...   \n",
       "731  1.017548e+06   -33592.304953         -33592.304953         -33592.304953   \n",
       "732  1.018651e+06     -532.618487           -532.618487           -532.618487   \n",
       "733  1.019862e+06    23034.541194          23034.541194          23034.541194   \n",
       "734  1.020831e+06    27033.790321          27033.790321          27033.790321   \n",
       "735  1.023494e+06    27655.449735          27655.449735          27655.449735   \n",
       "\n",
       "           weekly  weekly_lower  weekly_upper  multiplicative_terms  \\\n",
       "0    27655.449735  27655.449735  27655.449735                   0.0   \n",
       "1    -1318.119703  -1318.119703  -1318.119703                   0.0   \n",
       "2   -42280.738107 -42280.738107 -42280.738107                   0.0   \n",
       "3   -33592.304953 -33592.304953 -33592.304953                   0.0   \n",
       "4     -532.618487   -532.618487   -532.618487                   0.0   \n",
       "..            ...           ...           ...                   ...   \n",
       "731 -33592.304953 -33592.304953 -33592.304953                   0.0   \n",
       "732   -532.618487   -532.618487   -532.618487                   0.0   \n",
       "733  23034.541194  23034.541194  23034.541194                   0.0   \n",
       "734  27033.790321  27033.790321  27033.790321                   0.0   \n",
       "735  27655.449735  27655.449735  27655.449735                   0.0   \n",
       "\n",
       "     multiplicative_terms_lower  multiplicative_terms_upper           yhat  \n",
       "0                           0.0                         0.0   17047.103477  \n",
       "1                           0.0                         0.0  -10730.094554  \n",
       "2                           0.0                         0.0  -50496.341552  \n",
       "3                           0.0                         0.0  -40611.536992  \n",
       "4                           0.0                         0.0   -6355.479119  \n",
       "..                          ...                         ...            ...  \n",
       "731                         0.0                         0.0  405354.420189  \n",
       "732                         0.0                         0.0  438047.296580  \n",
       "733                         0.0                         0.0  461247.646184  \n",
       "734                         0.0                         0.0  464880.085235  \n",
       "735                         0.0                         0.0  465134.934572  \n",
       "\n",
       "[736 rows x 16 columns]"
      ]
     },
     "execution_count": 37,
     "metadata": {},
     "output_type": "execute_result"
    }
   ],
   "source": [
    "m1.predict(future_W) #  make a forecast "
   ]
  },
  {
   "cell_type": "code",
   "execution_count": 38,
   "id": "decimal-fossil",
   "metadata": {},
   "outputs": [
    {
     "data": {
      "text/html": [
       "<div>\n",
       "<style scoped>\n",
       "    .dataframe tbody tr th:only-of-type {\n",
       "        vertical-align: middle;\n",
       "    }\n",
       "\n",
       "    .dataframe tbody tr th {\n",
       "        vertical-align: top;\n",
       "    }\n",
       "\n",
       "    .dataframe thead th {\n",
       "        text-align: right;\n",
       "    }\n",
       "</style>\n",
       "<table border=\"1\" class=\"dataframe\">\n",
       "  <thead>\n",
       "    <tr style=\"text-align: right;\">\n",
       "      <th></th>\n",
       "      <th>ds</th>\n",
       "      <th>yhat</th>\n",
       "      <th>yhat_lower</th>\n",
       "      <th>yhat_upper</th>\n",
       "    </tr>\n",
       "  </thead>\n",
       "  <tbody>\n",
       "    <tr>\n",
       "      <th>731</th>\n",
       "      <td>2022-02-07</td>\n",
       "      <td>405354.420189</td>\n",
       "      <td>-188432.974809</td>\n",
       "      <td>1.024010e+06</td>\n",
       "    </tr>\n",
       "    <tr>\n",
       "      <th>732</th>\n",
       "      <td>2022-02-08</td>\n",
       "      <td>438047.296580</td>\n",
       "      <td>-174828.557557</td>\n",
       "      <td>1.041143e+06</td>\n",
       "    </tr>\n",
       "    <tr>\n",
       "      <th>733</th>\n",
       "      <td>2022-02-09</td>\n",
       "      <td>461247.646184</td>\n",
       "      <td>-118286.308065</td>\n",
       "      <td>1.090884e+06</td>\n",
       "    </tr>\n",
       "    <tr>\n",
       "      <th>734</th>\n",
       "      <td>2022-02-10</td>\n",
       "      <td>464880.085235</td>\n",
       "      <td>-129632.723674</td>\n",
       "      <td>1.088504e+06</td>\n",
       "    </tr>\n",
       "    <tr>\n",
       "      <th>735</th>\n",
       "      <td>2022-02-11</td>\n",
       "      <td>465134.934572</td>\n",
       "      <td>-121521.894305</td>\n",
       "      <td>1.080866e+06</td>\n",
       "    </tr>\n",
       "  </tbody>\n",
       "</table>\n",
       "</div>"
      ],
      "text/plain": [
       "            ds           yhat     yhat_lower    yhat_upper\n",
       "731 2022-02-07  405354.420189 -188432.974809  1.024010e+06\n",
       "732 2022-02-08  438047.296580 -174828.557557  1.041143e+06\n",
       "733 2022-02-09  461247.646184 -118286.308065  1.090884e+06\n",
       "734 2022-02-10  464880.085235 -129632.723674  1.088504e+06\n",
       "735 2022-02-11  465134.934572 -121521.894305  1.080866e+06"
      ]
     },
     "execution_count": 38,
     "metadata": {},
     "output_type": "execute_result"
    }
   ],
   "source": [
    "forecast_W = m1.predict(future_Int) #  make a forecast \n",
    "forecast_W[['ds', 'yhat', 'yhat_lower', 'yhat_upper']].tail() # chosen columns"
   ]
  },
  {
   "cell_type": "markdown",
   "id": "outer-criterion",
   "metadata": {},
   "source": [
    "#### Plot the Forecast for World Data"
   ]
  },
  {
   "cell_type": "code",
   "execution_count": 39,
   "id": "statewide-composite",
   "metadata": {},
   "outputs": [
    {
     "data": {
      "image/png": "[encoded data removed]",
      "text/plain": [
       "<Figure size 720x432 with 1 Axes>"
      ]
     },
     "metadata": {},
     "output_type": "display_data"
    }
   ],
   "source": [
    "m1.plot(forecast_W); #plot\n",
    "plt.title(\"World Forcast\", fontsize=16) # set title\n",
    "plt.ylabel('Y', fontsize=18) #set y axis name and size\n",
    "plt.xlabel('ds', fontsize=18);#set x axis name and size"
   ]
  },
  {
   "cell_type": "markdown",
   "id": "optional-italian",
   "metadata": {},
   "source": [
    " - Black dots: actual values\n",
    " - Blue lines: upper, actual (dark blue), lower windows for yhat\n",
    " - Blue blob: prediction window (yhat window)"
   ]
  },
  {
   "cell_type": "markdown",
   "id": "respiratory-permit",
   "metadata": {},
   "source": [
    "### Plot Components of IWorld Forcast (Trend,Weekly)\n"
   ]
  },
  {
   "cell_type": "code",
   "execution_count": 40,
   "id": "chief-alexander",
   "metadata": {},
   "outputs": [
    {
     "data": {
      "image/png": "[encoded data removed]",
      "text/plain": [
       "<Figure size 648x432 with 2 Axes>"
      ]
     },
     "metadata": {},
     "output_type": "display_data"
    }
   ],
   "source": [
    "m1.plot_components(forecast_W); #plot"
   ]
  },
  {
   "cell_type": "markdown",
   "id": "internal-smoke",
   "metadata": {},
   "source": [
    "#### Saudi Prophet Model"
   ]
  },
  {
   "cell_type": "code",
   "execution_count": 41,
   "id": "prerequisite-telescope",
   "metadata": {},
   "outputs": [
    {
     "name": "stderr",
     "output_type": "stream",
     "text": [
      "INFO:fbprophet:Disabling yearly seasonality. Run prophet with yearly_seasonality=True to override this.\n",
      "INFO:fbprophet:Disabling daily seasonality. Run prophet with daily_seasonality=True to override this.\n"
     ]
    },
    {
     "data": {
      "text/plain": [
       "<fbprophet.forecaster.Prophet at 0x27228e61b50>"
      ]
     },
     "execution_count": 41,
     "metadata": {},
     "output_type": "execute_result"
    }
   ],
   "source": [
    "m2 = Prophet() #set up model\n",
    "m2.fit(Saudi) # fit model"
   ]
  },
  {
   "cell_type": "code",
   "execution_count": 42,
   "id": "rational-eating",
   "metadata": {},
   "outputs": [],
   "source": [
    "future_S = m2.make_future_dataframe(periods=365)\n",
    "#make a dataframe to hold your future value predictions"
   ]
  },
  {
   "cell_type": "code",
   "execution_count": 43,
   "id": "expensive-endorsement",
   "metadata": {},
   "outputs": [
    {
     "data": {
      "text/html": [
       "<div>\n",
       "<style scoped>\n",
       "    .dataframe tbody tr th:only-of-type {\n",
       "        vertical-align: middle;\n",
       "    }\n",
       "\n",
       "    .dataframe tbody tr th {\n",
       "        vertical-align: top;\n",
       "    }\n",
       "\n",
       "    .dataframe thead th {\n",
       "        text-align: right;\n",
       "    }\n",
       "</style>\n",
       "<table border=\"1\" class=\"dataframe\">\n",
       "  <thead>\n",
       "    <tr style=\"text-align: right;\">\n",
       "      <th></th>\n",
       "      <th>ds</th>\n",
       "    </tr>\n",
       "  </thead>\n",
       "  <tbody>\n",
       "    <tr>\n",
       "      <th>707</th>\n",
       "      <td>2022-02-07</td>\n",
       "    </tr>\n",
       "    <tr>\n",
       "      <th>708</th>\n",
       "      <td>2022-02-08</td>\n",
       "    </tr>\n",
       "    <tr>\n",
       "      <th>709</th>\n",
       "      <td>2022-02-09</td>\n",
       "    </tr>\n",
       "    <tr>\n",
       "      <th>710</th>\n",
       "      <td>2022-02-10</td>\n",
       "    </tr>\n",
       "    <tr>\n",
       "      <th>711</th>\n",
       "      <td>2022-02-11</td>\n",
       "    </tr>\n",
       "  </tbody>\n",
       "</table>\n",
       "</div>"
      ],
      "text/plain": [
       "            ds\n",
       "707 2022-02-07\n",
       "708 2022-02-08\n",
       "709 2022-02-09\n",
       "710 2022-02-10\n",
       "711 2022-02-11"
      ]
     },
     "execution_count": 43,
     "metadata": {},
     "output_type": "execute_result"
    }
   ],
   "source": [
    "future_S.tail() # see the data"
   ]
  },
  {
   "cell_type": "code",
   "execution_count": 44,
   "id": "minus-signature",
   "metadata": {},
   "outputs": [
    {
     "data": {
      "text/html": [
       "<div>\n",
       "<style scoped>\n",
       "    .dataframe tbody tr th:only-of-type {\n",
       "        vertical-align: middle;\n",
       "    }\n",
       "\n",
       "    .dataframe tbody tr th {\n",
       "        vertical-align: top;\n",
       "    }\n",
       "\n",
       "    .dataframe thead th {\n",
       "        text-align: right;\n",
       "    }\n",
       "</style>\n",
       "<table border=\"1\" class=\"dataframe\">\n",
       "  <thead>\n",
       "    <tr style=\"text-align: right;\">\n",
       "      <th></th>\n",
       "      <th>ds</th>\n",
       "      <th>trend</th>\n",
       "      <th>yhat_lower</th>\n",
       "      <th>yhat_upper</th>\n",
       "      <th>trend_lower</th>\n",
       "      <th>trend_upper</th>\n",
       "      <th>additive_terms</th>\n",
       "      <th>additive_terms_lower</th>\n",
       "      <th>additive_terms_upper</th>\n",
       "      <th>weekly</th>\n",
       "      <th>weekly_lower</th>\n",
       "      <th>weekly_upper</th>\n",
       "      <th>multiplicative_terms</th>\n",
       "      <th>multiplicative_terms_lower</th>\n",
       "      <th>multiplicative_terms_upper</th>\n",
       "      <th>yhat</th>\n",
       "    </tr>\n",
       "  </thead>\n",
       "  <tbody>\n",
       "    <tr>\n",
       "      <th>0</th>\n",
       "      <td>2020-03-02</td>\n",
       "      <td>-601.387581</td>\n",
       "      <td>-994.878896</td>\n",
       "      <td>-177.939804</td>\n",
       "      <td>-601.387581</td>\n",
       "      <td>-601.387581</td>\n",
       "      <td>13.842536</td>\n",
       "      <td>13.842536</td>\n",
       "      <td>13.842536</td>\n",
       "      <td>13.842536</td>\n",
       "      <td>13.842536</td>\n",
       "      <td>13.842536</td>\n",
       "      <td>0.0</td>\n",
       "      <td>0.0</td>\n",
       "      <td>0.0</td>\n",
       "      <td>-587.545045</td>\n",
       "    </tr>\n",
       "    <tr>\n",
       "      <th>1</th>\n",
       "      <td>2020-03-03</td>\n",
       "      <td>-566.190579</td>\n",
       "      <td>-1002.078307</td>\n",
       "      <td>-115.923780</td>\n",
       "      <td>-566.190579</td>\n",
       "      <td>-566.190579</td>\n",
       "      <td>5.174496</td>\n",
       "      <td>5.174496</td>\n",
       "      <td>5.174496</td>\n",
       "      <td>5.174496</td>\n",
       "      <td>5.174496</td>\n",
       "      <td>5.174496</td>\n",
       "      <td>0.0</td>\n",
       "      <td>0.0</td>\n",
       "      <td>0.0</td>\n",
       "      <td>-561.016083</td>\n",
       "    </tr>\n",
       "    <tr>\n",
       "      <th>2</th>\n",
       "      <td>2020-03-04</td>\n",
       "      <td>-530.993577</td>\n",
       "      <td>-957.916636</td>\n",
       "      <td>-102.194172</td>\n",
       "      <td>-530.993577</td>\n",
       "      <td>-530.993577</td>\n",
       "      <td>-6.954218</td>\n",
       "      <td>-6.954218</td>\n",
       "      <td>-6.954218</td>\n",
       "      <td>-6.954218</td>\n",
       "      <td>-6.954218</td>\n",
       "      <td>-6.954218</td>\n",
       "      <td>0.0</td>\n",
       "      <td>0.0</td>\n",
       "      <td>0.0</td>\n",
       "      <td>-537.947795</td>\n",
       "    </tr>\n",
       "    <tr>\n",
       "      <th>3</th>\n",
       "      <td>2020-03-05</td>\n",
       "      <td>-495.796575</td>\n",
       "      <td>-955.679704</td>\n",
       "      <td>-80.010094</td>\n",
       "      <td>-495.796575</td>\n",
       "      <td>-495.796575</td>\n",
       "      <td>-11.347144</td>\n",
       "      <td>-11.347144</td>\n",
       "      <td>-11.347144</td>\n",
       "      <td>-11.347144</td>\n",
       "      <td>-11.347144</td>\n",
       "      <td>-11.347144</td>\n",
       "      <td>0.0</td>\n",
       "      <td>0.0</td>\n",
       "      <td>0.0</td>\n",
       "      <td>-507.143719</td>\n",
       "    </tr>\n",
       "    <tr>\n",
       "      <th>4</th>\n",
       "      <td>2020-03-06</td>\n",
       "      <td>-460.599574</td>\n",
       "      <td>-891.975040</td>\n",
       "      <td>25.778938</td>\n",
       "      <td>-460.599574</td>\n",
       "      <td>-460.599574</td>\n",
       "      <td>23.823963</td>\n",
       "      <td>23.823963</td>\n",
       "      <td>23.823963</td>\n",
       "      <td>23.823963</td>\n",
       "      <td>23.823963</td>\n",
       "      <td>23.823963</td>\n",
       "      <td>0.0</td>\n",
       "      <td>0.0</td>\n",
       "      <td>0.0</td>\n",
       "      <td>-436.775611</td>\n",
       "    </tr>\n",
       "    <tr>\n",
       "      <th>...</th>\n",
       "      <td>...</td>\n",
       "      <td>...</td>\n",
       "      <td>...</td>\n",
       "      <td>...</td>\n",
       "      <td>...</td>\n",
       "      <td>...</td>\n",
       "      <td>...</td>\n",
       "      <td>...</td>\n",
       "      <td>...</td>\n",
       "      <td>...</td>\n",
       "      <td>...</td>\n",
       "      <td>...</td>\n",
       "      <td>...</td>\n",
       "      <td>...</td>\n",
       "      <td>...</td>\n",
       "      <td>...</td>\n",
       "    </tr>\n",
       "    <tr>\n",
       "      <th>707</th>\n",
       "      <td>2022-02-07</td>\n",
       "      <td>-895.591197</td>\n",
       "      <td>-9467.076775</td>\n",
       "      <td>6766.278338</td>\n",
       "      <td>-9460.463360</td>\n",
       "      <td>6862.645645</td>\n",
       "      <td>13.842536</td>\n",
       "      <td>13.842536</td>\n",
       "      <td>13.842536</td>\n",
       "      <td>13.842536</td>\n",
       "      <td>13.842536</td>\n",
       "      <td>13.842536</td>\n",
       "      <td>0.0</td>\n",
       "      <td>0.0</td>\n",
       "      <td>0.0</td>\n",
       "      <td>-881.748661</td>\n",
       "    </tr>\n",
       "    <tr>\n",
       "      <th>708</th>\n",
       "      <td>2022-02-08</td>\n",
       "      <td>-898.329124</td>\n",
       "      <td>-9484.760824</td>\n",
       "      <td>6857.084721</td>\n",
       "      <td>-9512.801023</td>\n",
       "      <td>6884.588469</td>\n",
       "      <td>5.174496</td>\n",
       "      <td>5.174496</td>\n",
       "      <td>5.174496</td>\n",
       "      <td>5.174496</td>\n",
       "      <td>5.174496</td>\n",
       "      <td>5.174496</td>\n",
       "      <td>0.0</td>\n",
       "      <td>0.0</td>\n",
       "      <td>0.0</td>\n",
       "      <td>-893.154628</td>\n",
       "    </tr>\n",
       "    <tr>\n",
       "      <th>709</th>\n",
       "      <td>2022-02-09</td>\n",
       "      <td>-901.067050</td>\n",
       "      <td>-9492.351889</td>\n",
       "      <td>6976.963422</td>\n",
       "      <td>-9564.980822</td>\n",
       "      <td>6916.596563</td>\n",
       "      <td>-6.954218</td>\n",
       "      <td>-6.954218</td>\n",
       "      <td>-6.954218</td>\n",
       "      <td>-6.954218</td>\n",
       "      <td>-6.954218</td>\n",
       "      <td>-6.954218</td>\n",
       "      <td>0.0</td>\n",
       "      <td>0.0</td>\n",
       "      <td>0.0</td>\n",
       "      <td>-908.021269</td>\n",
       "    </tr>\n",
       "    <tr>\n",
       "      <th>710</th>\n",
       "      <td>2022-02-10</td>\n",
       "      <td>-903.804977</td>\n",
       "      <td>-9521.690682</td>\n",
       "      <td>6937.210490</td>\n",
       "      <td>-9617.067414</td>\n",
       "      <td>6961.655759</td>\n",
       "      <td>-11.347144</td>\n",
       "      <td>-11.347144</td>\n",
       "      <td>-11.347144</td>\n",
       "      <td>-11.347144</td>\n",
       "      <td>-11.347144</td>\n",
       "      <td>-11.347144</td>\n",
       "      <td>0.0</td>\n",
       "      <td>0.0</td>\n",
       "      <td>0.0</td>\n",
       "      <td>-915.152121</td>\n",
       "    </tr>\n",
       "    <tr>\n",
       "      <th>711</th>\n",
       "      <td>2022-02-11</td>\n",
       "      <td>-906.542903</td>\n",
       "      <td>-9860.319663</td>\n",
       "      <td>7087.931364</td>\n",
       "      <td>-9655.677903</td>\n",
       "      <td>7007.650603</td>\n",
       "      <td>23.823963</td>\n",
       "      <td>23.823963</td>\n",
       "      <td>23.823963</td>\n",
       "      <td>23.823963</td>\n",
       "      <td>23.823963</td>\n",
       "      <td>23.823963</td>\n",
       "      <td>0.0</td>\n",
       "      <td>0.0</td>\n",
       "      <td>0.0</td>\n",
       "      <td>-882.718941</td>\n",
       "    </tr>\n",
       "  </tbody>\n",
       "</table>\n",
       "<p>712 rows × 16 columns</p>\n",
       "</div>"
      ],
      "text/plain": [
       "            ds       trend   yhat_lower   yhat_upper  trend_lower  \\\n",
       "0   2020-03-02 -601.387581  -994.878896  -177.939804  -601.387581   \n",
       "1   2020-03-03 -566.190579 -1002.078307  -115.923780  -566.190579   \n",
       "2   2020-03-04 -530.993577  -957.916636  -102.194172  -530.993577   \n",
       "3   2020-03-05 -495.796575  -955.679704   -80.010094  -495.796575   \n",
       "4   2020-03-06 -460.599574  -891.975040    25.778938  -460.599574   \n",
       "..         ...         ...          ...          ...          ...   \n",
       "707 2022-02-07 -895.591197 -9467.076775  6766.278338 -9460.463360   \n",
       "708 2022-02-08 -898.329124 -9484.760824  6857.084721 -9512.801023   \n",
       "709 2022-02-09 -901.067050 -9492.351889  6976.963422 -9564.980822   \n",
       "710 2022-02-10 -903.804977 -9521.690682  6937.210490 -9617.067414   \n",
       "711 2022-02-11 -906.542903 -9860.319663  7087.931364 -9655.677903   \n",
       "\n",
       "     trend_upper  additive_terms  additive_terms_lower  additive_terms_upper  \\\n",
       "0    -601.387581       13.842536             13.842536             13.842536   \n",
       "1    -566.190579        5.174496              5.174496              5.174496   \n",
       "2    -530.993577       -6.954218             -6.954218             -6.954218   \n",
       "3    -495.796575      -11.347144            -11.347144            -11.347144   \n",
       "4    -460.599574       23.823963             23.823963             23.823963   \n",
       "..           ...             ...                   ...                   ...   \n",
       "707  6862.645645       13.842536             13.842536             13.842536   \n",
       "708  6884.588469        5.174496              5.174496              5.174496   \n",
       "709  6916.596563       -6.954218             -6.954218             -6.954218   \n",
       "710  6961.655759      -11.347144            -11.347144            -11.347144   \n",
       "711  7007.650603       23.823963             23.823963             23.823963   \n",
       "\n",
       "        weekly  weekly_lower  weekly_upper  multiplicative_terms  \\\n",
       "0    13.842536     13.842536     13.842536                   0.0   \n",
       "1     5.174496      5.174496      5.174496                   0.0   \n",
       "2    -6.954218     -6.954218     -6.954218                   0.0   \n",
       "3   -11.347144    -11.347144    -11.347144                   0.0   \n",
       "4    23.823963     23.823963     23.823963                   0.0   \n",
       "..         ...           ...           ...                   ...   \n",
       "707  13.842536     13.842536     13.842536                   0.0   \n",
       "708   5.174496      5.174496      5.174496                   0.0   \n",
       "709  -6.954218     -6.954218     -6.954218                   0.0   \n",
       "710 -11.347144    -11.347144    -11.347144                   0.0   \n",
       "711  23.823963     23.823963     23.823963                   0.0   \n",
       "\n",
       "     multiplicative_terms_lower  multiplicative_terms_upper        yhat  \n",
       "0                           0.0                         0.0 -587.545045  \n",
       "1                           0.0                         0.0 -561.016083  \n",
       "2                           0.0                         0.0 -537.947795  \n",
       "3                           0.0                         0.0 -507.143719  \n",
       "4                           0.0                         0.0 -436.775611  \n",
       "..                          ...                         ...         ...  \n",
       "707                         0.0                         0.0 -881.748661  \n",
       "708                         0.0                         0.0 -893.154628  \n",
       "709                         0.0                         0.0 -908.021269  \n",
       "710                         0.0                         0.0 -915.152121  \n",
       "711                         0.0                         0.0 -882.718941  \n",
       "\n",
       "[712 rows x 16 columns]"
      ]
     },
     "execution_count": 44,
     "metadata": {},
     "output_type": "execute_result"
    }
   ],
   "source": [
    "m2.predict(future_S )#  make a forecast "
   ]
  },
  {
   "cell_type": "code",
   "execution_count": 45,
   "id": "yellow-jenny",
   "metadata": {},
   "outputs": [
    {
     "data": {
      "text/html": [
       "<div>\n",
       "<style scoped>\n",
       "    .dataframe tbody tr th:only-of-type {\n",
       "        vertical-align: middle;\n",
       "    }\n",
       "\n",
       "    .dataframe tbody tr th {\n",
       "        vertical-align: top;\n",
       "    }\n",
       "\n",
       "    .dataframe thead th {\n",
       "        text-align: right;\n",
       "    }\n",
       "</style>\n",
       "<table border=\"1\" class=\"dataframe\">\n",
       "  <thead>\n",
       "    <tr style=\"text-align: right;\">\n",
       "      <th></th>\n",
       "      <th>ds</th>\n",
       "      <th>yhat</th>\n",
       "      <th>yhat_lower</th>\n",
       "      <th>yhat_upper</th>\n",
       "    </tr>\n",
       "  </thead>\n",
       "  <tbody>\n",
       "    <tr>\n",
       "      <th>731</th>\n",
       "      <td>2022-02-07</td>\n",
       "      <td>-881.748661</td>\n",
       "      <td>-9368.484252</td>\n",
       "      <td>8245.167203</td>\n",
       "    </tr>\n",
       "    <tr>\n",
       "      <th>732</th>\n",
       "      <td>2022-02-08</td>\n",
       "      <td>-893.154628</td>\n",
       "      <td>-9223.465059</td>\n",
       "      <td>8460.694806</td>\n",
       "    </tr>\n",
       "    <tr>\n",
       "      <th>733</th>\n",
       "      <td>2022-02-09</td>\n",
       "      <td>-908.021269</td>\n",
       "      <td>-9464.122220</td>\n",
       "      <td>8416.181152</td>\n",
       "    </tr>\n",
       "    <tr>\n",
       "      <th>734</th>\n",
       "      <td>2022-02-10</td>\n",
       "      <td>-915.152121</td>\n",
       "      <td>-9623.049132</td>\n",
       "      <td>8378.059833</td>\n",
       "    </tr>\n",
       "    <tr>\n",
       "      <th>735</th>\n",
       "      <td>2022-02-11</td>\n",
       "      <td>-882.718941</td>\n",
       "      <td>-9492.577155</td>\n",
       "      <td>8434.570709</td>\n",
       "    </tr>\n",
       "  </tbody>\n",
       "</table>\n",
       "</div>"
      ],
      "text/plain": [
       "            ds        yhat   yhat_lower   yhat_upper\n",
       "731 2022-02-07 -881.748661 -9368.484252  8245.167203\n",
       "732 2022-02-08 -893.154628 -9223.465059  8460.694806\n",
       "733 2022-02-09 -908.021269 -9464.122220  8416.181152\n",
       "734 2022-02-10 -915.152121 -9623.049132  8378.059833\n",
       "735 2022-02-11 -882.718941 -9492.577155  8434.570709"
      ]
     },
     "execution_count": 45,
     "metadata": {},
     "output_type": "execute_result"
    }
   ],
   "source": [
    "forecast_S = m2.predict(future_Int) #  make a forecast \n",
    "forecast_S[['ds', 'yhat', 'yhat_lower', 'yhat_upper']].tail() # chosen columns"
   ]
  },
  {
   "cell_type": "markdown",
   "id": "representative-boundary",
   "metadata": {},
   "source": [
    "#### Plot the Forecast for Saudi Data"
   ]
  },
  {
   "cell_type": "code",
   "execution_count": 46,
   "id": "horizontal-makeup",
   "metadata": {},
   "outputs": [
    {
     "data": {
      "image/png": "[encoded data removed]",
      "text/plain": [
       "<Figure size 720x432 with 1 Axes>"
      ]
     },
     "metadata": {},
     "output_type": "display_data"
    }
   ],
   "source": [
    "m2.plot(forecast_S); # plot m2 \n",
    "plt.title(\"Saudi Forcast\", fontsize=16) # set title\n",
    "plt.ylabel('Y', fontsize=18) #set y axis name and size\n",
    "plt.xlabel('ds', fontsize=18);#set x axis name and size"
   ]
  },
  {
   "cell_type": "markdown",
   "id": "polish-hungary",
   "metadata": {},
   "source": [
    " - Black dots: actual values\n",
    " - Blue lines: upper, actual (dark blue), lower windows for yhat\n",
    " - Blue blob: prediction window (yhat window)"
   ]
  },
  {
   "cell_type": "markdown",
   "id": "cordless-attachment",
   "metadata": {},
   "source": [
    "#### Plot Components of Saudi Forcast (Trend,Weekly)\n"
   ]
  },
  {
   "cell_type": "code",
   "execution_count": 47,
   "id": "raised-university",
   "metadata": {},
   "outputs": [
    {
     "data": {
      "image/png": "[encoded data removed]",
      "text/plain": [
       "<Figure size 648x432 with 2 Axes>"
      ]
     },
     "metadata": {},
     "output_type": "display_data"
    }
   ],
   "source": [
    "m2.plot_components(forecast_S); #plot"
   ]
  },
  {
   "cell_type": "markdown",
   "id": "fourth-wages",
   "metadata": {},
   "source": [
    "### Models Valiadtion"
   ]
  },
  {
   "cell_type": "code",
   "execution_count": 48,
   "id": "corresponding-accused",
   "metadata": {},
   "outputs": [],
   "source": [
    "from fbprophet.diagnostics import cross_validation # import cross_validation"
   ]
  },
  {
   "cell_type": "markdown",
   "id": "functional-receptor",
   "metadata": {},
   "source": [
    "#### International Model Valiadtion"
   ]
  },
  {
   "cell_type": "code",
   "execution_count": 49,
   "id": "thorough-kenya",
   "metadata": {},
   "outputs": [
    {
     "name": "stderr",
     "output_type": "stream",
     "text": [
      "INFO:fbprophet:Making 4 forecasts with cutoffs between 2020-08-15 00:00:00 and 2020-11-13 00:00:00\n"
     ]
    },
    {
     "data": {
      "application/vnd.jupyter.widget-view+json": {
       "model_id": "72910d83f1e34ef0874e1cb336172362",
       "version_major": 2,
       "version_minor": 0
      },
      "text/plain": [
       "  0%|          | 0/4 [00:00<?, ?it/s]"
      ]
     },
     "metadata": {},
     "output_type": "display_data"
    },
    {
     "data": {
      "text/html": [
       "<div>\n",
       "<style scoped>\n",
       "    .dataframe tbody tr th:only-of-type {\n",
       "        vertical-align: middle;\n",
       "    }\n",
       "\n",
       "    .dataframe tbody tr th {\n",
       "        vertical-align: top;\n",
       "    }\n",
       "\n",
       "    .dataframe thead th {\n",
       "        text-align: right;\n",
       "    }\n",
       "</style>\n",
       "<table border=\"1\" class=\"dataframe\">\n",
       "  <thead>\n",
       "    <tr style=\"text-align: right;\">\n",
       "      <th></th>\n",
       "      <th>ds</th>\n",
       "      <th>yhat</th>\n",
       "      <th>yhat_lower</th>\n",
       "      <th>yhat_upper</th>\n",
       "      <th>y</th>\n",
       "      <th>cutoff</th>\n",
       "    </tr>\n",
       "  </thead>\n",
       "  <tbody>\n",
       "    <tr>\n",
       "      <th>355</th>\n",
       "      <td>2021-02-07</td>\n",
       "      <td>-0.289656</td>\n",
       "      <td>-14.612979</td>\n",
       "      <td>12.964049</td>\n",
       "      <td>0.0</td>\n",
       "      <td>2020-11-13</td>\n",
       "    </tr>\n",
       "    <tr>\n",
       "      <th>356</th>\n",
       "      <td>2021-02-08</td>\n",
       "      <td>0.780397</td>\n",
       "      <td>-13.631736</td>\n",
       "      <td>14.068393</td>\n",
       "      <td>0.0</td>\n",
       "      <td>2020-11-13</td>\n",
       "    </tr>\n",
       "    <tr>\n",
       "      <th>357</th>\n",
       "      <td>2021-02-09</td>\n",
       "      <td>-1.175760</td>\n",
       "      <td>-15.794493</td>\n",
       "      <td>13.777873</td>\n",
       "      <td>0.0</td>\n",
       "      <td>2020-11-13</td>\n",
       "    </tr>\n",
       "    <tr>\n",
       "      <th>358</th>\n",
       "      <td>2021-02-10</td>\n",
       "      <td>0.317515</td>\n",
       "      <td>-14.610886</td>\n",
       "      <td>14.247086</td>\n",
       "      <td>0.0</td>\n",
       "      <td>2020-11-13</td>\n",
       "    </tr>\n",
       "    <tr>\n",
       "      <th>359</th>\n",
       "      <td>2021-02-11</td>\n",
       "      <td>-2.940298</td>\n",
       "      <td>-18.442861</td>\n",
       "      <td>11.449271</td>\n",
       "      <td>0.0</td>\n",
       "      <td>2020-11-13</td>\n",
       "    </tr>\n",
       "  </tbody>\n",
       "</table>\n",
       "</div>"
      ],
      "text/plain": [
       "            ds      yhat  yhat_lower  yhat_upper    y     cutoff\n",
       "355 2021-02-07 -0.289656  -14.612979   12.964049  0.0 2020-11-13\n",
       "356 2021-02-08  0.780397  -13.631736   14.068393  0.0 2020-11-13\n",
       "357 2021-02-09 -1.175760  -15.794493   13.777873  0.0 2020-11-13\n",
       "358 2021-02-10  0.317515  -14.610886   14.247086  0.0 2020-11-13\n",
       "359 2021-02-11 -2.940298  -18.442861   11.449271  0.0 2020-11-13"
      ]
     },
     "execution_count": 49,
     "metadata": {},
     "output_type": "execute_result"
    }
   ],
   "source": [
    "Int_cv = cross_validation(m, initial='180 days', period='30 days', horizon='90 days')\n",
    "Int_cv.tail()"
   ]
  },
  {
   "cell_type": "markdown",
   "id": "recovered-midwest",
   "metadata": {},
   "source": [
    "- initial: how much data to consider before making any predictions\n",
    "- period: how frequently to make predictions \n",
    "- horizon: how many periods to predict"
   ]
  },
  {
   "cell_type": "markdown",
   "id": "african-claim",
   "metadata": {},
   "source": [
    "#### World Model Valiadtion"
   ]
  },
  {
   "cell_type": "code",
   "execution_count": 50,
   "id": "convinced-imperial",
   "metadata": {},
   "outputs": [
    {
     "name": "stderr",
     "output_type": "stream",
     "text": [
      "INFO:fbprophet:Making 4 forecasts with cutoffs between 2020-08-15 00:00:00 and 2020-11-13 00:00:00\n"
     ]
    },
    {
     "data": {
      "application/vnd.jupyter.widget-view+json": {
       "model_id": "481f7430f773421896625d5c852136ed",
       "version_major": 2,
       "version_minor": 0
      },
      "text/plain": [
       "  0%|          | 0/4 [00:00<?, ?it/s]"
      ]
     },
     "metadata": {},
     "output_type": "display_data"
    },
    {
     "data": {
      "text/html": [
       "<div>\n",
       "<style scoped>\n",
       "    .dataframe tbody tr th:only-of-type {\n",
       "        vertical-align: middle;\n",
       "    }\n",
       "\n",
       "    .dataframe tbody tr th {\n",
       "        vertical-align: top;\n",
       "    }\n",
       "\n",
       "    .dataframe thead th {\n",
       "        text-align: right;\n",
       "    }\n",
       "</style>\n",
       "<table border=\"1\" class=\"dataframe\">\n",
       "  <thead>\n",
       "    <tr style=\"text-align: right;\">\n",
       "      <th></th>\n",
       "      <th>ds</th>\n",
       "      <th>yhat</th>\n",
       "      <th>yhat_lower</th>\n",
       "      <th>yhat_upper</th>\n",
       "      <th>y</th>\n",
       "      <th>cutoff</th>\n",
       "    </tr>\n",
       "  </thead>\n",
       "  <tbody>\n",
       "    <tr>\n",
       "      <th>355</th>\n",
       "      <td>2021-02-07</td>\n",
       "      <td>9.423845e+05</td>\n",
       "      <td>872133.721075</td>\n",
       "      <td>1.004810e+06</td>\n",
       "      <td>397050.0</td>\n",
       "      <td>2020-11-13</td>\n",
       "    </tr>\n",
       "    <tr>\n",
       "      <th>356</th>\n",
       "      <td>2021-02-08</td>\n",
       "      <td>9.536786e+05</td>\n",
       "      <td>880759.474914</td>\n",
       "      <td>1.020311e+06</td>\n",
       "      <td>315176.0</td>\n",
       "      <td>2020-11-13</td>\n",
       "    </tr>\n",
       "    <tr>\n",
       "      <th>357</th>\n",
       "      <td>2021-02-09</td>\n",
       "      <td>9.713878e+05</td>\n",
       "      <td>901736.630292</td>\n",
       "      <td>1.039841e+06</td>\n",
       "      <td>427277.0</td>\n",
       "      <td>2020-11-13</td>\n",
       "    </tr>\n",
       "    <tr>\n",
       "      <th>358</th>\n",
       "      <td>2021-02-10</td>\n",
       "      <td>9.899952e+05</td>\n",
       "      <td>918309.761338</td>\n",
       "      <td>1.058242e+06</td>\n",
       "      <td>514862.0</td>\n",
       "      <td>2020-11-13</td>\n",
       "    </tr>\n",
       "    <tr>\n",
       "      <th>359</th>\n",
       "      <td>2021-02-11</td>\n",
       "      <td>1.002870e+06</td>\n",
       "      <td>927701.294560</td>\n",
       "      <td>1.068437e+06</td>\n",
       "      <td>437761.0</td>\n",
       "      <td>2020-11-13</td>\n",
       "    </tr>\n",
       "  </tbody>\n",
       "</table>\n",
       "</div>"
      ],
      "text/plain": [
       "            ds          yhat     yhat_lower    yhat_upper         y     cutoff\n",
       "355 2021-02-07  9.423845e+05  872133.721075  1.004810e+06  397050.0 2020-11-13\n",
       "356 2021-02-08  9.536786e+05  880759.474914  1.020311e+06  315176.0 2020-11-13\n",
       "357 2021-02-09  9.713878e+05  901736.630292  1.039841e+06  427277.0 2020-11-13\n",
       "358 2021-02-10  9.899952e+05  918309.761338  1.058242e+06  514862.0 2020-11-13\n",
       "359 2021-02-11  1.002870e+06  927701.294560  1.068437e+06  437761.0 2020-11-13"
      ]
     },
     "execution_count": 50,
     "metadata": {},
     "output_type": "execute_result"
    }
   ],
   "source": [
    "W_cv = cross_validation(m1, initial='180 days', period='30 days', horizon='90 days')\n",
    "W_cv.tail()"
   ]
  },
  {
   "cell_type": "markdown",
   "id": "intermediate-north",
   "metadata": {},
   "source": [
    "- initial: how much data to consider before making any predictions\n",
    "- period: how frequently to make predictions \n",
    "- horizon: how many periods to predict"
   ]
  },
  {
   "cell_type": "markdown",
   "id": "positive-hampton",
   "metadata": {},
   "source": [
    "#### Saudi Model Valiadtion"
   ]
  },
  {
   "cell_type": "code",
   "execution_count": 51,
   "id": "catholic-scale",
   "metadata": {},
   "outputs": [
    {
     "name": "stderr",
     "output_type": "stream",
     "text": [
      "INFO:fbprophet:Making 3 forecasts with cutoffs between 2020-09-14 00:00:00 and 2020-11-13 00:00:00\n"
     ]
    },
    {
     "data": {
      "application/vnd.jupyter.widget-view+json": {
       "model_id": "1399c765a42c44ab93a81bc63810727e",
       "version_major": 2,
       "version_minor": 0
      },
      "text/plain": [
       "  0%|          | 0/3 [00:00<?, ?it/s]"
      ]
     },
     "metadata": {},
     "output_type": "display_data"
    },
    {
     "data": {
      "text/html": [
       "<div>\n",
       "<style scoped>\n",
       "    .dataframe tbody tr th:only-of-type {\n",
       "        vertical-align: middle;\n",
       "    }\n",
       "\n",
       "    .dataframe tbody tr th {\n",
       "        vertical-align: top;\n",
       "    }\n",
       "\n",
       "    .dataframe thead th {\n",
       "        text-align: right;\n",
       "    }\n",
       "</style>\n",
       "<table border=\"1\" class=\"dataframe\">\n",
       "  <thead>\n",
       "    <tr style=\"text-align: right;\">\n",
       "      <th></th>\n",
       "      <th>ds</th>\n",
       "      <th>yhat</th>\n",
       "      <th>yhat_lower</th>\n",
       "      <th>yhat_upper</th>\n",
       "      <th>y</th>\n",
       "      <th>cutoff</th>\n",
       "    </tr>\n",
       "  </thead>\n",
       "  <tbody>\n",
       "    <tr>\n",
       "      <th>265</th>\n",
       "      <td>2021-02-07</td>\n",
       "      <td>-723.092579</td>\n",
       "      <td>-2042.136222</td>\n",
       "      <td>409.962980</td>\n",
       "      <td>317.0</td>\n",
       "      <td>2020-11-13</td>\n",
       "    </tr>\n",
       "    <tr>\n",
       "      <th>266</th>\n",
       "      <td>2021-02-08</td>\n",
       "      <td>-683.277603</td>\n",
       "      <td>-1936.604718</td>\n",
       "      <td>487.884577</td>\n",
       "      <td>356.0</td>\n",
       "      <td>2020-11-13</td>\n",
       "    </tr>\n",
       "    <tr>\n",
       "      <th>267</th>\n",
       "      <td>2021-02-09</td>\n",
       "      <td>-712.868756</td>\n",
       "      <td>-1986.599847</td>\n",
       "      <td>422.840252</td>\n",
       "      <td>353.0</td>\n",
       "      <td>2020-11-13</td>\n",
       "    </tr>\n",
       "    <tr>\n",
       "      <th>268</th>\n",
       "      <td>2021-02-10</td>\n",
       "      <td>-739.247702</td>\n",
       "      <td>-2070.026239</td>\n",
       "      <td>464.158614</td>\n",
       "      <td>369.0</td>\n",
       "      <td>2020-11-13</td>\n",
       "    </tr>\n",
       "    <tr>\n",
       "      <th>269</th>\n",
       "      <td>2021-02-11</td>\n",
       "      <td>-755.189568</td>\n",
       "      <td>-2169.970143</td>\n",
       "      <td>462.837156</td>\n",
       "      <td>364.0</td>\n",
       "      <td>2020-11-13</td>\n",
       "    </tr>\n",
       "  </tbody>\n",
       "</table>\n",
       "</div>"
      ],
      "text/plain": [
       "            ds        yhat   yhat_lower  yhat_upper      y     cutoff\n",
       "265 2021-02-07 -723.092579 -2042.136222  409.962980  317.0 2020-11-13\n",
       "266 2021-02-08 -683.277603 -1936.604718  487.884577  356.0 2020-11-13\n",
       "267 2021-02-09 -712.868756 -1986.599847  422.840252  353.0 2020-11-13\n",
       "268 2021-02-10 -739.247702 -2070.026239  464.158614  369.0 2020-11-13\n",
       "269 2021-02-11 -755.189568 -2169.970143  462.837156  364.0 2020-11-13"
      ]
     },
     "execution_count": 51,
     "metadata": {},
     "output_type": "execute_result"
    }
   ],
   "source": [
    "S_cv = cross_validation(m2, initial='180 days', period='30 days', horizon='90 days')\n",
    "S_cv.tail()"
   ]
  },
  {
   "cell_type": "markdown",
   "id": "italic-there",
   "metadata": {},
   "source": [
    "- initial: how much data to consider before making any predictions\n",
    "- period: how frequently to make predictions \n",
    "- horizon: how many periods to predict"
   ]
  },
  {
   "cell_type": "markdown",
   "id": "equal-steel",
   "metadata": {},
   "source": [
    "### Plot the Valiadtions "
   ]
  },
  {
   "cell_type": "code",
   "execution_count": 52,
   "id": "mobile-contributor",
   "metadata": {},
   "outputs": [],
   "source": [
    "from fbprophet.plot import plot_cross_validation_metric"
   ]
  },
  {
   "cell_type": "markdown",
   "id": "blocked-potato",
   "metadata": {},
   "source": [
    "####  Plot International Valiadtion"
   ]
  },
  {
   "cell_type": "code",
   "execution_count": 63,
   "id": "quarterly-czech",
   "metadata": {},
   "outputs": [
    {
     "data": {
      "image/png": "[encoded data removed]",
      "text/plain": [
       "<Figure size 720x432 with 1 Axes>"
      ]
     },
     "metadata": {},
     "output_type": "display_data"
    }
   ],
   "source": [
    "fig = plot_cross_validation_metric(Int_cv, metric='mae')\n",
    "plt.title(\"International Evaluation\", fontsize=16) # set title\n",
    "plt.ylabel('MSA', fontsize=18) #set y axis name and size\n",
    "plt.xlabel('Horizen(Days)', fontsize=18);#set x axis name and size"
   ]
  },
  {
   "cell_type": "markdown",
   "id": "cheap-interim",
   "metadata": {},
   "source": [
    "####  Plot World Valiadtion"
   ]
  },
  {
   "cell_type": "code",
   "execution_count": 64,
   "id": "scheduled-convention",
   "metadata": {},
   "outputs": [
    {
     "data": {
      "image/png": "[encoded data removed]",
      "text/plain": [
       "<Figure size 720x432 with 1 Axes>"
      ]
     },
     "metadata": {},
     "output_type": "display_data"
    }
   ],
   "source": [
    "fig = plot_cross_validation_metric(W_cv, metric='mae')\n",
    "plt.title(\"World Evaluation\", fontsize=16) # set title\n",
    "plt.ylabel('MSA', fontsize=18) #set y axis name and size\n",
    "plt.xlabel('Horizen(Days)', fontsize=18);#set x axis name and size"
   ]
  },
  {
   "cell_type": "markdown",
   "id": "emerging-optimization",
   "metadata": {},
   "source": [
    "####  Plot Saudi Valiadtion"
   ]
  },
  {
   "cell_type": "code",
   "execution_count": 65,
   "id": "severe-french",
   "metadata": {},
   "outputs": [
    {
     "data": {
      "image/png": "[encoded data removed]",
      "text/plain": [
       "<Figure size 720x432 with 1 Axes>"
      ]
     },
     "metadata": {},
     "output_type": "display_data"
    }
   ],
   "source": [
    "fig = plot_cross_validation_metric(S_cv, metric='mae')\n",
    "plt.title(\"Saudi Evaluation\", fontsize=16) # set title\n",
    "plt.ylabel('MAS', fontsize=18) #set y axis name and size\n",
    "plt.xlabel('Horizen(Days)', fontsize=18);#set x axis name and size"
   ]
  },
  {
   "cell_type": "markdown",
   "id": "addressed-cursor",
   "metadata": {},
   "source": [
    "### Models Scors"
   ]
  },
  {
   "cell_type": "code",
   "execution_count": 56,
   "id": "parliamentary-today",
   "metadata": {},
   "outputs": [],
   "source": [
    "from fbprophet.diagnostics import performance_metrics"
   ]
  },
  {
   "cell_type": "markdown",
   "id": "advisory-bumper",
   "metadata": {},
   "source": [
    "#### International Model Score"
   ]
  },
  {
   "cell_type": "code",
   "execution_count": 57,
   "id": "fancy-plant",
   "metadata": {},
   "outputs": [
    {
     "name": "stderr",
     "output_type": "stream",
     "text": [
      "INFO:fbprophet:Skipping MAPE because y close to 0\n"
     ]
    },
    {
     "data": {
      "text/html": [
       "<div>\n",
       "<style scoped>\n",
       "    .dataframe tbody tr th:only-of-type {\n",
       "        vertical-align: middle;\n",
       "    }\n",
       "\n",
       "    .dataframe tbody tr th {\n",
       "        vertical-align: top;\n",
       "    }\n",
       "\n",
       "    .dataframe thead th {\n",
       "        text-align: right;\n",
       "    }\n",
       "</style>\n",
       "<table border=\"1\" class=\"dataframe\">\n",
       "  <thead>\n",
       "    <tr style=\"text-align: right;\">\n",
       "      <th></th>\n",
       "      <th>horizon</th>\n",
       "      <th>mse</th>\n",
       "      <th>rmse</th>\n",
       "      <th>mae</th>\n",
       "      <th>mdape</th>\n",
       "      <th>coverage</th>\n",
       "    </tr>\n",
       "  </thead>\n",
       "  <tbody>\n",
       "    <tr>\n",
       "      <th>79</th>\n",
       "      <td>88 days</td>\n",
       "      <td>8.502603</td>\n",
       "      <td>2.915922</td>\n",
       "      <td>2.310295</td>\n",
       "      <td>inf</td>\n",
       "      <td>1.0</td>\n",
       "    </tr>\n",
       "    <tr>\n",
       "      <th>80</th>\n",
       "      <td>89 days</td>\n",
       "      <td>9.057125</td>\n",
       "      <td>3.009506</td>\n",
       "      <td>2.312601</td>\n",
       "      <td>inf</td>\n",
       "      <td>1.0</td>\n",
       "    </tr>\n",
       "    <tr>\n",
       "      <th>81</th>\n",
       "      <td>90 days</td>\n",
       "      <td>9.668629</td>\n",
       "      <td>3.109442</td>\n",
       "      <td>2.430505</td>\n",
       "      <td>inf</td>\n",
       "      <td>1.0</td>\n",
       "    </tr>\n",
       "  </tbody>\n",
       "</table>\n",
       "</div>"
      ],
      "text/plain": [
       "   horizon       mse      rmse       mae  mdape  coverage\n",
       "79 88 days  8.502603  2.915922  2.310295    inf       1.0\n",
       "80 89 days  9.057125  3.009506  2.312601    inf       1.0\n",
       "81 90 days  9.668629  3.109442  2.430505    inf       1.0"
      ]
     },
     "execution_count": 57,
     "metadata": {},
     "output_type": "execute_result"
    }
   ],
   "source": [
    "df_p = performance_metrics(Int_cv) # performance matrics\n",
    "df_p.tail(3) "
   ]
  },
  {
   "cell_type": "code",
   "execution_count": 58,
   "id": "preliminary-growing",
   "metadata": {},
   "outputs": [
    {
     "data": {
      "text/plain": [
       "81    2.430505\n",
       "Name: mae, dtype: float64"
      ]
     },
     "execution_count": 58,
     "metadata": {},
     "output_type": "execute_result"
    }
   ],
   "source": [
    "df_p.mae.tail(1) # mean_absolute_error 8.011111111111111"
   ]
  },
  {
   "cell_type": "markdown",
   "id": "approximate-spring",
   "metadata": {},
   "source": [
    "#### World Model Score"
   ]
  },
  {
   "cell_type": "code",
   "execution_count": 59,
   "id": "imperial-liechtenstein",
   "metadata": {},
   "outputs": [
    {
     "data": {
      "text/html": [
       "<div>\n",
       "<style scoped>\n",
       "    .dataframe tbody tr th:only-of-type {\n",
       "        vertical-align: middle;\n",
       "    }\n",
       "\n",
       "    .dataframe tbody tr th {\n",
       "        vertical-align: top;\n",
       "    }\n",
       "\n",
       "    .dataframe thead th {\n",
       "        text-align: right;\n",
       "    }\n",
       "</style>\n",
       "<table border=\"1\" class=\"dataframe\">\n",
       "  <thead>\n",
       "    <tr style=\"text-align: right;\">\n",
       "      <th></th>\n",
       "      <th>horizon</th>\n",
       "      <th>mse</th>\n",
       "      <th>rmse</th>\n",
       "      <th>mae</th>\n",
       "      <th>mape</th>\n",
       "      <th>mdape</th>\n",
       "      <th>coverage</th>\n",
       "    </tr>\n",
       "  </thead>\n",
       "  <tbody>\n",
       "    <tr>\n",
       "      <th>79</th>\n",
       "      <td>88 days</td>\n",
       "      <td>1.122580e+11</td>\n",
       "      <td>335049.195418</td>\n",
       "      <td>290789.931702</td>\n",
       "      <td>0.550883</td>\n",
       "      <td>0.439984</td>\n",
       "      <td>0.027778</td>\n",
       "    </tr>\n",
       "    <tr>\n",
       "      <th>80</th>\n",
       "      <td>89 days</td>\n",
       "      <td>1.116127e+11</td>\n",
       "      <td>334084.896829</td>\n",
       "      <td>290690.870443</td>\n",
       "      <td>0.547552</td>\n",
       "      <td>0.437523</td>\n",
       "      <td>0.027778</td>\n",
       "    </tr>\n",
       "    <tr>\n",
       "      <th>81</th>\n",
       "      <td>90 days</td>\n",
       "      <td>1.147476e+11</td>\n",
       "      <td>338744.212386</td>\n",
       "      <td>297002.705972</td>\n",
       "      <td>0.559757</td>\n",
       "      <td>0.434698</td>\n",
       "      <td>0.027778</td>\n",
       "    </tr>\n",
       "  </tbody>\n",
       "</table>\n",
       "</div>"
      ],
      "text/plain": [
       "   horizon           mse           rmse            mae      mape     mdape  \\\n",
       "79 88 days  1.122580e+11  335049.195418  290789.931702  0.550883  0.439984   \n",
       "80 89 days  1.116127e+11  334084.896829  290690.870443  0.547552  0.437523   \n",
       "81 90 days  1.147476e+11  338744.212386  297002.705972  0.559757  0.434698   \n",
       "\n",
       "    coverage  \n",
       "79  0.027778  \n",
       "80  0.027778  \n",
       "81  0.027778  "
      ]
     },
     "execution_count": 59,
     "metadata": {},
     "output_type": "execute_result"
    }
   ],
   "source": [
    "df_p = performance_metrics(W_cv) # performance matrics\n",
    "df_p.tail(3)"
   ]
  },
  {
   "cell_type": "code",
   "execution_count": 60,
   "id": "seventh-edgar",
   "metadata": {},
   "outputs": [
    {
     "data": {
      "text/plain": [
       "81    1.147476e+11\n",
       "Name: mse, dtype: float64"
      ]
     },
     "execution_count": 60,
     "metadata": {},
     "output_type": "execute_result"
    }
   ],
   "source": [
    "df_p.mae.tail(1) # mean_absolute_error 487182.5"
   ]
  },
  {
   "cell_type": "markdown",
   "id": "heard-spending",
   "metadata": {},
   "source": [
    "#### Saudi Model Score"
   ]
  },
  {
   "cell_type": "code",
   "execution_count": 61,
   "id": "going-probability",
   "metadata": {},
   "outputs": [
    {
     "data": {
      "text/html": [
       "<div>\n",
       "<style scoped>\n",
       "    .dataframe tbody tr th:only-of-type {\n",
       "        vertical-align: middle;\n",
       "    }\n",
       "\n",
       "    .dataframe tbody tr th {\n",
       "        vertical-align: top;\n",
       "    }\n",
       "\n",
       "    .dataframe thead th {\n",
       "        text-align: right;\n",
       "    }\n",
       "</style>\n",
       "<table border=\"1\" class=\"dataframe\">\n",
       "  <thead>\n",
       "    <tr style=\"text-align: right;\">\n",
       "      <th></th>\n",
       "      <th>horizon</th>\n",
       "      <th>mse</th>\n",
       "      <th>rmse</th>\n",
       "      <th>mae</th>\n",
       "      <th>mape</th>\n",
       "      <th>mdape</th>\n",
       "      <th>coverage</th>\n",
       "    </tr>\n",
       "  </thead>\n",
       "  <tbody>\n",
       "    <tr>\n",
       "      <th>79</th>\n",
       "      <td>88 days</td>\n",
       "      <td>5.556503e+06</td>\n",
       "      <td>2357.223658</td>\n",
       "      <td>2180.290392</td>\n",
       "      <td>14.493562</td>\n",
       "      <td>16.645156</td>\n",
       "      <td>0.333333</td>\n",
       "    </tr>\n",
       "    <tr>\n",
       "      <th>80</th>\n",
       "      <td>89 days</td>\n",
       "      <td>5.675953e+06</td>\n",
       "      <td>2382.425911</td>\n",
       "      <td>2207.442021</td>\n",
       "      <td>14.558351</td>\n",
       "      <td>16.715839</td>\n",
       "      <td>0.333333</td>\n",
       "    </tr>\n",
       "    <tr>\n",
       "      <th>81</th>\n",
       "      <td>90 days</td>\n",
       "      <td>5.813050e+06</td>\n",
       "      <td>2411.026811</td>\n",
       "      <td>2235.389194</td>\n",
       "      <td>14.578988</td>\n",
       "      <td>17.610862</td>\n",
       "      <td>0.333333</td>\n",
       "    </tr>\n",
       "  </tbody>\n",
       "</table>\n",
       "</div>"
      ],
      "text/plain": [
       "   horizon           mse         rmse          mae       mape      mdape  \\\n",
       "79 88 days  5.556503e+06  2357.223658  2180.290392  14.493562  16.645156   \n",
       "80 89 days  5.675953e+06  2382.425911  2207.442021  14.558351  16.715839   \n",
       "81 90 days  5.813050e+06  2411.026811  2235.389194  14.578988  17.610862   \n",
       "\n",
       "    coverage  \n",
       "79  0.333333  \n",
       "80  0.333333  \n",
       "81  0.333333  "
      ]
     },
     "execution_count": 61,
     "metadata": {},
     "output_type": "execute_result"
    }
   ],
   "source": [
    "df_p = performance_metrics(S_cv)# performance matrics\n",
    "df_p.tail(3)"
   ]
  },
  {
   "cell_type": "code",
   "execution_count": 66,
   "id": "stock-idaho",
   "metadata": {},
   "outputs": [
    {
     "data": {
      "text/plain": [
       "81    2235.389194\n",
       "Name: mae, dtype: float64"
      ]
     },
     "execution_count": 66,
     "metadata": {},
     "output_type": "execute_result"
    }
   ],
   "source": [
    "df_p.mae.tail(1) # mean_absolute_error 804.3555555555556"
   ]
  }
 ],
 "metadata": {
  "kernelspec": {
   "display_name": "Python 3",
   "language": "python",
   "name": "python3"
  },
  "language_info": {
   "codemirror_mode": {
    "name": "ipython",
    "version": 3
   },
   "file_extension": ".py",
   "mimetype": "text/x-python",
   "name": "python",
   "nbconvert_exporter": "python",
   "pygments_lexer": "ipython3",
   "version": "3.8.5"
  }
 },
 "nbformat": 4,
 "nbformat_minor": 5
}
