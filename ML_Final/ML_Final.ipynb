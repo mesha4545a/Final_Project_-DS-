{
 "cells": [
  {
   "cell_type": "markdown",
   "id": "figured-bronze",
   "metadata": {},
   "source": [
    "## Forecasting Covid-19 Cases"
   ]
  },
  {
   "cell_type": "markdown",
   "id": "english-stuff",
   "metadata": {},
   "source": [
    "### Import the Dataset"
   ]
  },
  {
   "cell_type": "code",
   "execution_count": 1,
   "id": "dominant-disclaimer",
   "metadata": {},
   "outputs": [],
   "source": [
    "import pandas as pd\n",
    "df = pd.read_csv(\"D:\\Final_project\\data\\EDA.csv\")"
   ]
  },
  {
   "cell_type": "code",
   "execution_count": 2,
   "id": "accompanied-extension",
   "metadata": {},
   "outputs": [
    {
     "data": {
      "text/html": [
       "<div>\n",
       "<style scoped>\n",
       "    .dataframe tbody tr th:only-of-type {\n",
       "        vertical-align: middle;\n",
       "    }\n",
       "\n",
       "    .dataframe tbody tr th {\n",
       "        vertical-align: top;\n",
       "    }\n",
       "\n",
       "    .dataframe thead th {\n",
       "        text-align: right;\n",
       "    }\n",
       "</style>\n",
       "<table border=\"1\" class=\"dataframe\">\n",
       "  <thead>\n",
       "    <tr style=\"text-align: right;\">\n",
       "      <th></th>\n",
       "      <th>iso_code</th>\n",
       "      <th>continent</th>\n",
       "      <th>location</th>\n",
       "      <th>date</th>\n",
       "      <th>total_cases</th>\n",
       "      <th>new_cases</th>\n",
       "      <th>new_cases_smoothed</th>\n",
       "      <th>total_deaths</th>\n",
       "      <th>new_deaths</th>\n",
       "      <th>new_deaths_smoothed</th>\n",
       "      <th>...</th>\n",
       "      <th>people_vaccinated</th>\n",
       "      <th>people_fully_vaccinated</th>\n",
       "      <th>new_vaccinations</th>\n",
       "      <th>new_vaccinations_smoothed</th>\n",
       "      <th>total_vaccinations_per_hundred</th>\n",
       "      <th>people_vaccinated_per_hundred</th>\n",
       "      <th>people_fully_vaccinated_per_hundred</th>\n",
       "      <th>new_vaccinations_smoothed_per_million</th>\n",
       "      <th>population</th>\n",
       "      <th>population_density</th>\n",
       "    </tr>\n",
       "  </thead>\n",
       "  <tbody>\n",
       "    <tr>\n",
       "      <th>65799</th>\n",
       "      <td>ZWE</td>\n",
       "      <td>Africa</td>\n",
       "      <td>Zimbabwe</td>\n",
       "      <td>2021-02-07</td>\n",
       "      <td>34552.0</td>\n",
       "      <td>65.0</td>\n",
       "      <td>166.286</td>\n",
       "      <td>1326.0</td>\n",
       "      <td>10.0</td>\n",
       "      <td>15.571</td>\n",
       "      <td>...</td>\n",
       "      <td>202042.626514</td>\n",
       "      <td>173260.613062</td>\n",
       "      <td>-12018.854475</td>\n",
       "      <td>20179.002912</td>\n",
       "      <td>2189.385</td>\n",
       "      <td>13593.731</td>\n",
       "      <td>11657.234</td>\n",
       "      <td>1357.674</td>\n",
       "      <td>14862927.0</td>\n",
       "      <td>42.729</td>\n",
       "    </tr>\n",
       "    <tr>\n",
       "      <th>65800</th>\n",
       "      <td>ZWE</td>\n",
       "      <td>Africa</td>\n",
       "      <td>Zimbabwe</td>\n",
       "      <td>2021-02-08</td>\n",
       "      <td>34658.0</td>\n",
       "      <td>106.0</td>\n",
       "      <td>158.571</td>\n",
       "      <td>1339.0</td>\n",
       "      <td>13.0</td>\n",
       "      <td>15.000</td>\n",
       "      <td>...</td>\n",
       "      <td>200489.896645</td>\n",
       "      <td>173548.194279</td>\n",
       "      <td>-11394.374095</td>\n",
       "      <td>20075.984392</td>\n",
       "      <td>2155.236</td>\n",
       "      <td>13489.261</td>\n",
       "      <td>11676.583</td>\n",
       "      <td>1350.742</td>\n",
       "      <td>14862927.0</td>\n",
       "      <td>42.729</td>\n",
       "    </tr>\n",
       "    <tr>\n",
       "      <th>65801</th>\n",
       "      <td>ZWE</td>\n",
       "      <td>Africa</td>\n",
       "      <td>Zimbabwe</td>\n",
       "      <td>2021-02-09</td>\n",
       "      <td>34781.0</td>\n",
       "      <td>123.0</td>\n",
       "      <td>138.143</td>\n",
       "      <td>1353.0</td>\n",
       "      <td>14.0</td>\n",
       "      <td>14.143</td>\n",
       "      <td>...</td>\n",
       "      <td>199250.060411</td>\n",
       "      <td>174435.659533</td>\n",
       "      <td>-11105.734623</td>\n",
       "      <td>19997.080279</td>\n",
       "      <td>2215.303</td>\n",
       "      <td>13405.843</td>\n",
       "      <td>11736.293</td>\n",
       "      <td>1345.434</td>\n",
       "      <td>14862927.0</td>\n",
       "      <td>42.729</td>\n",
       "    </tr>\n",
       "    <tr>\n",
       "      <th>65802</th>\n",
       "      <td>ZWE</td>\n",
       "      <td>Africa</td>\n",
       "      <td>Zimbabwe</td>\n",
       "      <td>2021-02-10</td>\n",
       "      <td>34864.0</td>\n",
       "      <td>83.0</td>\n",
       "      <td>128.571</td>\n",
       "      <td>1364.0</td>\n",
       "      <td>11.0</td>\n",
       "      <td>13.571</td>\n",
       "      <td>...</td>\n",
       "      <td>197971.146576</td>\n",
       "      <td>175151.001255</td>\n",
       "      <td>-11703.673670</td>\n",
       "      <td>19929.314019</td>\n",
       "      <td>2182.777</td>\n",
       "      <td>13319.795</td>\n",
       "      <td>11784.422</td>\n",
       "      <td>1340.874</td>\n",
       "      <td>14862927.0</td>\n",
       "      <td>42.729</td>\n",
       "    </tr>\n",
       "    <tr>\n",
       "      <th>65803</th>\n",
       "      <td>ZWE</td>\n",
       "      <td>Africa</td>\n",
       "      <td>Zimbabwe</td>\n",
       "      <td>2021-02-11</td>\n",
       "      <td>34864.0</td>\n",
       "      <td>0.0</td>\n",
       "      <td>99.000</td>\n",
       "      <td>1364.0</td>\n",
       "      <td>0.0</td>\n",
       "      <td>10.857</td>\n",
       "      <td>...</td>\n",
       "      <td>188557.868114</td>\n",
       "      <td>177056.676529</td>\n",
       "      <td>-14126.035117</td>\n",
       "      <td>19375.934871</td>\n",
       "      <td>1558.995</td>\n",
       "      <td>12686.456</td>\n",
       "      <td>11912.639</td>\n",
       "      <td>1303.642</td>\n",
       "      <td>14862927.0</td>\n",
       "      <td>42.729</td>\n",
       "    </tr>\n",
       "  </tbody>\n",
       "</table>\n",
       "<p>5 rows × 37 columns</p>\n",
       "</div>"
      ],
      "text/plain": [
       "      iso_code continent  location        date  total_cases  new_cases  \\\n",
       "65799      ZWE    Africa  Zimbabwe  2021-02-07      34552.0       65.0   \n",
       "65800      ZWE    Africa  Zimbabwe  2021-02-08      34658.0      106.0   \n",
       "65801      ZWE    Africa  Zimbabwe  2021-02-09      34781.0      123.0   \n",
       "65802      ZWE    Africa  Zimbabwe  2021-02-10      34864.0       83.0   \n",
       "65803      ZWE    Africa  Zimbabwe  2021-02-11      34864.0        0.0   \n",
       "\n",
       "       new_cases_smoothed  total_deaths  new_deaths  new_deaths_smoothed  ...  \\\n",
       "65799             166.286        1326.0        10.0               15.571  ...   \n",
       "65800             158.571        1339.0        13.0               15.000  ...   \n",
       "65801             138.143        1353.0        14.0               14.143  ...   \n",
       "65802             128.571        1364.0        11.0               13.571  ...   \n",
       "65803              99.000        1364.0         0.0               10.857  ...   \n",
       "\n",
       "       people_vaccinated  people_fully_vaccinated  new_vaccinations  \\\n",
       "65799      202042.626514            173260.613062     -12018.854475   \n",
       "65800      200489.896645            173548.194279     -11394.374095   \n",
       "65801      199250.060411            174435.659533     -11105.734623   \n",
       "65802      197971.146576            175151.001255     -11703.673670   \n",
       "65803      188557.868114            177056.676529     -14126.035117   \n",
       "\n",
       "       new_vaccinations_smoothed  total_vaccinations_per_hundred  \\\n",
       "65799               20179.002912                        2189.385   \n",
       "65800               20075.984392                        2155.236   \n",
       "65801               19997.080279                        2215.303   \n",
       "65802               19929.314019                        2182.777   \n",
       "65803               19375.934871                        1558.995   \n",
       "\n",
       "       people_vaccinated_per_hundred  people_fully_vaccinated_per_hundred  \\\n",
       "65799                      13593.731                            11657.234   \n",
       "65800                      13489.261                            11676.583   \n",
       "65801                      13405.843                            11736.293   \n",
       "65802                      13319.795                            11784.422   \n",
       "65803                      12686.456                            11912.639   \n",
       "\n",
       "       new_vaccinations_smoothed_per_million  population  population_density  \n",
       "65799                               1357.674  14862927.0              42.729  \n",
       "65800                               1350.742  14862927.0              42.729  \n",
       "65801                               1345.434  14862927.0              42.729  \n",
       "65802                               1340.874  14862927.0              42.729  \n",
       "65803                               1303.642  14862927.0              42.729  \n",
       "\n",
       "[5 rows x 37 columns]"
      ]
     },
     "execution_count": 2,
     "metadata": {},
     "output_type": "execute_result"
    }
   ],
   "source": [
    "df.tail()"
   ]
  },
  {
   "cell_type": "markdown",
   "id": "theoretical-acquisition",
   "metadata": {},
   "source": [
    "### Select Subset Datasets"
   ]
  },
  {
   "cell_type": "code",
   "execution_count": 3,
   "id": "altered-burton",
   "metadata": {},
   "outputs": [],
   "source": [
    "International= df[df['location']==\"International\"]"
   ]
  },
  {
   "cell_type": "code",
   "execution_count": 4,
   "id": "corrected-glance",
   "metadata": {},
   "outputs": [],
   "source": [
    "world= df[df['location']==\"World\"]"
   ]
  },
  {
   "cell_type": "code",
   "execution_count": 5,
   "id": "short-chair",
   "metadata": {},
   "outputs": [],
   "source": [
    "Saudi = df[df['location']==\"Saudi Arabia\"]"
   ]
  },
  {
   "cell_type": "markdown",
   "id": "proprietary-assignment",
   "metadata": {},
   "source": [
    "### Prepare the Datasets for Modeling"
   ]
  },
  {
   "cell_type": "code",
   "execution_count": 6,
   "id": "republican-toyota",
   "metadata": {},
   "outputs": [],
   "source": [
    "International= International.filter(['date','new_cases'])\n",
    "# remove all columns except \"date\" and \"new cases\"\n",
    "International.columns = ['ds', 'y'] # rename the columns \n",
    " # exporting the data\n",
    "    "
   ]
  },
  {
   "cell_type": "code",
   "execution_count": 7,
   "id": "prompt-correlation",
   "metadata": {},
   "outputs": [],
   "source": [
    "world= world.filter(['date','new_cases'])\n",
    "# remove all columns except \"date\" and \"new cases\"\n",
    "world.columns = ['ds', 'y'] # rename the columns \n",
    " # exporting the data\n"
   ]
  },
  {
   "cell_type": "code",
   "execution_count": 8,
   "id": "exterior-victoria",
   "metadata": {},
   "outputs": [],
   "source": [
    "Saudi= Saudi.filter(['date','new_cases'])\n",
    "# remove all columns except \"date\" and \"new cases\"\n",
    "Saudi.columns = ['ds', 'y'] # rename the columns \n",
    " # exporting the data"
   ]
  },
  {
   "cell_type": "markdown",
   "id": "pleased-chrome",
   "metadata": {},
   "source": [
    "### Ploting the Datasets"
   ]
  },
  {
   "cell_type": "code",
   "execution_count": 9,
   "id": "broken-sample",
   "metadata": {},
   "outputs": [
    {
     "data": {
      "image/png": "[encoded data removed]",
      "text/plain": [
       "<Figure size 648x360 with 1 Axes>"
      ]
     },
     "metadata": {
      "needs_background": "light"
     },
     "output_type": "display_data"
    }
   ],
   "source": [
    "# importing libraries \n",
    "from matplotlib import pyplot\n",
    "import matplotlib.pyplot as plt\n",
    "International.plot(\"ds\",\"y\",figsize=(9,5))#plot the dataset\n",
    "plt.title(\" International Cases Distribution Per Months\", fontsize=16) #set title and it size\n",
    "plt.ylabel('Cases', fontsize=18) # set y axis name and size\n",
    "plt.xlabel('Date', fontsize=18); #set x axis size"
   ]
  },
  {
   "cell_type": "code",
   "execution_count": 10,
   "id": "awful-batch",
   "metadata": {},
   "outputs": [
    {
     "data": {
      "image/png": "[encoded data removed]",
      "text/plain": [
       "<Figure size 720x360 with 1 Axes>"
      ]
     },
     "metadata": {
      "needs_background": "light"
     },
     "output_type": "display_data"
    }
   ],
   "source": [
    "world.plot(\"ds\",\"y\",figsize=(10, 5)) #plot the dataset\n",
    "plt.title(\" world Cases Distribution Per Months\", fontsize=16) #set title and it size\n",
    "plt.ylabel('Cases', fontsize=18) # set y axis name and size\n",
    "plt.xlabel('Date', fontsize=18); #set x axis size"
   ]
  },
  {
   "cell_type": "code",
   "execution_count": 11,
   "id": "native-farming",
   "metadata": {},
   "outputs": [
    {
     "data": {
      "image/png": "[encoded data removed]",
      "text/plain": [
       "<Figure size 648x360 with 1 Axes>"
      ]
     },
     "metadata": {
      "needs_background": "light"
     },
     "output_type": "display_data"
    }
   ],
   "source": [
    "Saudi.plot(\"ds\",\"y\",figsize=(9, 5)) #plot the dataset\n",
    "plt.title(\" Saudi Cases Distribution Per Months\", fontsize=16) #set title and it size\n",
    "plt.ylabel('Cases', fontsize=18) # set y axis name and size\n",
    "plt.xlabel('Date', fontsize=18); #set x axis size"
   ]
  },
  {
   "cell_type": "markdown",
   "id": "greenhouse-occasions",
   "metadata": {},
   "source": [
    "### The Baseline Model"
   ]
  },
  {
   "cell_type": "code",
   "execution_count": 12,
   "id": "young-framing",
   "metadata": {},
   "outputs": [],
   "source": [
    "import itertools # importing library\n",
    "def base_line(df):\n",
    "    srise_value = df.y.values # take the y column data\n",
    "    value = pd.DataFrame(srise_value) # make dataframe\n",
    "    #create new dataframe contain a value and y value shifted\n",
    "    new_df = pd.concat([value,value.shift(1)],axis=1 ) \n",
    "    new_df.columns = ['present','futur']  # name the columns\n",
    "    result = new_df.futur.tail(1).item() # set result to the last value in new_df \n",
    "    global baselin # set result baseline dataset to global\n",
    "    baselin = list(itertools.repeat(result, 90)) # iterate result\n",
    "    return baselin #return iterator result"
   ]
  },
  {
   "cell_type": "code",
   "execution_count": 13,
   "id": "thick-juice",
   "metadata": {},
   "outputs": [],
   "source": [
    "#International Baseline model\n",
    "Int = base_line(International)"
   ]
  },
  {
   "cell_type": "code",
   "execution_count": 14,
   "id": "meaningful-impression",
   "metadata": {},
   "outputs": [],
   "source": [
    "#world Baseline model\n",
    "w = base_line(world)"
   ]
  },
  {
   "cell_type": "code",
   "execution_count": 15,
   "id": "starting-cycling",
   "metadata": {},
   "outputs": [],
   "source": [
    "#Saudi Baseline model\n",
    "S = base_line(Saudi)"
   ]
  },
  {
   "cell_type": "markdown",
   "id": "owned-patch",
   "metadata": {},
   "source": [
    "### Create Dataframe for the Baseline Model Results"
   ]
  },
  {
   "cell_type": "code",
   "execution_count": 16,
   "id": "pressed-administrator",
   "metadata": {},
   "outputs": [
    {
     "data": {
      "text/html": [
       "<div>\n",
       "<style scoped>\n",
       "    .dataframe tbody tr th:only-of-type {\n",
       "        vertical-align: middle;\n",
       "    }\n",
       "\n",
       "    .dataframe tbody tr th {\n",
       "        vertical-align: top;\n",
       "    }\n",
       "\n",
       "    .dataframe thead th {\n",
       "        text-align: right;\n",
       "    }\n",
       "</style>\n",
       "<table border=\"1\" class=\"dataframe\">\n",
       "  <thead>\n",
       "    <tr style=\"text-align: right;\">\n",
       "      <th></th>\n",
       "      <th>y</th>\n",
       "      <th>ds</th>\n",
       "    </tr>\n",
       "  </thead>\n",
       "  <tbody>\n",
       "    <tr>\n",
       "      <th>85</th>\n",
       "      <td>0.0</td>\n",
       "      <td>86 days</td>\n",
       "    </tr>\n",
       "    <tr>\n",
       "      <th>86</th>\n",
       "      <td>0.0</td>\n",
       "      <td>87 days</td>\n",
       "    </tr>\n",
       "    <tr>\n",
       "      <th>87</th>\n",
       "      <td>0.0</td>\n",
       "      <td>88 days</td>\n",
       "    </tr>\n",
       "    <tr>\n",
       "      <th>88</th>\n",
       "      <td>0.0</td>\n",
       "      <td>89 days</td>\n",
       "    </tr>\n",
       "    <tr>\n",
       "      <th>89</th>\n",
       "      <td>0.0</td>\n",
       "      <td>90 days</td>\n",
       "    </tr>\n",
       "  </tbody>\n",
       "</table>\n",
       "</div>"
      ],
      "text/plain": [
       "      y      ds\n",
       "85  0.0 86 days\n",
       "86  0.0 87 days\n",
       "87  0.0 88 days\n",
       "88  0.0 89 days\n",
       "89  0.0 90 days"
      ]
     },
     "execution_count": 16,
     "metadata": {},
     "output_type": "execute_result"
    }
   ],
   "source": [
    "#International\n",
    "import datetime #importing library\n",
    "date_list = [datetime.timedelta(days=x) for x in range(1,len(Int)+1)]  \n",
    "# creat dayes for values in base line model\n",
    "p1 = pd.concat([pd.Series(Int), pd.Series(date_list)], axis=1) \n",
    "# merge columns to one dataframe\n",
    "p1.columns = ['y','ds'] # name the columns\n",
    "p1.tail()"
   ]
  },
  {
   "cell_type": "code",
   "execution_count": 17,
   "id": "accepted-lease",
   "metadata": {},
   "outputs": [
    {
     "data": {
      "text/html": [
       "<div>\n",
       "<style scoped>\n",
       "    .dataframe tbody tr th:only-of-type {\n",
       "        vertical-align: middle;\n",
       "    }\n",
       "\n",
       "    .dataframe tbody tr th {\n",
       "        vertical-align: top;\n",
       "    }\n",
       "\n",
       "    .dataframe thead th {\n",
       "        text-align: right;\n",
       "    }\n",
       "</style>\n",
       "<table border=\"1\" class=\"dataframe\">\n",
       "  <thead>\n",
       "    <tr style=\"text-align: right;\">\n",
       "      <th></th>\n",
       "      <th>y</th>\n",
       "      <th>ds</th>\n",
       "    </tr>\n",
       "  </thead>\n",
       "  <tbody>\n",
       "    <tr>\n",
       "      <th>85</th>\n",
       "      <td>514862.0</td>\n",
       "      <td>86 days</td>\n",
       "    </tr>\n",
       "    <tr>\n",
       "      <th>86</th>\n",
       "      <td>514862.0</td>\n",
       "      <td>87 days</td>\n",
       "    </tr>\n",
       "    <tr>\n",
       "      <th>87</th>\n",
       "      <td>514862.0</td>\n",
       "      <td>88 days</td>\n",
       "    </tr>\n",
       "    <tr>\n",
       "      <th>88</th>\n",
       "      <td>514862.0</td>\n",
       "      <td>89 days</td>\n",
       "    </tr>\n",
       "    <tr>\n",
       "      <th>89</th>\n",
       "      <td>514862.0</td>\n",
       "      <td>90 days</td>\n",
       "    </tr>\n",
       "  </tbody>\n",
       "</table>\n",
       "</div>"
      ],
      "text/plain": [
       "           y      ds\n",
       "85  514862.0 86 days\n",
       "86  514862.0 87 days\n",
       "87  514862.0 88 days\n",
       "88  514862.0 89 days\n",
       "89  514862.0 90 days"
      ]
     },
     "execution_count": 17,
     "metadata": {},
     "output_type": "execute_result"
    }
   ],
   "source": [
    "#world\n",
    "date_list = [datetime.timedelta(days=x) for x in range(1,len(w)+1)]  \n",
    "# creat dayes for values in base line model\n",
    "p2 = pd.concat([pd.Series(w), pd.Series(date_list)], axis=1) \n",
    "# merge columns to one dataframe\n",
    "p2.columns = ['y','ds'] # name the columns\n",
    "p2.tail()"
   ]
  },
  {
   "cell_type": "code",
   "execution_count": 18,
   "id": "decimal-marina",
   "metadata": {},
   "outputs": [
    {
     "data": {
      "text/html": [
       "<div>\n",
       "<style scoped>\n",
       "    .dataframe tbody tr th:only-of-type {\n",
       "        vertical-align: middle;\n",
       "    }\n",
       "\n",
       "    .dataframe tbody tr th {\n",
       "        vertical-align: top;\n",
       "    }\n",
       "\n",
       "    .dataframe thead th {\n",
       "        text-align: right;\n",
       "    }\n",
       "</style>\n",
       "<table border=\"1\" class=\"dataframe\">\n",
       "  <thead>\n",
       "    <tr style=\"text-align: right;\">\n",
       "      <th></th>\n",
       "      <th>y</th>\n",
       "      <th>ds</th>\n",
       "    </tr>\n",
       "  </thead>\n",
       "  <tbody>\n",
       "    <tr>\n",
       "      <th>85</th>\n",
       "      <td>369.0</td>\n",
       "      <td>86 days</td>\n",
       "    </tr>\n",
       "    <tr>\n",
       "      <th>86</th>\n",
       "      <td>369.0</td>\n",
       "      <td>87 days</td>\n",
       "    </tr>\n",
       "    <tr>\n",
       "      <th>87</th>\n",
       "      <td>369.0</td>\n",
       "      <td>88 days</td>\n",
       "    </tr>\n",
       "    <tr>\n",
       "      <th>88</th>\n",
       "      <td>369.0</td>\n",
       "      <td>89 days</td>\n",
       "    </tr>\n",
       "    <tr>\n",
       "      <th>89</th>\n",
       "      <td>369.0</td>\n",
       "      <td>90 days</td>\n",
       "    </tr>\n",
       "  </tbody>\n",
       "</table>\n",
       "</div>"
      ],
      "text/plain": [
       "        y      ds\n",
       "85  369.0 86 days\n",
       "86  369.0 87 days\n",
       "87  369.0 88 days\n",
       "88  369.0 89 days\n",
       "89  369.0 90 days"
      ]
     },
     "execution_count": 18,
     "metadata": {},
     "output_type": "execute_result"
    }
   ],
   "source": [
    "#Saudi\n",
    "date_list = [datetime.timedelta(days=x) for x in range(1,len(S)+1)]  \n",
    "# creat dayes for values in base line model\n",
    "p3 = pd.concat([pd.Series(S), pd.Series(date_list)], axis=1) \n",
    "# merge columns to one dataframe\n",
    "p3.columns = ['y','ds'] # name the columns\n",
    "p3.tail()"
   ]
  },
  {
   "cell_type": "markdown",
   "id": "hearing-moral",
   "metadata": {},
   "source": [
    "### Plot the Baseline Model Result  "
   ]
  },
  {
   "cell_type": "code",
   "execution_count": 19,
   "id": "established-intranet",
   "metadata": {},
   "outputs": [
    {
     "data": {
      "image/png": "[encoded data removed]",
      "text/plain": [
       "<Figure size 1800x360 with 1 Axes>"
      ]
     },
     "metadata": {
      "needs_background": "light"
     },
     "output_type": "display_data"
    }
   ],
   "source": [
    "#International\n",
    "p1.plot(\"ds\",\"y\",figsize=(25, 5)) # plot the data\n",
    "plt.title(\"International baseModel Forcast\", fontsize=16) # set title\n",
    "plt.ylabel('Cases', fontsize=18) #set y axis name and size\n",
    "plt.xlabel('ds', fontsize=18);#set x axis name and size"
   ]
  },
  {
   "cell_type": "code",
   "execution_count": 20,
   "id": "precise-bulgaria",
   "metadata": {},
   "outputs": [
    {
     "data": {
      "image/png": "[encoded data removed]",
      "text/plain": [
       "<Figure size 1800x360 with 1 Axes>"
      ]
     },
     "metadata": {
      "needs_background": "light"
     },
     "output_type": "display_data"
    }
   ],
   "source": [
    "#world\n",
    "p2.plot(\"ds\",\"y\",figsize=(25, 5)) # plot the data\n",
    "plt.title(\"world baseModel Forcast\", fontsize=16) # set title\n",
    "plt.ylabel('Cases', fontsize=18) #set y axis name and size\n",
    "plt.xlabel('ds', fontsize=18);#set x axis name and size"
   ]
  },
  {
   "cell_type": "code",
   "execution_count": 21,
   "id": "periodic-aquarium",
   "metadata": {},
   "outputs": [
    {
     "data": {
      "image/png": "[encoded data removed]",
      "text/plain": [
       "<Figure size 1800x360 with 1 Axes>"
      ]
     },
     "metadata": {
      "needs_background": "light"
     },
     "output_type": "display_data"
    }
   ],
   "source": [
    "#Saudi\n",
    "p3.plot(\"ds\",\"y\",figsize=(25, 5)) # plot the data\n",
    "plt.title(\"Saudi baseModel Forcast\", fontsize=16) # set title\n",
    "plt.ylabel('Cases', fontsize=18) #set y axis name and size\n",
    "plt.xlabel('ds', fontsize=18);#set x axis name and size"
   ]
  },
  {
   "cell_type": "markdown",
   "id": "criminal-remark",
   "metadata": {},
   "source": [
    "### Baseline Model Scores"
   ]
  },
  {
   "cell_type": "code",
   "execution_count": 22,
   "id": "enhanced-minneapolis",
   "metadata": {},
   "outputs": [],
   "source": [
    "from sklearn.metrics import mean_absolute_error"
   ]
  },
  {
   "cell_type": "markdown",
   "id": "scenic-circle",
   "metadata": {},
   "source": [
    "##### International Baseline Model Score"
   ]
  },
  {
   "cell_type": "code",
   "execution_count": 23,
   "id": "silent-manufacturer",
   "metadata": {},
   "outputs": [
    {
     "data": {
      "text/plain": [
       "8.011111111111111"
      ]
     },
     "execution_count": 23,
     "metadata": {},
     "output_type": "execute_result"
    }
   ],
   "source": [
    "mean_absolute_error(International.y[:90], Int)"
   ]
  },
  {
   "cell_type": "markdown",
   "id": "joined-rugby",
   "metadata": {},
   "source": [
    "##### World Baseline Model Score"
   ]
  },
  {
   "cell_type": "code",
   "execution_count": 24,
   "id": "latin-intake",
   "metadata": {},
   "outputs": [
    {
     "data": {
      "text/plain": [
       "487182.5"
      ]
     },
     "execution_count": 24,
     "metadata": {},
     "output_type": "execute_result"
    }
   ],
   "source": [
    "mean_absolute_error(world.y[:90], w)"
   ]
  },
  {
   "cell_type": "markdown",
   "id": "south-space",
   "metadata": {},
   "source": [
    "##### Saudi Baseline Model Score"
   ]
  },
  {
   "cell_type": "code",
   "execution_count": 25,
   "id": "comparable-alexander",
   "metadata": {},
   "outputs": [
    {
     "data": {
      "text/plain": [
       "804.3555555555556"
      ]
     },
     "execution_count": 25,
     "metadata": {},
     "output_type": "execute_result"
    }
   ],
   "source": [
    "mean_absolute_error(Saudi.y[:90], S)"
   ]
  },
  {
   "cell_type": "markdown",
   "id": "every-referral",
   "metadata": {},
   "source": [
    "### Prophet Models"
   ]
  },
  {
   "cell_type": "code",
   "execution_count": 26,
   "id": "beneficial-coffee",
   "metadata": {},
   "outputs": [],
   "source": [
    "from fbprophet import Prophet # import propht"
   ]
  },
  {
   "cell_type": "markdown",
   "id": "japanese-causing",
   "metadata": {},
   "source": [
    "#### International Prophet Model"
   ]
  },
  {
   "cell_type": "code",
   "execution_count": 27,
   "id": "floppy-elevation",
   "metadata": {},
   "outputs": [
    {
     "name": "stderr",
     "output_type": "stream",
     "text": [
      "INFO:fbprophet:Disabling yearly seasonality. Run prophet with yearly_seasonality=True to override this.\n",
      "INFO:fbprophet:Disabling daily seasonality. Run prophet with daily_seasonality=True to override this.\n"
     ]
    },
    {
     "data": {
      "text/plain": [
       "<fbprophet.forecaster.Prophet at 0x273819b6340>"
      ]
     },
     "execution_count": 27,
     "metadata": {},
     "output_type": "execute_result"
    }
   ],
   "source": [
    "m = Prophet() # set up model\n",
    "m.fit(International) # fit model"
   ]
  },
  {
   "cell_type": "code",
   "execution_count": 28,
   "id": "silent-south",
   "metadata": {},
   "outputs": [],
   "source": [
    "future_Int = m.make_future_dataframe(periods=365)\n",
    "#make a dataframe to hold your future value predictions"
   ]
  },
  {
   "cell_type": "code",
   "execution_count": 29,
   "id": "pressing-genetics",
   "metadata": {},
   "outputs": [
    {
     "data": {
      "text/html": [
       "<div>\n",
       "<style scoped>\n",
       "    .dataframe tbody tr th:only-of-type {\n",
       "        vertical-align: middle;\n",
       "    }\n",
       "\n",
       "    .dataframe tbody tr th {\n",
       "        vertical-align: top;\n",
       "    }\n",
       "\n",
       "    .dataframe thead th {\n",
       "        text-align: right;\n",
       "    }\n",
       "</style>\n",
       "<table border=\"1\" class=\"dataframe\">\n",
       "  <thead>\n",
       "    <tr style=\"text-align: right;\">\n",
       "      <th></th>\n",
       "      <th>ds</th>\n",
       "    </tr>\n",
       "  </thead>\n",
       "  <tbody>\n",
       "    <tr>\n",
       "      <th>731</th>\n",
       "      <td>2022-02-07</td>\n",
       "    </tr>\n",
       "    <tr>\n",
       "      <th>732</th>\n",
       "      <td>2022-02-08</td>\n",
       "    </tr>\n",
       "    <tr>\n",
       "      <th>733</th>\n",
       "      <td>2022-02-09</td>\n",
       "    </tr>\n",
       "    <tr>\n",
       "      <th>734</th>\n",
       "      <td>2022-02-10</td>\n",
       "    </tr>\n",
       "    <tr>\n",
       "      <th>735</th>\n",
       "      <td>2022-02-11</td>\n",
       "    </tr>\n",
       "  </tbody>\n",
       "</table>\n",
       "</div>"
      ],
      "text/plain": [
       "            ds\n",
       "731 2022-02-07\n",
       "732 2022-02-08\n",
       "733 2022-02-09\n",
       "734 2022-02-10\n",
       "735 2022-02-11"
      ]
     },
     "execution_count": 29,
     "metadata": {},
     "output_type": "execute_result"
    }
   ],
   "source": [
    "future_Int.tail() # see the data"
   ]
  },
  {
   "cell_type": "code",
   "execution_count": 30,
   "id": "copyrighted-leeds",
   "metadata": {},
   "outputs": [
    {
     "data": {
      "text/html": [
       "<div>\n",
       "<style scoped>\n",
       "    .dataframe tbody tr th:only-of-type {\n",
       "        vertical-align: middle;\n",
       "    }\n",
       "\n",
       "    .dataframe tbody tr th {\n",
       "        vertical-align: top;\n",
       "    }\n",
       "\n",
       "    .dataframe thead th {\n",
       "        text-align: right;\n",
       "    }\n",
       "</style>\n",
       "<table border=\"1\" class=\"dataframe\">\n",
       "  <thead>\n",
       "    <tr style=\"text-align: right;\">\n",
       "      <th></th>\n",
       "      <th>ds</th>\n",
       "      <th>trend</th>\n",
       "      <th>yhat_lower</th>\n",
       "      <th>yhat_upper</th>\n",
       "      <th>trend_lower</th>\n",
       "      <th>trend_upper</th>\n",
       "      <th>additive_terms</th>\n",
       "      <th>additive_terms_lower</th>\n",
       "      <th>additive_terms_upper</th>\n",
       "      <th>weekly</th>\n",
       "      <th>weekly_lower</th>\n",
       "      <th>weekly_upper</th>\n",
       "      <th>multiplicative_terms</th>\n",
       "      <th>multiplicative_terms_lower</th>\n",
       "      <th>multiplicative_terms_upper</th>\n",
       "      <th>yhat</th>\n",
       "    </tr>\n",
       "  </thead>\n",
       "  <tbody>\n",
       "    <tr>\n",
       "      <th>0</th>\n",
       "      <td>2020-02-07</td>\n",
       "      <td>20.702194</td>\n",
       "      <td>8.120557</td>\n",
       "      <td>32.558632</td>\n",
       "      <td>20.702194</td>\n",
       "      <td>20.702194</td>\n",
       "      <td>-0.151995</td>\n",
       "      <td>-0.151995</td>\n",
       "      <td>-0.151995</td>\n",
       "      <td>-0.151995</td>\n",
       "      <td>-0.151995</td>\n",
       "      <td>-0.151995</td>\n",
       "      <td>0.0</td>\n",
       "      <td>0.0</td>\n",
       "      <td>0.0</td>\n",
       "      <td>20.550199</td>\n",
       "    </tr>\n",
       "    <tr>\n",
       "      <th>1</th>\n",
       "      <td>2020-02-08</td>\n",
       "      <td>20.401033</td>\n",
       "      <td>7.364038</td>\n",
       "      <td>32.426553</td>\n",
       "      <td>20.401033</td>\n",
       "      <td>20.401033</td>\n",
       "      <td>-0.753577</td>\n",
       "      <td>-0.753577</td>\n",
       "      <td>-0.753577</td>\n",
       "      <td>-0.753577</td>\n",
       "      <td>-0.753577</td>\n",
       "      <td>-0.753577</td>\n",
       "      <td>0.0</td>\n",
       "      <td>0.0</td>\n",
       "      <td>0.0</td>\n",
       "      <td>19.647456</td>\n",
       "    </tr>\n",
       "    <tr>\n",
       "      <th>2</th>\n",
       "      <td>2020-02-09</td>\n",
       "      <td>20.099873</td>\n",
       "      <td>9.025253</td>\n",
       "      <td>33.214233</td>\n",
       "      <td>20.099873</td>\n",
       "      <td>20.099873</td>\n",
       "      <td>0.454282</td>\n",
       "      <td>0.454282</td>\n",
       "      <td>0.454282</td>\n",
       "      <td>0.454282</td>\n",
       "      <td>0.454282</td>\n",
       "      <td>0.454282</td>\n",
       "      <td>0.0</td>\n",
       "      <td>0.0</td>\n",
       "      <td>0.0</td>\n",
       "      <td>20.554155</td>\n",
       "    </tr>\n",
       "    <tr>\n",
       "      <th>3</th>\n",
       "      <td>2020-02-10</td>\n",
       "      <td>19.798712</td>\n",
       "      <td>8.772705</td>\n",
       "      <td>34.142569</td>\n",
       "      <td>19.798712</td>\n",
       "      <td>19.798712</td>\n",
       "      <td>1.265996</td>\n",
       "      <td>1.265996</td>\n",
       "      <td>1.265996</td>\n",
       "      <td>1.265996</td>\n",
       "      <td>1.265996</td>\n",
       "      <td>1.265996</td>\n",
       "      <td>0.0</td>\n",
       "      <td>0.0</td>\n",
       "      <td>0.0</td>\n",
       "      <td>21.064708</td>\n",
       "    </tr>\n",
       "    <tr>\n",
       "      <th>4</th>\n",
       "      <td>2020-02-11</td>\n",
       "      <td>19.497552</td>\n",
       "      <td>6.887016</td>\n",
       "      <td>31.966118</td>\n",
       "      <td>19.497552</td>\n",
       "      <td>19.497552</td>\n",
       "      <td>-0.206922</td>\n",
       "      <td>-0.206922</td>\n",
       "      <td>-0.206922</td>\n",
       "      <td>-0.206922</td>\n",
       "      <td>-0.206922</td>\n",
       "      <td>-0.206922</td>\n",
       "      <td>0.0</td>\n",
       "      <td>0.0</td>\n",
       "      <td>0.0</td>\n",
       "      <td>19.290630</td>\n",
       "    </tr>\n",
       "    <tr>\n",
       "      <th>...</th>\n",
       "      <td>...</td>\n",
       "      <td>...</td>\n",
       "      <td>...</td>\n",
       "      <td>...</td>\n",
       "      <td>...</td>\n",
       "      <td>...</td>\n",
       "      <td>...</td>\n",
       "      <td>...</td>\n",
       "      <td>...</td>\n",
       "      <td>...</td>\n",
       "      <td>...</td>\n",
       "      <td>...</td>\n",
       "      <td>...</td>\n",
       "      <td>...</td>\n",
       "      <td>...</td>\n",
       "      <td>...</td>\n",
       "    </tr>\n",
       "    <tr>\n",
       "      <th>731</th>\n",
       "      <td>2022-02-07</td>\n",
       "      <td>-0.346873</td>\n",
       "      <td>-23.343742</td>\n",
       "      <td>24.593315</td>\n",
       "      <td>-20.529668</td>\n",
       "      <td>22.302586</td>\n",
       "      <td>1.265996</td>\n",
       "      <td>1.265996</td>\n",
       "      <td>1.265996</td>\n",
       "      <td>1.265996</td>\n",
       "      <td>1.265996</td>\n",
       "      <td>1.265996</td>\n",
       "      <td>0.0</td>\n",
       "      <td>0.0</td>\n",
       "      <td>0.0</td>\n",
       "      <td>0.919123</td>\n",
       "    </tr>\n",
       "    <tr>\n",
       "      <th>732</th>\n",
       "      <td>2022-02-08</td>\n",
       "      <td>-0.347309</td>\n",
       "      <td>-24.741450</td>\n",
       "      <td>25.654575</td>\n",
       "      <td>-20.633886</td>\n",
       "      <td>22.380811</td>\n",
       "      <td>-0.206922</td>\n",
       "      <td>-0.206922</td>\n",
       "      <td>-0.206922</td>\n",
       "      <td>-0.206922</td>\n",
       "      <td>-0.206922</td>\n",
       "      <td>-0.206922</td>\n",
       "      <td>0.0</td>\n",
       "      <td>0.0</td>\n",
       "      <td>0.0</td>\n",
       "      <td>-0.554231</td>\n",
       "    </tr>\n",
       "    <tr>\n",
       "      <th>733</th>\n",
       "      <td>2022-02-09</td>\n",
       "      <td>-0.347745</td>\n",
       "      <td>-24.010251</td>\n",
       "      <td>27.577601</td>\n",
       "      <td>-20.738104</td>\n",
       "      <td>22.459110</td>\n",
       "      <td>0.923393</td>\n",
       "      <td>0.923393</td>\n",
       "      <td>0.923393</td>\n",
       "      <td>0.923393</td>\n",
       "      <td>0.923393</td>\n",
       "      <td>0.923393</td>\n",
       "      <td>0.0</td>\n",
       "      <td>0.0</td>\n",
       "      <td>0.0</td>\n",
       "      <td>0.575649</td>\n",
       "    </tr>\n",
       "    <tr>\n",
       "      <th>734</th>\n",
       "      <td>2022-02-10</td>\n",
       "      <td>-0.348180</td>\n",
       "      <td>-26.633299</td>\n",
       "      <td>24.892264</td>\n",
       "      <td>-20.842323</td>\n",
       "      <td>22.537409</td>\n",
       "      <td>-1.531178</td>\n",
       "      <td>-1.531178</td>\n",
       "      <td>-1.531178</td>\n",
       "      <td>-1.531178</td>\n",
       "      <td>-1.531178</td>\n",
       "      <td>-1.531178</td>\n",
       "      <td>0.0</td>\n",
       "      <td>0.0</td>\n",
       "      <td>0.0</td>\n",
       "      <td>-1.879358</td>\n",
       "    </tr>\n",
       "    <tr>\n",
       "      <th>735</th>\n",
       "      <td>2022-02-11</td>\n",
       "      <td>-0.348616</td>\n",
       "      <td>-24.825848</td>\n",
       "      <td>26.005673</td>\n",
       "      <td>-20.943356</td>\n",
       "      <td>22.629328</td>\n",
       "      <td>-0.151995</td>\n",
       "      <td>-0.151995</td>\n",
       "      <td>-0.151995</td>\n",
       "      <td>-0.151995</td>\n",
       "      <td>-0.151995</td>\n",
       "      <td>-0.151995</td>\n",
       "      <td>0.0</td>\n",
       "      <td>0.0</td>\n",
       "      <td>0.0</td>\n",
       "      <td>-0.500610</td>\n",
       "    </tr>\n",
       "  </tbody>\n",
       "</table>\n",
       "<p>736 rows × 16 columns</p>\n",
       "</div>"
      ],
      "text/plain": [
       "            ds      trend  yhat_lower  yhat_upper  trend_lower  trend_upper  \\\n",
       "0   2020-02-07  20.702194    8.120557   32.558632    20.702194    20.702194   \n",
       "1   2020-02-08  20.401033    7.364038   32.426553    20.401033    20.401033   \n",
       "2   2020-02-09  20.099873    9.025253   33.214233    20.099873    20.099873   \n",
       "3   2020-02-10  19.798712    8.772705   34.142569    19.798712    19.798712   \n",
       "4   2020-02-11  19.497552    6.887016   31.966118    19.497552    19.497552   \n",
       "..         ...        ...         ...         ...          ...          ...   \n",
       "731 2022-02-07  -0.346873  -23.343742   24.593315   -20.529668    22.302586   \n",
       "732 2022-02-08  -0.347309  -24.741450   25.654575   -20.633886    22.380811   \n",
       "733 2022-02-09  -0.347745  -24.010251   27.577601   -20.738104    22.459110   \n",
       "734 2022-02-10  -0.348180  -26.633299   24.892264   -20.842323    22.537409   \n",
       "735 2022-02-11  -0.348616  -24.825848   26.005673   -20.943356    22.629328   \n",
       "\n",
       "     additive_terms  additive_terms_lower  additive_terms_upper    weekly  \\\n",
       "0         -0.151995             -0.151995             -0.151995 -0.151995   \n",
       "1         -0.753577             -0.753577             -0.753577 -0.753577   \n",
       "2          0.454282              0.454282              0.454282  0.454282   \n",
       "3          1.265996              1.265996              1.265996  1.265996   \n",
       "4         -0.206922             -0.206922             -0.206922 -0.206922   \n",
       "..              ...                   ...                   ...       ...   \n",
       "731        1.265996              1.265996              1.265996  1.265996   \n",
       "732       -0.206922             -0.206922             -0.206922 -0.206922   \n",
       "733        0.923393              0.923393              0.923393  0.923393   \n",
       "734       -1.531178             -1.531178             -1.531178 -1.531178   \n",
       "735       -0.151995             -0.151995             -0.151995 -0.151995   \n",
       "\n",
       "     weekly_lower  weekly_upper  multiplicative_terms  \\\n",
       "0       -0.151995     -0.151995                   0.0   \n",
       "1       -0.753577     -0.753577                   0.0   \n",
       "2        0.454282      0.454282                   0.0   \n",
       "3        1.265996      1.265996                   0.0   \n",
       "4       -0.206922     -0.206922                   0.0   \n",
       "..            ...           ...                   ...   \n",
       "731      1.265996      1.265996                   0.0   \n",
       "732     -0.206922     -0.206922                   0.0   \n",
       "733      0.923393      0.923393                   0.0   \n",
       "734     -1.531178     -1.531178                   0.0   \n",
       "735     -0.151995     -0.151995                   0.0   \n",
       "\n",
       "     multiplicative_terms_lower  multiplicative_terms_upper       yhat  \n",
       "0                           0.0                         0.0  20.550199  \n",
       "1                           0.0                         0.0  19.647456  \n",
       "2                           0.0                         0.0  20.554155  \n",
       "3                           0.0                         0.0  21.064708  \n",
       "4                           0.0                         0.0  19.290630  \n",
       "..                          ...                         ...        ...  \n",
       "731                         0.0                         0.0   0.919123  \n",
       "732                         0.0                         0.0  -0.554231  \n",
       "733                         0.0                         0.0   0.575649  \n",
       "734                         0.0                         0.0  -1.879358  \n",
       "735                         0.0                         0.0  -0.500610  \n",
       "\n",
       "[736 rows x 16 columns]"
      ]
     },
     "execution_count": 30,
     "metadata": {},
     "output_type": "execute_result"
    }
   ],
   "source": [
    "m.predict(future_Int) #  make a forecast "
   ]
  },
  {
   "cell_type": "code",
   "execution_count": 31,
   "id": "possible-criterion",
   "metadata": {},
   "outputs": [
    {
     "data": {
      "text/html": [
       "<div>\n",
       "<style scoped>\n",
       "    .dataframe tbody tr th:only-of-type {\n",
       "        vertical-align: middle;\n",
       "    }\n",
       "\n",
       "    .dataframe tbody tr th {\n",
       "        vertical-align: top;\n",
       "    }\n",
       "\n",
       "    .dataframe thead th {\n",
       "        text-align: right;\n",
       "    }\n",
       "</style>\n",
       "<table border=\"1\" class=\"dataframe\">\n",
       "  <thead>\n",
       "    <tr style=\"text-align: right;\">\n",
       "      <th></th>\n",
       "      <th>ds</th>\n",
       "      <th>yhat</th>\n",
       "      <th>yhat_lower</th>\n",
       "      <th>yhat_upper</th>\n",
       "    </tr>\n",
       "  </thead>\n",
       "  <tbody>\n",
       "    <tr>\n",
       "      <th>731</th>\n",
       "      <td>2022-02-07</td>\n",
       "      <td>0.919123</td>\n",
       "      <td>-26.381158</td>\n",
       "      <td>26.620019</td>\n",
       "    </tr>\n",
       "    <tr>\n",
       "      <th>732</th>\n",
       "      <td>2022-02-08</td>\n",
       "      <td>-0.554231</td>\n",
       "      <td>-25.386885</td>\n",
       "      <td>24.887145</td>\n",
       "    </tr>\n",
       "    <tr>\n",
       "      <th>733</th>\n",
       "      <td>2022-02-09</td>\n",
       "      <td>0.575649</td>\n",
       "      <td>-24.832774</td>\n",
       "      <td>25.257137</td>\n",
       "    </tr>\n",
       "    <tr>\n",
       "      <th>734</th>\n",
       "      <td>2022-02-10</td>\n",
       "      <td>-1.879358</td>\n",
       "      <td>-27.533868</td>\n",
       "      <td>24.341889</td>\n",
       "    </tr>\n",
       "    <tr>\n",
       "      <th>735</th>\n",
       "      <td>2022-02-11</td>\n",
       "      <td>-0.500610</td>\n",
       "      <td>-26.114134</td>\n",
       "      <td>25.361182</td>\n",
       "    </tr>\n",
       "  </tbody>\n",
       "</table>\n",
       "</div>"
      ],
      "text/plain": [
       "            ds      yhat  yhat_lower  yhat_upper\n",
       "731 2022-02-07  0.919123  -26.381158   26.620019\n",
       "732 2022-02-08 -0.554231  -25.386885   24.887145\n",
       "733 2022-02-09  0.575649  -24.832774   25.257137\n",
       "734 2022-02-10 -1.879358  -27.533868   24.341889\n",
       "735 2022-02-11 -0.500610  -26.114134   25.361182"
      ]
     },
     "execution_count": 31,
     "metadata": {},
     "output_type": "execute_result"
    }
   ],
   "source": [
    "forecast_Int = m.predict(future_Int) #  make a forecast \n",
    "forecast_Int[['ds', 'yhat', 'yhat_lower', 'yhat_upper']].tail() # chosen columns"
   ]
  },
  {
   "cell_type": "markdown",
   "id": "identified-victor",
   "metadata": {},
   "source": [
    "#### Plot the Forecast for International Data"
   ]
  },
  {
   "cell_type": "code",
   "execution_count": 32,
   "id": "vertical-collapse",
   "metadata": {},
   "outputs": [
    {
     "data": {
      "image/png": "[encoded data removed]",
      "text/plain": [
       "<Figure size 720x432 with 1 Axes>"
      ]
     },
     "metadata": {},
     "output_type": "display_data"
    }
   ],
   "source": [
    "m.plot(forecast_Int); # plot \n",
    "plt.title(\"International Forcast\", fontsize=16) # set title\n",
    "plt.ylabel('Y', fontsize=18) #set y axis name and size\n",
    "plt.xlabel('ds', fontsize=18);#set x axis name and size"
   ]
  },
  {
   "cell_type": "markdown",
   "id": "neural-synthesis",
   "metadata": {},
   "source": [
    " - Black dots: actual values\n",
    " - Blue lines: upper, actual (dark blue), lower windows for yhat\n",
    " - Blue blob: prediction window (yhat window)"
   ]
  },
  {
   "cell_type": "markdown",
   "id": "blond-sharp",
   "metadata": {},
   "source": [
    "### Plot Components of International Forcast (Trend,Weekly)"
   ]
  },
  {
   "cell_type": "code",
   "execution_count": 33,
   "id": "differential-taste",
   "metadata": {},
   "outputs": [
    {
     "data": {
      "image/png": "[encoded data removed]",
      "text/plain": [
       "<Figure size 648x432 with 2 Axes>"
      ]
     },
     "metadata": {},
     "output_type": "display_data"
    }
   ],
   "source": [
    "m.plot_components(forecast_Int);#plot"
   ]
  },
  {
   "cell_type": "markdown",
   "id": "sticky-brain",
   "metadata": {},
   "source": [
    "#### World Prophet Model"
   ]
  },
  {
   "cell_type": "code",
   "execution_count": 34,
   "id": "sacred-runner",
   "metadata": {},
   "outputs": [
    {
     "name": "stderr",
     "output_type": "stream",
     "text": [
      "INFO:fbprophet:Disabling yearly seasonality. Run prophet with yearly_seasonality=True to override this.\n",
      "INFO:fbprophet:Disabling daily seasonality. Run prophet with daily_seasonality=True to override this.\n"
     ]
    },
    {
     "data": {
      "text/plain": [
       "<fbprophet.forecaster.Prophet at 0x27383e80610>"
      ]
     },
     "execution_count": 34,
     "metadata": {},
     "output_type": "execute_result"
    }
   ],
   "source": [
    "m1 = Prophet() # set up model \n",
    "m1.fit(world) # fit model"
   ]
  },
  {
   "cell_type": "code",
   "execution_count": 35,
   "id": "answering-volunteer",
   "metadata": {},
   "outputs": [],
   "source": [
    "future_W = m.make_future_dataframe(periods=365)\n",
    "#make a dataframe to hold your future value predictions"
   ]
  },
  {
   "cell_type": "code",
   "execution_count": 36,
   "id": "brown-lithuania",
   "metadata": {},
   "outputs": [
    {
     "data": {
      "text/html": [
       "<div>\n",
       "<style scoped>\n",
       "    .dataframe tbody tr th:only-of-type {\n",
       "        vertical-align: middle;\n",
       "    }\n",
       "\n",
       "    .dataframe tbody tr th {\n",
       "        vertical-align: top;\n",
       "    }\n",
       "\n",
       "    .dataframe thead th {\n",
       "        text-align: right;\n",
       "    }\n",
       "</style>\n",
       "<table border=\"1\" class=\"dataframe\">\n",
       "  <thead>\n",
       "    <tr style=\"text-align: right;\">\n",
       "      <th></th>\n",
       "      <th>ds</th>\n",
       "    </tr>\n",
       "  </thead>\n",
       "  <tbody>\n",
       "    <tr>\n",
       "      <th>731</th>\n",
       "      <td>2022-02-07</td>\n",
       "    </tr>\n",
       "    <tr>\n",
       "      <th>732</th>\n",
       "      <td>2022-02-08</td>\n",
       "    </tr>\n",
       "    <tr>\n",
       "      <th>733</th>\n",
       "      <td>2022-02-09</td>\n",
       "    </tr>\n",
       "    <tr>\n",
       "      <th>734</th>\n",
       "      <td>2022-02-10</td>\n",
       "    </tr>\n",
       "    <tr>\n",
       "      <th>735</th>\n",
       "      <td>2022-02-11</td>\n",
       "    </tr>\n",
       "  </tbody>\n",
       "</table>\n",
       "</div>"
      ],
      "text/plain": [
       "            ds\n",
       "731 2022-02-07\n",
       "732 2022-02-08\n",
       "733 2022-02-09\n",
       "734 2022-02-10\n",
       "735 2022-02-11"
      ]
     },
     "execution_count": 36,
     "metadata": {},
     "output_type": "execute_result"
    }
   ],
   "source": [
    "future_W.tail() # see the data"
   ]
  },
  {
   "cell_type": "code",
   "execution_count": 37,
   "id": "daily-canyon",
   "metadata": {},
   "outputs": [
    {
     "data": {
      "text/html": [
       "<div>\n",
       "<style scoped>\n",
       "    .dataframe tbody tr th:only-of-type {\n",
       "        vertical-align: middle;\n",
       "    }\n",
       "\n",
       "    .dataframe tbody tr th {\n",
       "        vertical-align: top;\n",
       "    }\n",
       "\n",
       "    .dataframe thead th {\n",
       "        text-align: right;\n",
       "    }\n",
       "</style>\n",
       "<table border=\"1\" class=\"dataframe\">\n",
       "  <thead>\n",
       "    <tr style=\"text-align: right;\">\n",
       "      <th></th>\n",
       "      <th>ds</th>\n",
       "      <th>trend</th>\n",
       "      <th>yhat_lower</th>\n",
       "      <th>yhat_upper</th>\n",
       "      <th>trend_lower</th>\n",
       "      <th>trend_upper</th>\n",
       "      <th>additive_terms</th>\n",
       "      <th>additive_terms_lower</th>\n",
       "      <th>additive_terms_upper</th>\n",
       "      <th>weekly</th>\n",
       "      <th>weekly_lower</th>\n",
       "      <th>weekly_upper</th>\n",
       "      <th>multiplicative_terms</th>\n",
       "      <th>multiplicative_terms_lower</th>\n",
       "      <th>multiplicative_terms_upper</th>\n",
       "      <th>yhat</th>\n",
       "    </tr>\n",
       "  </thead>\n",
       "  <tbody>\n",
       "    <tr>\n",
       "      <th>0</th>\n",
       "      <td>2020-02-07</td>\n",
       "      <td>-10608.346258</td>\n",
       "      <td>-51150.415541</td>\n",
       "      <td>7.947952e+04</td>\n",
       "      <td>-10608.346258</td>\n",
       "      <td>-1.060835e+04</td>\n",
       "      <td>27655.449735</td>\n",
       "      <td>27655.449735</td>\n",
       "      <td>27655.449735</td>\n",
       "      <td>27655.449735</td>\n",
       "      <td>27655.449735</td>\n",
       "      <td>27655.449735</td>\n",
       "      <td>0.0</td>\n",
       "      <td>0.0</td>\n",
       "      <td>0.0</td>\n",
       "      <td>17047.103477</td>\n",
       "    </tr>\n",
       "    <tr>\n",
       "      <th>1</th>\n",
       "      <td>2020-02-08</td>\n",
       "      <td>-9411.974851</td>\n",
       "      <td>-76767.884999</td>\n",
       "      <td>5.301029e+04</td>\n",
       "      <td>-9411.974851</td>\n",
       "      <td>-9.411975e+03</td>\n",
       "      <td>-1318.119703</td>\n",
       "      <td>-1318.119703</td>\n",
       "      <td>-1318.119703</td>\n",
       "      <td>-1318.119703</td>\n",
       "      <td>-1318.119703</td>\n",
       "      <td>-1318.119703</td>\n",
       "      <td>0.0</td>\n",
       "      <td>0.0</td>\n",
       "      <td>0.0</td>\n",
       "      <td>-10730.094554</td>\n",
       "    </tr>\n",
       "    <tr>\n",
       "      <th>2</th>\n",
       "      <td>2020-02-09</td>\n",
       "      <td>-8215.603445</td>\n",
       "      <td>-119498.749608</td>\n",
       "      <td>1.278768e+04</td>\n",
       "      <td>-8215.603445</td>\n",
       "      <td>-8.215603e+03</td>\n",
       "      <td>-42280.738107</td>\n",
       "      <td>-42280.738107</td>\n",
       "      <td>-42280.738107</td>\n",
       "      <td>-42280.738107</td>\n",
       "      <td>-42280.738107</td>\n",
       "      <td>-42280.738107</td>\n",
       "      <td>0.0</td>\n",
       "      <td>0.0</td>\n",
       "      <td>0.0</td>\n",
       "      <td>-50496.341552</td>\n",
       "    </tr>\n",
       "    <tr>\n",
       "      <th>3</th>\n",
       "      <td>2020-02-10</td>\n",
       "      <td>-7019.232038</td>\n",
       "      <td>-109170.298457</td>\n",
       "      <td>2.896189e+04</td>\n",
       "      <td>-7019.232038</td>\n",
       "      <td>-7.019232e+03</td>\n",
       "      <td>-33592.304953</td>\n",
       "      <td>-33592.304953</td>\n",
       "      <td>-33592.304953</td>\n",
       "      <td>-33592.304953</td>\n",
       "      <td>-33592.304953</td>\n",
       "      <td>-33592.304953</td>\n",
       "      <td>0.0</td>\n",
       "      <td>0.0</td>\n",
       "      <td>0.0</td>\n",
       "      <td>-40611.536992</td>\n",
       "    </tr>\n",
       "    <tr>\n",
       "      <th>4</th>\n",
       "      <td>2020-02-11</td>\n",
       "      <td>-5822.860632</td>\n",
       "      <td>-73076.781266</td>\n",
       "      <td>6.484047e+04</td>\n",
       "      <td>-5822.860632</td>\n",
       "      <td>-5.822861e+03</td>\n",
       "      <td>-532.618487</td>\n",
       "      <td>-532.618487</td>\n",
       "      <td>-532.618487</td>\n",
       "      <td>-532.618487</td>\n",
       "      <td>-532.618487</td>\n",
       "      <td>-532.618487</td>\n",
       "      <td>0.0</td>\n",
       "      <td>0.0</td>\n",
       "      <td>0.0</td>\n",
       "      <td>-6355.479119</td>\n",
       "    </tr>\n",
       "    <tr>\n",
       "      <th>...</th>\n",
       "      <td>...</td>\n",
       "      <td>...</td>\n",
       "      <td>...</td>\n",
       "      <td>...</td>\n",
       "      <td>...</td>\n",
       "      <td>...</td>\n",
       "      <td>...</td>\n",
       "      <td>...</td>\n",
       "      <td>...</td>\n",
       "      <td>...</td>\n",
       "      <td>...</td>\n",
       "      <td>...</td>\n",
       "      <td>...</td>\n",
       "      <td>...</td>\n",
       "      <td>...</td>\n",
       "      <td>...</td>\n",
       "    </tr>\n",
       "    <tr>\n",
       "      <th>731</th>\n",
       "      <td>2022-02-07</td>\n",
       "      <td>438946.725143</td>\n",
       "      <td>-191695.396550</td>\n",
       "      <td>9.543062e+05</td>\n",
       "      <td>-159760.503713</td>\n",
       "      <td>9.980510e+05</td>\n",
       "      <td>-33592.304953</td>\n",
       "      <td>-33592.304953</td>\n",
       "      <td>-33592.304953</td>\n",
       "      <td>-33592.304953</td>\n",
       "      <td>-33592.304953</td>\n",
       "      <td>-33592.304953</td>\n",
       "      <td>0.0</td>\n",
       "      <td>0.0</td>\n",
       "      <td>0.0</td>\n",
       "      <td>405354.420189</td>\n",
       "    </tr>\n",
       "    <tr>\n",
       "      <th>732</th>\n",
       "      <td>2022-02-08</td>\n",
       "      <td>438579.915066</td>\n",
       "      <td>-172707.147442</td>\n",
       "      <td>9.993132e+05</td>\n",
       "      <td>-162956.785625</td>\n",
       "      <td>1.001086e+06</td>\n",
       "      <td>-532.618487</td>\n",
       "      <td>-532.618487</td>\n",
       "      <td>-532.618487</td>\n",
       "      <td>-532.618487</td>\n",
       "      <td>-532.618487</td>\n",
       "      <td>-532.618487</td>\n",
       "      <td>0.0</td>\n",
       "      <td>0.0</td>\n",
       "      <td>0.0</td>\n",
       "      <td>438047.296580</td>\n",
       "    </tr>\n",
       "    <tr>\n",
       "      <th>733</th>\n",
       "      <td>2022-02-09</td>\n",
       "      <td>438213.104990</td>\n",
       "      <td>-141821.444050</td>\n",
       "      <td>1.026487e+06</td>\n",
       "      <td>-164665.421620</td>\n",
       "      <td>1.004027e+06</td>\n",
       "      <td>23034.541194</td>\n",
       "      <td>23034.541194</td>\n",
       "      <td>23034.541194</td>\n",
       "      <td>23034.541194</td>\n",
       "      <td>23034.541194</td>\n",
       "      <td>23034.541194</td>\n",
       "      <td>0.0</td>\n",
       "      <td>0.0</td>\n",
       "      <td>0.0</td>\n",
       "      <td>461247.646184</td>\n",
       "    </tr>\n",
       "    <tr>\n",
       "      <th>734</th>\n",
       "      <td>2022-02-10</td>\n",
       "      <td>437846.294914</td>\n",
       "      <td>-138074.246443</td>\n",
       "      <td>1.027648e+06</td>\n",
       "      <td>-166166.187160</td>\n",
       "      <td>1.006143e+06</td>\n",
       "      <td>27033.790321</td>\n",
       "      <td>27033.790321</td>\n",
       "      <td>27033.790321</td>\n",
       "      <td>27033.790321</td>\n",
       "      <td>27033.790321</td>\n",
       "      <td>27033.790321</td>\n",
       "      <td>0.0</td>\n",
       "      <td>0.0</td>\n",
       "      <td>0.0</td>\n",
       "      <td>464880.085235</td>\n",
       "    </tr>\n",
       "    <tr>\n",
       "      <th>735</th>\n",
       "      <td>2022-02-11</td>\n",
       "      <td>437479.484837</td>\n",
       "      <td>-124448.701260</td>\n",
       "      <td>1.031285e+06</td>\n",
       "      <td>-167666.952700</td>\n",
       "      <td>1.007956e+06</td>\n",
       "      <td>27655.449735</td>\n",
       "      <td>27655.449735</td>\n",
       "      <td>27655.449735</td>\n",
       "      <td>27655.449735</td>\n",
       "      <td>27655.449735</td>\n",
       "      <td>27655.449735</td>\n",
       "      <td>0.0</td>\n",
       "      <td>0.0</td>\n",
       "      <td>0.0</td>\n",
       "      <td>465134.934572</td>\n",
       "    </tr>\n",
       "  </tbody>\n",
       "</table>\n",
       "<p>736 rows × 16 columns</p>\n",
       "</div>"
      ],
      "text/plain": [
       "            ds          trend     yhat_lower    yhat_upper    trend_lower  \\\n",
       "0   2020-02-07  -10608.346258  -51150.415541  7.947952e+04  -10608.346258   \n",
       "1   2020-02-08   -9411.974851  -76767.884999  5.301029e+04   -9411.974851   \n",
       "2   2020-02-09   -8215.603445 -119498.749608  1.278768e+04   -8215.603445   \n",
       "3   2020-02-10   -7019.232038 -109170.298457  2.896189e+04   -7019.232038   \n",
       "4   2020-02-11   -5822.860632  -73076.781266  6.484047e+04   -5822.860632   \n",
       "..         ...            ...            ...           ...            ...   \n",
       "731 2022-02-07  438946.725143 -191695.396550  9.543062e+05 -159760.503713   \n",
       "732 2022-02-08  438579.915066 -172707.147442  9.993132e+05 -162956.785625   \n",
       "733 2022-02-09  438213.104990 -141821.444050  1.026487e+06 -164665.421620   \n",
       "734 2022-02-10  437846.294914 -138074.246443  1.027648e+06 -166166.187160   \n",
       "735 2022-02-11  437479.484837 -124448.701260  1.031285e+06 -167666.952700   \n",
       "\n",
       "      trend_upper  additive_terms  additive_terms_lower  additive_terms_upper  \\\n",
       "0   -1.060835e+04    27655.449735          27655.449735          27655.449735   \n",
       "1   -9.411975e+03    -1318.119703          -1318.119703          -1318.119703   \n",
       "2   -8.215603e+03   -42280.738107         -42280.738107         -42280.738107   \n",
       "3   -7.019232e+03   -33592.304953         -33592.304953         -33592.304953   \n",
       "4   -5.822861e+03     -532.618487           -532.618487           -532.618487   \n",
       "..            ...             ...                   ...                   ...   \n",
       "731  9.980510e+05   -33592.304953         -33592.304953         -33592.304953   \n",
       "732  1.001086e+06     -532.618487           -532.618487           -532.618487   \n",
       "733  1.004027e+06    23034.541194          23034.541194          23034.541194   \n",
       "734  1.006143e+06    27033.790321          27033.790321          27033.790321   \n",
       "735  1.007956e+06    27655.449735          27655.449735          27655.449735   \n",
       "\n",
       "           weekly  weekly_lower  weekly_upper  multiplicative_terms  \\\n",
       "0    27655.449735  27655.449735  27655.449735                   0.0   \n",
       "1    -1318.119703  -1318.119703  -1318.119703                   0.0   \n",
       "2   -42280.738107 -42280.738107 -42280.738107                   0.0   \n",
       "3   -33592.304953 -33592.304953 -33592.304953                   0.0   \n",
       "4     -532.618487   -532.618487   -532.618487                   0.0   \n",
       "..            ...           ...           ...                   ...   \n",
       "731 -33592.304953 -33592.304953 -33592.304953                   0.0   \n",
       "732   -532.618487   -532.618487   -532.618487                   0.0   \n",
       "733  23034.541194  23034.541194  23034.541194                   0.0   \n",
       "734  27033.790321  27033.790321  27033.790321                   0.0   \n",
       "735  27655.449735  27655.449735  27655.449735                   0.0   \n",
       "\n",
       "     multiplicative_terms_lower  multiplicative_terms_upper           yhat  \n",
       "0                           0.0                         0.0   17047.103477  \n",
       "1                           0.0                         0.0  -10730.094554  \n",
       "2                           0.0                         0.0  -50496.341552  \n",
       "3                           0.0                         0.0  -40611.536992  \n",
       "4                           0.0                         0.0   -6355.479119  \n",
       "..                          ...                         ...            ...  \n",
       "731                         0.0                         0.0  405354.420189  \n",
       "732                         0.0                         0.0  438047.296580  \n",
       "733                         0.0                         0.0  461247.646184  \n",
       "734                         0.0                         0.0  464880.085235  \n",
       "735                         0.0                         0.0  465134.934572  \n",
       "\n",
       "[736 rows x 16 columns]"
      ]
     },
     "execution_count": 37,
     "metadata": {},
     "output_type": "execute_result"
    }
   ],
   "source": [
    "m1.predict(future_W) #  make a forecast "
   ]
  },
  {
   "cell_type": "code",
   "execution_count": 38,
   "id": "continued-boulder",
   "metadata": {},
   "outputs": [
    {
     "data": {
      "text/html": [
       "<div>\n",
       "<style scoped>\n",
       "    .dataframe tbody tr th:only-of-type {\n",
       "        vertical-align: middle;\n",
       "    }\n",
       "\n",
       "    .dataframe tbody tr th {\n",
       "        vertical-align: top;\n",
       "    }\n",
       "\n",
       "    .dataframe thead th {\n",
       "        text-align: right;\n",
       "    }\n",
       "</style>\n",
       "<table border=\"1\" class=\"dataframe\">\n",
       "  <thead>\n",
       "    <tr style=\"text-align: right;\">\n",
       "      <th></th>\n",
       "      <th>ds</th>\n",
       "      <th>yhat</th>\n",
       "      <th>yhat_lower</th>\n",
       "      <th>yhat_upper</th>\n",
       "    </tr>\n",
       "  </thead>\n",
       "  <tbody>\n",
       "    <tr>\n",
       "      <th>731</th>\n",
       "      <td>2022-02-07</td>\n",
       "      <td>405354.420189</td>\n",
       "      <td>-234430.230883</td>\n",
       "      <td>1.028121e+06</td>\n",
       "    </tr>\n",
       "    <tr>\n",
       "      <th>732</th>\n",
       "      <td>2022-02-08</td>\n",
       "      <td>438047.296580</td>\n",
       "      <td>-197549.900638</td>\n",
       "      <td>1.047720e+06</td>\n",
       "    </tr>\n",
       "    <tr>\n",
       "      <th>733</th>\n",
       "      <td>2022-02-09</td>\n",
       "      <td>461247.646184</td>\n",
       "      <td>-182616.411754</td>\n",
       "      <td>1.076066e+06</td>\n",
       "    </tr>\n",
       "    <tr>\n",
       "      <th>734</th>\n",
       "      <td>2022-02-10</td>\n",
       "      <td>464880.085235</td>\n",
       "      <td>-164416.323675</td>\n",
       "      <td>1.093731e+06</td>\n",
       "    </tr>\n",
       "    <tr>\n",
       "      <th>735</th>\n",
       "      <td>2022-02-11</td>\n",
       "      <td>465134.934572</td>\n",
       "      <td>-182777.605304</td>\n",
       "      <td>1.095845e+06</td>\n",
       "    </tr>\n",
       "  </tbody>\n",
       "</table>\n",
       "</div>"
      ],
      "text/plain": [
       "            ds           yhat     yhat_lower    yhat_upper\n",
       "731 2022-02-07  405354.420189 -234430.230883  1.028121e+06\n",
       "732 2022-02-08  438047.296580 -197549.900638  1.047720e+06\n",
       "733 2022-02-09  461247.646184 -182616.411754  1.076066e+06\n",
       "734 2022-02-10  464880.085235 -164416.323675  1.093731e+06\n",
       "735 2022-02-11  465134.934572 -182777.605304  1.095845e+06"
      ]
     },
     "execution_count": 38,
     "metadata": {},
     "output_type": "execute_result"
    }
   ],
   "source": [
    "forecast_W = m1.predict(future_Int) #  make a forecast \n",
    "forecast_W[['ds', 'yhat', 'yhat_lower', 'yhat_upper']].tail() # chosen columns"
   ]
  },
  {
   "cell_type": "markdown",
   "id": "excess-weight",
   "metadata": {},
   "source": [
    "#### Plot the Forecast for World Data"
   ]
  },
  {
   "cell_type": "code",
   "execution_count": 39,
   "id": "played-criterion",
   "metadata": {},
   "outputs": [
    {
     "data": {
      "image/png": "[encoded data removed]",
      "text/plain": [
       "<Figure size 720x432 with 1 Axes>"
      ]
     },
     "metadata": {},
     "output_type": "display_data"
    }
   ],
   "source": [
    "m1.plot(forecast_W); #plot\n",
    "plt.title(\"World Forcast\", fontsize=16) # set title\n",
    "plt.ylabel('Y', fontsize=18) #set y axis name and size\n",
    "plt.xlabel('ds', fontsize=18);#set x axis name and size"
   ]
  },
  {
   "cell_type": "markdown",
   "id": "convenient-chick",
   "metadata": {},
   "source": [
    " - Black dots: actual values\n",
    " - Blue lines: upper, actual (dark blue), lower windows for yhat\n",
    " - Blue blob: prediction window (yhat window)"
   ]
  },
  {
   "cell_type": "markdown",
   "id": "unlike-henry",
   "metadata": {},
   "source": [
    "### Plot Components of IWorld Forcast (Trend,Weekly)\n"
   ]
  },
  {
   "cell_type": "code",
   "execution_count": 40,
   "id": "hollywood-conservative",
   "metadata": {},
   "outputs": [
    {
     "data": {
      "image/png": "[encoded data removed]",
      "text/plain": [
       "<Figure size 648x432 with 2 Axes>"
      ]
     },
     "metadata": {},
     "output_type": "display_data"
    }
   ],
   "source": [
    "m1.plot_components(forecast_W); #plot"
   ]
  },
  {
   "cell_type": "markdown",
   "id": "separated-opera",
   "metadata": {},
   "source": [
    "#### Saudi Prophet Model"
   ]
  },
  {
   "cell_type": "code",
   "execution_count": 41,
   "id": "polar-texas",
   "metadata": {},
   "outputs": [
    {
     "name": "stderr",
     "output_type": "stream",
     "text": [
      "INFO:fbprophet:Disabling yearly seasonality. Run prophet with yearly_seasonality=True to override this.\n",
      "INFO:fbprophet:Disabling daily seasonality. Run prophet with daily_seasonality=True to override this.\n"
     ]
    },
    {
     "data": {
      "text/plain": [
       "<fbprophet.forecaster.Prophet at 0x27383e39b80>"
      ]
     },
     "execution_count": 41,
     "metadata": {},
     "output_type": "execute_result"
    }
   ],
   "source": [
    "m2 = Prophet() #set up model\n",
    "m2.fit(Saudi) # fit model"
   ]
  },
  {
   "cell_type": "code",
   "execution_count": 42,
   "id": "express-active",
   "metadata": {},
   "outputs": [],
   "source": [
    "future_S = m2.make_future_dataframe(periods=365)\n",
    "#make a dataframe to hold your future value predictions"
   ]
  },
  {
   "cell_type": "code",
   "execution_count": 43,
   "id": "major-cooper",
   "metadata": {},
   "outputs": [
    {
     "data": {
      "text/html": [
       "<div>\n",
       "<style scoped>\n",
       "    .dataframe tbody tr th:only-of-type {\n",
       "        vertical-align: middle;\n",
       "    }\n",
       "\n",
       "    .dataframe tbody tr th {\n",
       "        vertical-align: top;\n",
       "    }\n",
       "\n",
       "    .dataframe thead th {\n",
       "        text-align: right;\n",
       "    }\n",
       "</style>\n",
       "<table border=\"1\" class=\"dataframe\">\n",
       "  <thead>\n",
       "    <tr style=\"text-align: right;\">\n",
       "      <th></th>\n",
       "      <th>ds</th>\n",
       "    </tr>\n",
       "  </thead>\n",
       "  <tbody>\n",
       "    <tr>\n",
       "      <th>707</th>\n",
       "      <td>2022-02-07</td>\n",
       "    </tr>\n",
       "    <tr>\n",
       "      <th>708</th>\n",
       "      <td>2022-02-08</td>\n",
       "    </tr>\n",
       "    <tr>\n",
       "      <th>709</th>\n",
       "      <td>2022-02-09</td>\n",
       "    </tr>\n",
       "    <tr>\n",
       "      <th>710</th>\n",
       "      <td>2022-02-10</td>\n",
       "    </tr>\n",
       "    <tr>\n",
       "      <th>711</th>\n",
       "      <td>2022-02-11</td>\n",
       "    </tr>\n",
       "  </tbody>\n",
       "</table>\n",
       "</div>"
      ],
      "text/plain": [
       "            ds\n",
       "707 2022-02-07\n",
       "708 2022-02-08\n",
       "709 2022-02-09\n",
       "710 2022-02-10\n",
       "711 2022-02-11"
      ]
     },
     "execution_count": 43,
     "metadata": {},
     "output_type": "execute_result"
    }
   ],
   "source": [
    "future_S.tail() # see the data"
   ]
  },
  {
   "cell_type": "code",
   "execution_count": 44,
   "id": "superb-account",
   "metadata": {},
   "outputs": [
    {
     "data": {
      "text/html": [
       "<div>\n",
       "<style scoped>\n",
       "    .dataframe tbody tr th:only-of-type {\n",
       "        vertical-align: middle;\n",
       "    }\n",
       "\n",
       "    .dataframe tbody tr th {\n",
       "        vertical-align: top;\n",
       "    }\n",
       "\n",
       "    .dataframe thead th {\n",
       "        text-align: right;\n",
       "    }\n",
       "</style>\n",
       "<table border=\"1\" class=\"dataframe\">\n",
       "  <thead>\n",
       "    <tr style=\"text-align: right;\">\n",
       "      <th></th>\n",
       "      <th>ds</th>\n",
       "      <th>trend</th>\n",
       "      <th>yhat_lower</th>\n",
       "      <th>yhat_upper</th>\n",
       "      <th>trend_lower</th>\n",
       "      <th>trend_upper</th>\n",
       "      <th>additive_terms</th>\n",
       "      <th>additive_terms_lower</th>\n",
       "      <th>additive_terms_upper</th>\n",
       "      <th>weekly</th>\n",
       "      <th>weekly_lower</th>\n",
       "      <th>weekly_upper</th>\n",
       "      <th>multiplicative_terms</th>\n",
       "      <th>multiplicative_terms_lower</th>\n",
       "      <th>multiplicative_terms_upper</th>\n",
       "      <th>yhat</th>\n",
       "    </tr>\n",
       "  </thead>\n",
       "  <tbody>\n",
       "    <tr>\n",
       "      <th>0</th>\n",
       "      <td>2020-03-02</td>\n",
       "      <td>-601.387581</td>\n",
       "      <td>-1036.288828</td>\n",
       "      <td>-148.763481</td>\n",
       "      <td>-601.387581</td>\n",
       "      <td>-601.387581</td>\n",
       "      <td>13.842536</td>\n",
       "      <td>13.842536</td>\n",
       "      <td>13.842536</td>\n",
       "      <td>13.842536</td>\n",
       "      <td>13.842536</td>\n",
       "      <td>13.842536</td>\n",
       "      <td>0.0</td>\n",
       "      <td>0.0</td>\n",
       "      <td>0.0</td>\n",
       "      <td>-587.545045</td>\n",
       "    </tr>\n",
       "    <tr>\n",
       "      <th>1</th>\n",
       "      <td>2020-03-03</td>\n",
       "      <td>-566.190579</td>\n",
       "      <td>-992.647105</td>\n",
       "      <td>-138.672308</td>\n",
       "      <td>-566.190579</td>\n",
       "      <td>-566.190579</td>\n",
       "      <td>5.174496</td>\n",
       "      <td>5.174496</td>\n",
       "      <td>5.174496</td>\n",
       "      <td>5.174496</td>\n",
       "      <td>5.174496</td>\n",
       "      <td>5.174496</td>\n",
       "      <td>0.0</td>\n",
       "      <td>0.0</td>\n",
       "      <td>0.0</td>\n",
       "      <td>-561.016083</td>\n",
       "    </tr>\n",
       "    <tr>\n",
       "      <th>2</th>\n",
       "      <td>2020-03-04</td>\n",
       "      <td>-530.993577</td>\n",
       "      <td>-955.737001</td>\n",
       "      <td>-119.805282</td>\n",
       "      <td>-530.993577</td>\n",
       "      <td>-530.993577</td>\n",
       "      <td>-6.954218</td>\n",
       "      <td>-6.954218</td>\n",
       "      <td>-6.954218</td>\n",
       "      <td>-6.954218</td>\n",
       "      <td>-6.954218</td>\n",
       "      <td>-6.954218</td>\n",
       "      <td>0.0</td>\n",
       "      <td>0.0</td>\n",
       "      <td>0.0</td>\n",
       "      <td>-537.947795</td>\n",
       "    </tr>\n",
       "    <tr>\n",
       "      <th>3</th>\n",
       "      <td>2020-03-05</td>\n",
       "      <td>-495.796575</td>\n",
       "      <td>-931.403485</td>\n",
       "      <td>-49.576389</td>\n",
       "      <td>-495.796575</td>\n",
       "      <td>-495.796575</td>\n",
       "      <td>-11.347144</td>\n",
       "      <td>-11.347144</td>\n",
       "      <td>-11.347144</td>\n",
       "      <td>-11.347144</td>\n",
       "      <td>-11.347144</td>\n",
       "      <td>-11.347144</td>\n",
       "      <td>0.0</td>\n",
       "      <td>0.0</td>\n",
       "      <td>0.0</td>\n",
       "      <td>-507.143719</td>\n",
       "    </tr>\n",
       "    <tr>\n",
       "      <th>4</th>\n",
       "      <td>2020-03-06</td>\n",
       "      <td>-460.599574</td>\n",
       "      <td>-863.051506</td>\n",
       "      <td>-22.685205</td>\n",
       "      <td>-460.599574</td>\n",
       "      <td>-460.599574</td>\n",
       "      <td>23.823963</td>\n",
       "      <td>23.823963</td>\n",
       "      <td>23.823963</td>\n",
       "      <td>23.823963</td>\n",
       "      <td>23.823963</td>\n",
       "      <td>23.823963</td>\n",
       "      <td>0.0</td>\n",
       "      <td>0.0</td>\n",
       "      <td>0.0</td>\n",
       "      <td>-436.775611</td>\n",
       "    </tr>\n",
       "    <tr>\n",
       "      <th>...</th>\n",
       "      <td>...</td>\n",
       "      <td>...</td>\n",
       "      <td>...</td>\n",
       "      <td>...</td>\n",
       "      <td>...</td>\n",
       "      <td>...</td>\n",
       "      <td>...</td>\n",
       "      <td>...</td>\n",
       "      <td>...</td>\n",
       "      <td>...</td>\n",
       "      <td>...</td>\n",
       "      <td>...</td>\n",
       "      <td>...</td>\n",
       "      <td>...</td>\n",
       "      <td>...</td>\n",
       "      <td>...</td>\n",
       "    </tr>\n",
       "    <tr>\n",
       "      <th>707</th>\n",
       "      <td>2022-02-07</td>\n",
       "      <td>-895.591197</td>\n",
       "      <td>-9915.666435</td>\n",
       "      <td>7681.119612</td>\n",
       "      <td>-9785.100361</td>\n",
       "      <td>7776.081832</td>\n",
       "      <td>13.842536</td>\n",
       "      <td>13.842536</td>\n",
       "      <td>13.842536</td>\n",
       "      <td>13.842536</td>\n",
       "      <td>13.842536</td>\n",
       "      <td>13.842536</td>\n",
       "      <td>0.0</td>\n",
       "      <td>0.0</td>\n",
       "      <td>0.0</td>\n",
       "      <td>-881.748661</td>\n",
       "    </tr>\n",
       "    <tr>\n",
       "      <th>708</th>\n",
       "      <td>2022-02-08</td>\n",
       "      <td>-898.329124</td>\n",
       "      <td>-9747.957361</td>\n",
       "      <td>7674.028140</td>\n",
       "      <td>-9820.378424</td>\n",
       "      <td>7814.510501</td>\n",
       "      <td>5.174496</td>\n",
       "      <td>5.174496</td>\n",
       "      <td>5.174496</td>\n",
       "      <td>5.174496</td>\n",
       "      <td>5.174496</td>\n",
       "      <td>5.174496</td>\n",
       "      <td>0.0</td>\n",
       "      <td>0.0</td>\n",
       "      <td>0.0</td>\n",
       "      <td>-893.154628</td>\n",
       "    </tr>\n",
       "    <tr>\n",
       "      <th>709</th>\n",
       "      <td>2022-02-09</td>\n",
       "      <td>-901.067050</td>\n",
       "      <td>-9785.408564</td>\n",
       "      <td>7645.312545</td>\n",
       "      <td>-9853.262245</td>\n",
       "      <td>7845.606093</td>\n",
       "      <td>-6.954218</td>\n",
       "      <td>-6.954218</td>\n",
       "      <td>-6.954218</td>\n",
       "      <td>-6.954218</td>\n",
       "      <td>-6.954218</td>\n",
       "      <td>-6.954218</td>\n",
       "      <td>0.0</td>\n",
       "      <td>0.0</td>\n",
       "      <td>0.0</td>\n",
       "      <td>-908.021269</td>\n",
       "    </tr>\n",
       "    <tr>\n",
       "      <th>710</th>\n",
       "      <td>2022-02-10</td>\n",
       "      <td>-903.804977</td>\n",
       "      <td>-10005.878252</td>\n",
       "      <td>7855.457016</td>\n",
       "      <td>-9884.868903</td>\n",
       "      <td>7874.427593</td>\n",
       "      <td>-11.347144</td>\n",
       "      <td>-11.347144</td>\n",
       "      <td>-11.347144</td>\n",
       "      <td>-11.347144</td>\n",
       "      <td>-11.347144</td>\n",
       "      <td>-11.347144</td>\n",
       "      <td>0.0</td>\n",
       "      <td>0.0</td>\n",
       "      <td>0.0</td>\n",
       "      <td>-915.152121</td>\n",
       "    </tr>\n",
       "    <tr>\n",
       "      <th>711</th>\n",
       "      <td>2022-02-11</td>\n",
       "      <td>-906.542903</td>\n",
       "      <td>-9780.486165</td>\n",
       "      <td>7889.476990</td>\n",
       "      <td>-9916.475562</td>\n",
       "      <td>7903.249094</td>\n",
       "      <td>23.823963</td>\n",
       "      <td>23.823963</td>\n",
       "      <td>23.823963</td>\n",
       "      <td>23.823963</td>\n",
       "      <td>23.823963</td>\n",
       "      <td>23.823963</td>\n",
       "      <td>0.0</td>\n",
       "      <td>0.0</td>\n",
       "      <td>0.0</td>\n",
       "      <td>-882.718941</td>\n",
       "    </tr>\n",
       "  </tbody>\n",
       "</table>\n",
       "<p>712 rows × 16 columns</p>\n",
       "</div>"
      ],
      "text/plain": [
       "            ds       trend    yhat_lower   yhat_upper  trend_lower  \\\n",
       "0   2020-03-02 -601.387581  -1036.288828  -148.763481  -601.387581   \n",
       "1   2020-03-03 -566.190579   -992.647105  -138.672308  -566.190579   \n",
       "2   2020-03-04 -530.993577   -955.737001  -119.805282  -530.993577   \n",
       "3   2020-03-05 -495.796575   -931.403485   -49.576389  -495.796575   \n",
       "4   2020-03-06 -460.599574   -863.051506   -22.685205  -460.599574   \n",
       "..         ...         ...           ...          ...          ...   \n",
       "707 2022-02-07 -895.591197  -9915.666435  7681.119612 -9785.100361   \n",
       "708 2022-02-08 -898.329124  -9747.957361  7674.028140 -9820.378424   \n",
       "709 2022-02-09 -901.067050  -9785.408564  7645.312545 -9853.262245   \n",
       "710 2022-02-10 -903.804977 -10005.878252  7855.457016 -9884.868903   \n",
       "711 2022-02-11 -906.542903  -9780.486165  7889.476990 -9916.475562   \n",
       "\n",
       "     trend_upper  additive_terms  additive_terms_lower  additive_terms_upper  \\\n",
       "0    -601.387581       13.842536             13.842536             13.842536   \n",
       "1    -566.190579        5.174496              5.174496              5.174496   \n",
       "2    -530.993577       -6.954218             -6.954218             -6.954218   \n",
       "3    -495.796575      -11.347144            -11.347144            -11.347144   \n",
       "4    -460.599574       23.823963             23.823963             23.823963   \n",
       "..           ...             ...                   ...                   ...   \n",
       "707  7776.081832       13.842536             13.842536             13.842536   \n",
       "708  7814.510501        5.174496              5.174496              5.174496   \n",
       "709  7845.606093       -6.954218             -6.954218             -6.954218   \n",
       "710  7874.427593      -11.347144            -11.347144            -11.347144   \n",
       "711  7903.249094       23.823963             23.823963             23.823963   \n",
       "\n",
       "        weekly  weekly_lower  weekly_upper  multiplicative_terms  \\\n",
       "0    13.842536     13.842536     13.842536                   0.0   \n",
       "1     5.174496      5.174496      5.174496                   0.0   \n",
       "2    -6.954218     -6.954218     -6.954218                   0.0   \n",
       "3   -11.347144    -11.347144    -11.347144                   0.0   \n",
       "4    23.823963     23.823963     23.823963                   0.0   \n",
       "..         ...           ...           ...                   ...   \n",
       "707  13.842536     13.842536     13.842536                   0.0   \n",
       "708   5.174496      5.174496      5.174496                   0.0   \n",
       "709  -6.954218     -6.954218     -6.954218                   0.0   \n",
       "710 -11.347144    -11.347144    -11.347144                   0.0   \n",
       "711  23.823963     23.823963     23.823963                   0.0   \n",
       "\n",
       "     multiplicative_terms_lower  multiplicative_terms_upper        yhat  \n",
       "0                           0.0                         0.0 -587.545045  \n",
       "1                           0.0                         0.0 -561.016083  \n",
       "2                           0.0                         0.0 -537.947795  \n",
       "3                           0.0                         0.0 -507.143719  \n",
       "4                           0.0                         0.0 -436.775611  \n",
       "..                          ...                         ...         ...  \n",
       "707                         0.0                         0.0 -881.748661  \n",
       "708                         0.0                         0.0 -893.154628  \n",
       "709                         0.0                         0.0 -908.021269  \n",
       "710                         0.0                         0.0 -915.152121  \n",
       "711                         0.0                         0.0 -882.718941  \n",
       "\n",
       "[712 rows x 16 columns]"
      ]
     },
     "execution_count": 44,
     "metadata": {},
     "output_type": "execute_result"
    }
   ],
   "source": [
    "m2.predict(future_S )#  make a forecast "
   ]
  },
  {
   "cell_type": "code",
   "execution_count": 45,
   "id": "entitled-olympus",
   "metadata": {},
   "outputs": [
    {
     "data": {
      "text/html": [
       "<div>\n",
       "<style scoped>\n",
       "    .dataframe tbody tr th:only-of-type {\n",
       "        vertical-align: middle;\n",
       "    }\n",
       "\n",
       "    .dataframe tbody tr th {\n",
       "        vertical-align: top;\n",
       "    }\n",
       "\n",
       "    .dataframe thead th {\n",
       "        text-align: right;\n",
       "    }\n",
       "</style>\n",
       "<table border=\"1\" class=\"dataframe\">\n",
       "  <thead>\n",
       "    <tr style=\"text-align: right;\">\n",
       "      <th></th>\n",
       "      <th>ds</th>\n",
       "      <th>yhat</th>\n",
       "      <th>yhat_lower</th>\n",
       "      <th>yhat_upper</th>\n",
       "    </tr>\n",
       "  </thead>\n",
       "  <tbody>\n",
       "    <tr>\n",
       "      <th>731</th>\n",
       "      <td>2022-02-07</td>\n",
       "      <td>-881.748661</td>\n",
       "      <td>-9441.236646</td>\n",
       "      <td>7397.126421</td>\n",
       "    </tr>\n",
       "    <tr>\n",
       "      <th>732</th>\n",
       "      <td>2022-02-08</td>\n",
       "      <td>-893.154628</td>\n",
       "      <td>-9511.876988</td>\n",
       "      <td>7531.003775</td>\n",
       "    </tr>\n",
       "    <tr>\n",
       "      <th>733</th>\n",
       "      <td>2022-02-09</td>\n",
       "      <td>-908.021269</td>\n",
       "      <td>-9547.481511</td>\n",
       "      <td>7433.414975</td>\n",
       "    </tr>\n",
       "    <tr>\n",
       "      <th>734</th>\n",
       "      <td>2022-02-10</td>\n",
       "      <td>-915.152121</td>\n",
       "      <td>-9887.308277</td>\n",
       "      <td>7555.336034</td>\n",
       "    </tr>\n",
       "    <tr>\n",
       "      <th>735</th>\n",
       "      <td>2022-02-11</td>\n",
       "      <td>-882.718941</td>\n",
       "      <td>-9754.584148</td>\n",
       "      <td>7608.762775</td>\n",
       "    </tr>\n",
       "  </tbody>\n",
       "</table>\n",
       "</div>"
      ],
      "text/plain": [
       "            ds        yhat   yhat_lower   yhat_upper\n",
       "731 2022-02-07 -881.748661 -9441.236646  7397.126421\n",
       "732 2022-02-08 -893.154628 -9511.876988  7531.003775\n",
       "733 2022-02-09 -908.021269 -9547.481511  7433.414975\n",
       "734 2022-02-10 -915.152121 -9887.308277  7555.336034\n",
       "735 2022-02-11 -882.718941 -9754.584148  7608.762775"
      ]
     },
     "execution_count": 45,
     "metadata": {},
     "output_type": "execute_result"
    }
   ],
   "source": [
    "forecast_S = m2.predict(future_Int) #  make a forecast \n",
    "forecast_S[['ds', 'yhat', 'yhat_lower', 'yhat_upper']].tail() # chosen columns"
   ]
  },
  {
   "cell_type": "markdown",
   "id": "wired-puzzle",
   "metadata": {},
   "source": [
    "#### Plot the Forecast for Saudi Data"
   ]
  },
  {
   "cell_type": "code",
   "execution_count": 46,
   "id": "conscious-walnut",
   "metadata": {},
   "outputs": [
    {
     "data": {
      "image/png": "[encoded data removed]",
      "text/plain": [
       "<Figure size 720x432 with 1 Axes>"
      ]
     },
     "metadata": {},
     "output_type": "display_data"
    }
   ],
   "source": [
    "m2.plot(forecast_S); # plot m2 \n",
    "plt.title(\"Saudi Forcast\", fontsize=16) # set title\n",
    "plt.ylabel('Y', fontsize=18) #set y axis name and size\n",
    "plt.xlabel('ds', fontsize=18);#set x axis name and size"
   ]
  },
  {
   "cell_type": "markdown",
   "id": "severe-august",
   "metadata": {},
   "source": [
    " - Black dots: actual values\n",
    " - Blue lines: upper, actual (dark blue), lower windows for yhat\n",
    " - Blue blob: prediction window (yhat window)"
   ]
  },
  {
   "cell_type": "markdown",
   "id": "embedded-carroll",
   "metadata": {},
   "source": [
    "#### Plot Components of Saudi Forcast (Trend,Weekly)\n"
   ]
  },
  {
   "cell_type": "code",
   "execution_count": 47,
   "id": "retained-february",
   "metadata": {},
   "outputs": [
    {
     "data": {
      "image/png": "[encoded data removed]",
      "text/plain": [
       "<Figure size 648x432 with 2 Axes>"
      ]
     },
     "metadata": {},
     "output_type": "display_data"
    }
   ],
   "source": [
    "m2.plot_components(forecast_S); #plot"
   ]
  },
  {
   "cell_type": "markdown",
   "id": "numerical-logistics",
   "metadata": {},
   "source": [
    "### Models Valiadtion"
   ]
  },
  {
   "cell_type": "code",
   "execution_count": 48,
   "id": "accepted-polymer",
   "metadata": {},
   "outputs": [],
   "source": [
    "from fbprophet.diagnostics import cross_validation # import cross_validation"
   ]
  },
  {
   "cell_type": "markdown",
   "id": "sorted-quantum",
   "metadata": {},
   "source": [
    "#### International Model Valiadtion"
   ]
  },
  {
   "cell_type": "code",
   "execution_count": 49,
   "id": "abstract-terror",
   "metadata": {},
   "outputs": [
    {
     "name": "stderr",
     "output_type": "stream",
     "text": [
      "INFO:fbprophet:Making 4 forecasts with cutoffs between 2020-08-15 00:00:00 and 2020-11-13 00:00:00\n"
     ]
    },
    {
     "data": {
      "application/vnd.jupyter.widget-view+json": {
       "model_id": "00498fae39924751b944d98de93ce8b5",
       "version_major": 2,
       "version_minor": 0
      },
      "text/plain": [
       "  0%|          | 0/4 [00:00<?, ?it/s]"
      ]
     },
     "metadata": {},
     "output_type": "display_data"
    },
    {
     "data": {
      "text/html": [
       "<div>\n",
       "<style scoped>\n",
       "    .dataframe tbody tr th:only-of-type {\n",
       "        vertical-align: middle;\n",
       "    }\n",
       "\n",
       "    .dataframe tbody tr th {\n",
       "        vertical-align: top;\n",
       "    }\n",
       "\n",
       "    .dataframe thead th {\n",
       "        text-align: right;\n",
       "    }\n",
       "</style>\n",
       "<table border=\"1\" class=\"dataframe\">\n",
       "  <thead>\n",
       "    <tr style=\"text-align: right;\">\n",
       "      <th></th>\n",
       "      <th>ds</th>\n",
       "      <th>yhat</th>\n",
       "      <th>yhat_lower</th>\n",
       "      <th>yhat_upper</th>\n",
       "      <th>y</th>\n",
       "      <th>cutoff</th>\n",
       "    </tr>\n",
       "  </thead>\n",
       "  <tbody>\n",
       "    <tr>\n",
       "      <th>355</th>\n",
       "      <td>2021-02-07</td>\n",
       "      <td>-0.289656</td>\n",
       "      <td>-15.203394</td>\n",
       "      <td>13.464654</td>\n",
       "      <td>0.0</td>\n",
       "      <td>2020-11-13</td>\n",
       "    </tr>\n",
       "    <tr>\n",
       "      <th>356</th>\n",
       "      <td>2021-02-08</td>\n",
       "      <td>0.780397</td>\n",
       "      <td>-14.238935</td>\n",
       "      <td>14.255059</td>\n",
       "      <td>0.0</td>\n",
       "      <td>2020-11-13</td>\n",
       "    </tr>\n",
       "    <tr>\n",
       "      <th>357</th>\n",
       "      <td>2021-02-09</td>\n",
       "      <td>-1.175760</td>\n",
       "      <td>-14.347619</td>\n",
       "      <td>13.818463</td>\n",
       "      <td>0.0</td>\n",
       "      <td>2020-11-13</td>\n",
       "    </tr>\n",
       "    <tr>\n",
       "      <th>358</th>\n",
       "      <td>2021-02-10</td>\n",
       "      <td>0.317515</td>\n",
       "      <td>-13.863805</td>\n",
       "      <td>14.571108</td>\n",
       "      <td>0.0</td>\n",
       "      <td>2020-11-13</td>\n",
       "    </tr>\n",
       "    <tr>\n",
       "      <th>359</th>\n",
       "      <td>2021-02-11</td>\n",
       "      <td>-2.940298</td>\n",
       "      <td>-17.080033</td>\n",
       "      <td>11.310512</td>\n",
       "      <td>0.0</td>\n",
       "      <td>2020-11-13</td>\n",
       "    </tr>\n",
       "  </tbody>\n",
       "</table>\n",
       "</div>"
      ],
      "text/plain": [
       "            ds      yhat  yhat_lower  yhat_upper    y     cutoff\n",
       "355 2021-02-07 -0.289656  -15.203394   13.464654  0.0 2020-11-13\n",
       "356 2021-02-08  0.780397  -14.238935   14.255059  0.0 2020-11-13\n",
       "357 2021-02-09 -1.175760  -14.347619   13.818463  0.0 2020-11-13\n",
       "358 2021-02-10  0.317515  -13.863805   14.571108  0.0 2020-11-13\n",
       "359 2021-02-11 -2.940298  -17.080033   11.310512  0.0 2020-11-13"
      ]
     },
     "execution_count": 49,
     "metadata": {},
     "output_type": "execute_result"
    }
   ],
   "source": [
    "Int_cv = cross_validation(m, initial='180 days', period='30 days', horizon='90 days')\n",
    "Int_cv.tail()"
   ]
  },
  {
   "cell_type": "markdown",
   "id": "gothic-nickname",
   "metadata": {},
   "source": [
    "- initial: how much data to consider before making any predictions\n",
    "- period: how frequently to make predictions \n",
    "- horizon: how many periods to predict"
   ]
  },
  {
   "cell_type": "markdown",
   "id": "hourly-hayes",
   "metadata": {},
   "source": [
    "#### World Model Valiadtion"
   ]
  },
  {
   "cell_type": "code",
   "execution_count": 50,
   "id": "aerial-constitutional",
   "metadata": {},
   "outputs": [
    {
     "name": "stderr",
     "output_type": "stream",
     "text": [
      "INFO:fbprophet:Making 4 forecasts with cutoffs between 2020-08-15 00:00:00 and 2020-11-13 00:00:00\n"
     ]
    },
    {
     "data": {
      "application/vnd.jupyter.widget-view+json": {
       "model_id": "601b6f79eadf46778eede594ad9f5099",
       "version_major": 2,
       "version_minor": 0
      },
      "text/plain": [
       "  0%|          | 0/4 [00:00<?, ?it/s]"
      ]
     },
     "metadata": {},
     "output_type": "display_data"
    },
    {
     "data": {
      "text/html": [
       "<div>\n",
       "<style scoped>\n",
       "    .dataframe tbody tr th:only-of-type {\n",
       "        vertical-align: middle;\n",
       "    }\n",
       "\n",
       "    .dataframe tbody tr th {\n",
       "        vertical-align: top;\n",
       "    }\n",
       "\n",
       "    .dataframe thead th {\n",
       "        text-align: right;\n",
       "    }\n",
       "</style>\n",
       "<table border=\"1\" class=\"dataframe\">\n",
       "  <thead>\n",
       "    <tr style=\"text-align: right;\">\n",
       "      <th></th>\n",
       "      <th>ds</th>\n",
       "      <th>yhat</th>\n",
       "      <th>yhat_lower</th>\n",
       "      <th>yhat_upper</th>\n",
       "      <th>y</th>\n",
       "      <th>cutoff</th>\n",
       "    </tr>\n",
       "  </thead>\n",
       "  <tbody>\n",
       "    <tr>\n",
       "      <th>355</th>\n",
       "      <td>2021-02-07</td>\n",
       "      <td>9.423845e+05</td>\n",
       "      <td>875094.428643</td>\n",
       "      <td>1.013977e+06</td>\n",
       "      <td>397050.0</td>\n",
       "      <td>2020-11-13</td>\n",
       "    </tr>\n",
       "    <tr>\n",
       "      <th>356</th>\n",
       "      <td>2021-02-08</td>\n",
       "      <td>9.536786e+05</td>\n",
       "      <td>888577.358166</td>\n",
       "      <td>1.026080e+06</td>\n",
       "      <td>315176.0</td>\n",
       "      <td>2020-11-13</td>\n",
       "    </tr>\n",
       "    <tr>\n",
       "      <th>357</th>\n",
       "      <td>2021-02-09</td>\n",
       "      <td>9.713878e+05</td>\n",
       "      <td>899744.430182</td>\n",
       "      <td>1.044155e+06</td>\n",
       "      <td>427277.0</td>\n",
       "      <td>2020-11-13</td>\n",
       "    </tr>\n",
       "    <tr>\n",
       "      <th>358</th>\n",
       "      <td>2021-02-10</td>\n",
       "      <td>9.899952e+05</td>\n",
       "      <td>916498.404279</td>\n",
       "      <td>1.067741e+06</td>\n",
       "      <td>514862.0</td>\n",
       "      <td>2020-11-13</td>\n",
       "    </tr>\n",
       "    <tr>\n",
       "      <th>359</th>\n",
       "      <td>2021-02-11</td>\n",
       "      <td>1.002870e+06</td>\n",
       "      <td>929050.512808</td>\n",
       "      <td>1.080110e+06</td>\n",
       "      <td>437761.0</td>\n",
       "      <td>2020-11-13</td>\n",
       "    </tr>\n",
       "  </tbody>\n",
       "</table>\n",
       "</div>"
      ],
      "text/plain": [
       "            ds          yhat     yhat_lower    yhat_upper         y     cutoff\n",
       "355 2021-02-07  9.423845e+05  875094.428643  1.013977e+06  397050.0 2020-11-13\n",
       "356 2021-02-08  9.536786e+05  888577.358166  1.026080e+06  315176.0 2020-11-13\n",
       "357 2021-02-09  9.713878e+05  899744.430182  1.044155e+06  427277.0 2020-11-13\n",
       "358 2021-02-10  9.899952e+05  916498.404279  1.067741e+06  514862.0 2020-11-13\n",
       "359 2021-02-11  1.002870e+06  929050.512808  1.080110e+06  437761.0 2020-11-13"
      ]
     },
     "execution_count": 50,
     "metadata": {},
     "output_type": "execute_result"
    }
   ],
   "source": [
    "W_cv = cross_validation(m1, initial='180 days', period='30 days', horizon='90 days')\n",
    "W_cv.tail()"
   ]
  },
  {
   "cell_type": "markdown",
   "id": "quality-highway",
   "metadata": {},
   "source": [
    "- initial: how much data to consider before making any predictions\n",
    "- period: how frequently to make predictions \n",
    "- horizon: how many periods to predict"
   ]
  },
  {
   "cell_type": "markdown",
   "id": "dense-workstation",
   "metadata": {},
   "source": [
    "#### Saudi Model Valiadtion"
   ]
  },
  {
   "cell_type": "code",
   "execution_count": 51,
   "id": "effective-share",
   "metadata": {},
   "outputs": [
    {
     "name": "stderr",
     "output_type": "stream",
     "text": [
      "INFO:fbprophet:Making 3 forecasts with cutoffs between 2020-09-14 00:00:00 and 2020-11-13 00:00:00\n"
     ]
    },
    {
     "data": {
      "application/vnd.jupyter.widget-view+json": {
       "model_id": "58ce65e3e53140a7af2e6b8590adcbd8",
       "version_major": 2,
       "version_minor": 0
      },
      "text/plain": [
       "  0%|          | 0/3 [00:00<?, ?it/s]"
      ]
     },
     "metadata": {},
     "output_type": "display_data"
    },
    {
     "data": {
      "text/html": [
       "<div>\n",
       "<style scoped>\n",
       "    .dataframe tbody tr th:only-of-type {\n",
       "        vertical-align: middle;\n",
       "    }\n",
       "\n",
       "    .dataframe tbody tr th {\n",
       "        vertical-align: top;\n",
       "    }\n",
       "\n",
       "    .dataframe thead th {\n",
       "        text-align: right;\n",
       "    }\n",
       "</style>\n",
       "<table border=\"1\" class=\"dataframe\">\n",
       "  <thead>\n",
       "    <tr style=\"text-align: right;\">\n",
       "      <th></th>\n",
       "      <th>ds</th>\n",
       "      <th>yhat</th>\n",
       "      <th>yhat_lower</th>\n",
       "      <th>yhat_upper</th>\n",
       "      <th>y</th>\n",
       "      <th>cutoff</th>\n",
       "    </tr>\n",
       "  </thead>\n",
       "  <tbody>\n",
       "    <tr>\n",
       "      <th>265</th>\n",
       "      <td>2021-02-07</td>\n",
       "      <td>-723.092579</td>\n",
       "      <td>-1958.725776</td>\n",
       "      <td>510.562916</td>\n",
       "      <td>317.0</td>\n",
       "      <td>2020-11-13</td>\n",
       "    </tr>\n",
       "    <tr>\n",
       "      <th>266</th>\n",
       "      <td>2021-02-08</td>\n",
       "      <td>-683.277603</td>\n",
       "      <td>-1886.011602</td>\n",
       "      <td>546.697732</td>\n",
       "      <td>356.0</td>\n",
       "      <td>2020-11-13</td>\n",
       "    </tr>\n",
       "    <tr>\n",
       "      <th>267</th>\n",
       "      <td>2021-02-09</td>\n",
       "      <td>-712.868756</td>\n",
       "      <td>-2018.886278</td>\n",
       "      <td>501.397506</td>\n",
       "      <td>353.0</td>\n",
       "      <td>2020-11-13</td>\n",
       "    </tr>\n",
       "    <tr>\n",
       "      <th>268</th>\n",
       "      <td>2021-02-10</td>\n",
       "      <td>-739.247702</td>\n",
       "      <td>-2033.744995</td>\n",
       "      <td>580.370264</td>\n",
       "      <td>369.0</td>\n",
       "      <td>2020-11-13</td>\n",
       "    </tr>\n",
       "    <tr>\n",
       "      <th>269</th>\n",
       "      <td>2021-02-11</td>\n",
       "      <td>-755.189568</td>\n",
       "      <td>-2050.161505</td>\n",
       "      <td>513.422259</td>\n",
       "      <td>364.0</td>\n",
       "      <td>2020-11-13</td>\n",
       "    </tr>\n",
       "  </tbody>\n",
       "</table>\n",
       "</div>"
      ],
      "text/plain": [
       "            ds        yhat   yhat_lower  yhat_upper      y     cutoff\n",
       "265 2021-02-07 -723.092579 -1958.725776  510.562916  317.0 2020-11-13\n",
       "266 2021-02-08 -683.277603 -1886.011602  546.697732  356.0 2020-11-13\n",
       "267 2021-02-09 -712.868756 -2018.886278  501.397506  353.0 2020-11-13\n",
       "268 2021-02-10 -739.247702 -2033.744995  580.370264  369.0 2020-11-13\n",
       "269 2021-02-11 -755.189568 -2050.161505  513.422259  364.0 2020-11-13"
      ]
     },
     "execution_count": 51,
     "metadata": {},
     "output_type": "execute_result"
    }
   ],
   "source": [
    "S_cv = cross_validation(m2, initial='180 days', period='30 days', horizon='90 days')\n",
    "S_cv.tail()"
   ]
  },
  {
   "cell_type": "markdown",
   "id": "informative-syndicate",
   "metadata": {},
   "source": [
    "- initial: how much data to consider before making any predictions\n",
    "- period: how frequently to make predictions \n",
    "- horizon: how many periods to predict"
   ]
  },
  {
   "cell_type": "markdown",
   "id": "married-daughter",
   "metadata": {},
   "source": [
    "### Plot the Valiadtions "
   ]
  },
  {
   "cell_type": "code",
   "execution_count": 52,
   "id": "sticky-initial",
   "metadata": {},
   "outputs": [],
   "source": [
    "from fbprophet.plot import plot_cross_validation_metric"
   ]
  },
  {
   "cell_type": "markdown",
   "id": "conceptual-narrative",
   "metadata": {},
   "source": [
    "####  Plot International Valiadtion"
   ]
  },
  {
   "cell_type": "code",
   "execution_count": 53,
   "id": "global-personality",
   "metadata": {},
   "outputs": [
    {
     "data": {
      "image/png": "[encoded data removed]",
      "text/plain": [
       "<Figure size 720x432 with 1 Axes>"
      ]
     },
     "metadata": {},
     "output_type": "display_data"
    }
   ],
   "source": [
    "fig = plot_cross_validation_metric(Int_cv, metric='mse')\n",
    "plt.title(\"International Evaluation\", fontsize=16) # set title\n",
    "plt.ylabel('MSA', fontsize=18) #set y axis name and size\n",
    "plt.xlabel('Horizen(Days)', fontsize=18);#set x axis name and size"
   ]
  },
  {
   "cell_type": "markdown",
   "id": "hydraulic-coaching",
   "metadata": {},
   "source": [
    "####  Plot World Valiadtion"
   ]
  },
  {
   "cell_type": "code",
   "execution_count": 54,
   "id": "descending-latitude",
   "metadata": {},
   "outputs": [
    {
     "data": {
      "image/png": "[encoded data removed]",
      "text/plain": [
       "<Figure size 720x432 with 1 Axes>"
      ]
     },
     "metadata": {},
     "output_type": "display_data"
    }
   ],
   "source": [
    "fig = plot_cross_validation_metric(W_cv, metric='mse')\n",
    "plt.title(\"World Evaluation\", fontsize=16) # set title\n",
    "plt.ylabel('MSA', fontsize=18) #set y axis name and size\n",
    "plt.xlabel('Horizen(Days)', fontsize=18);#set x axis name and size"
   ]
  },
  {
   "cell_type": "markdown",
   "id": "enabling-chocolate",
   "metadata": {},
   "source": [
    "####  Plot Saudi Valiadtion"
   ]
  },
  {
   "cell_type": "code",
   "execution_count": 55,
   "id": "auburn-english",
   "metadata": {},
   "outputs": [
    {
     "data": {
      "image/png": "[encoded data removed]",
      "text/plain": [
       "<Figure size 720x432 with 1 Axes>"
      ]
     },
     "metadata": {},
     "output_type": "display_data"
    }
   ],
   "source": [
    "fig = plot_cross_validation_metric(S_cv, metric='mse')\n",
    "plt.title(\"Saudi Evaluation\", fontsize=16) # set title\n",
    "plt.ylabel('MAS', fontsize=18) #set y axis name and size\n",
    "plt.xlabel('Horizen(Days)', fontsize=18);#set x axis name and size"
   ]
  },
  {
   "cell_type": "markdown",
   "id": "maritime-librarian",
   "metadata": {},
   "source": [
    "### Models Scors"
   ]
  },
  {
   "cell_type": "code",
   "execution_count": 56,
   "id": "following-salvation",
   "metadata": {},
   "outputs": [],
   "source": [
    "from fbprophet.diagnostics import performance_metrics"
   ]
  },
  {
   "cell_type": "markdown",
   "id": "instrumental-decimal",
   "metadata": {},
   "source": [
    "#### International Model Score"
   ]
  },
  {
   "cell_type": "code",
   "execution_count": 57,
   "id": "chief-studio",
   "metadata": {},
   "outputs": [
    {
     "name": "stderr",
     "output_type": "stream",
     "text": [
      "INFO:fbprophet:Skipping MAPE because y close to 0\n"
     ]
    },
    {
     "data": {
      "text/html": [
       "<div>\n",
       "<style scoped>\n",
       "    .dataframe tbody tr th:only-of-type {\n",
       "        vertical-align: middle;\n",
       "    }\n",
       "\n",
       "    .dataframe tbody tr th {\n",
       "        vertical-align: top;\n",
       "    }\n",
       "\n",
       "    .dataframe thead th {\n",
       "        text-align: right;\n",
       "    }\n",
       "</style>\n",
       "<table border=\"1\" class=\"dataframe\">\n",
       "  <thead>\n",
       "    <tr style=\"text-align: right;\">\n",
       "      <th></th>\n",
       "      <th>horizon</th>\n",
       "      <th>mse</th>\n",
       "      <th>rmse</th>\n",
       "      <th>mae</th>\n",
       "      <th>mdape</th>\n",
       "      <th>coverage</th>\n",
       "    </tr>\n",
       "  </thead>\n",
       "  <tbody>\n",
       "    <tr>\n",
       "      <th>79</th>\n",
       "      <td>88 days</td>\n",
       "      <td>8.502603</td>\n",
       "      <td>2.915922</td>\n",
       "      <td>2.310295</td>\n",
       "      <td>inf</td>\n",
       "      <td>1.0</td>\n",
       "    </tr>\n",
       "    <tr>\n",
       "      <th>80</th>\n",
       "      <td>89 days</td>\n",
       "      <td>9.057125</td>\n",
       "      <td>3.009506</td>\n",
       "      <td>2.312601</td>\n",
       "      <td>inf</td>\n",
       "      <td>1.0</td>\n",
       "    </tr>\n",
       "    <tr>\n",
       "      <th>81</th>\n",
       "      <td>90 days</td>\n",
       "      <td>9.668629</td>\n",
       "      <td>3.109442</td>\n",
       "      <td>2.430505</td>\n",
       "      <td>inf</td>\n",
       "      <td>1.0</td>\n",
       "    </tr>\n",
       "  </tbody>\n",
       "</table>\n",
       "</div>"
      ],
      "text/plain": [
       "   horizon       mse      rmse       mae  mdape  coverage\n",
       "79 88 days  8.502603  2.915922  2.310295    inf       1.0\n",
       "80 89 days  9.057125  3.009506  2.312601    inf       1.0\n",
       "81 90 days  9.668629  3.109442  2.430505    inf       1.0"
      ]
     },
     "execution_count": 57,
     "metadata": {},
     "output_type": "execute_result"
    }
   ],
   "source": [
    "df_p = performance_metrics(Int_cv) # performance matrics\n",
    "df_p.tail(3) "
   ]
  },
  {
   "cell_type": "code",
   "execution_count": 58,
   "id": "talented-ensemble",
   "metadata": {},
   "outputs": [
    {
     "data": {
      "text/plain": [
       "81    2.430505\n",
       "Name: mae, dtype: float64"
      ]
     },
     "execution_count": 58,
     "metadata": {},
     "output_type": "execute_result"
    }
   ],
   "source": [
    "df_p.mae.tail(1) # mean_absolute_error 8.011111111111111"
   ]
  },
  {
   "cell_type": "markdown",
   "id": "finished-delta",
   "metadata": {},
   "source": [
    "#### World Model Score"
   ]
  },
  {
   "cell_type": "code",
   "execution_count": 59,
   "id": "statistical-champion",
   "metadata": {},
   "outputs": [
    {
     "data": {
      "text/html": [
       "<div>\n",
       "<style scoped>\n",
       "    .dataframe tbody tr th:only-of-type {\n",
       "        vertical-align: middle;\n",
       "    }\n",
       "\n",
       "    .dataframe tbody tr th {\n",
       "        vertical-align: top;\n",
       "    }\n",
       "\n",
       "    .dataframe thead th {\n",
       "        text-align: right;\n",
       "    }\n",
       "</style>\n",
       "<table border=\"1\" class=\"dataframe\">\n",
       "  <thead>\n",
       "    <tr style=\"text-align: right;\">\n",
       "      <th></th>\n",
       "      <th>horizon</th>\n",
       "      <th>mse</th>\n",
       "      <th>rmse</th>\n",
       "      <th>mae</th>\n",
       "      <th>mape</th>\n",
       "      <th>mdape</th>\n",
       "      <th>coverage</th>\n",
       "    </tr>\n",
       "  </thead>\n",
       "  <tbody>\n",
       "    <tr>\n",
       "      <th>79</th>\n",
       "      <td>88 days</td>\n",
       "      <td>1.122580e+11</td>\n",
       "      <td>335049.195418</td>\n",
       "      <td>290789.931702</td>\n",
       "      <td>0.550883</td>\n",
       "      <td>0.439984</td>\n",
       "      <td>0.027778</td>\n",
       "    </tr>\n",
       "    <tr>\n",
       "      <th>80</th>\n",
       "      <td>89 days</td>\n",
       "      <td>1.116127e+11</td>\n",
       "      <td>334084.896829</td>\n",
       "      <td>290690.870443</td>\n",
       "      <td>0.547552</td>\n",
       "      <td>0.437523</td>\n",
       "      <td>0.027778</td>\n",
       "    </tr>\n",
       "    <tr>\n",
       "      <th>81</th>\n",
       "      <td>90 days</td>\n",
       "      <td>1.147476e+11</td>\n",
       "      <td>338744.212386</td>\n",
       "      <td>297002.705972</td>\n",
       "      <td>0.559757</td>\n",
       "      <td>0.434698</td>\n",
       "      <td>0.027778</td>\n",
       "    </tr>\n",
       "  </tbody>\n",
       "</table>\n",
       "</div>"
      ],
      "text/plain": [
       "   horizon           mse           rmse            mae      mape     mdape  \\\n",
       "79 88 days  1.122580e+11  335049.195418  290789.931702  0.550883  0.439984   \n",
       "80 89 days  1.116127e+11  334084.896829  290690.870443  0.547552  0.437523   \n",
       "81 90 days  1.147476e+11  338744.212386  297002.705972  0.559757  0.434698   \n",
       "\n",
       "    coverage  \n",
       "79  0.027778  \n",
       "80  0.027778  \n",
       "81  0.027778  "
      ]
     },
     "execution_count": 59,
     "metadata": {},
     "output_type": "execute_result"
    }
   ],
   "source": [
    "df_p = performance_metrics(W_cv) # performance matrics\n",
    "df_p.tail(3)"
   ]
  },
  {
   "cell_type": "code",
   "execution_count": 60,
   "id": "civil-playlist",
   "metadata": {},
   "outputs": [
    {
     "data": {
      "text/plain": [
       "81    297002.705972\n",
       "Name: mae, dtype: float64"
      ]
     },
     "execution_count": 60,
     "metadata": {},
     "output_type": "execute_result"
    }
   ],
   "source": [
    "df_p.mae.tail(1) # mean_absolute_error 487182.5"
   ]
  },
  {
   "cell_type": "markdown",
   "id": "saving-setup",
   "metadata": {},
   "source": [
    "#### Saudi Model Score"
   ]
  },
  {
   "cell_type": "code",
   "execution_count": 61,
   "id": "dramatic-roulette",
   "metadata": {},
   "outputs": [
    {
     "data": {
      "text/html": [
       "<div>\n",
       "<style scoped>\n",
       "    .dataframe tbody tr th:only-of-type {\n",
       "        vertical-align: middle;\n",
       "    }\n",
       "\n",
       "    .dataframe tbody tr th {\n",
       "        vertical-align: top;\n",
       "    }\n",
       "\n",
       "    .dataframe thead th {\n",
       "        text-align: right;\n",
       "    }\n",
       "</style>\n",
       "<table border=\"1\" class=\"dataframe\">\n",
       "  <thead>\n",
       "    <tr style=\"text-align: right;\">\n",
       "      <th></th>\n",
       "      <th>horizon</th>\n",
       "      <th>mse</th>\n",
       "      <th>rmse</th>\n",
       "      <th>mae</th>\n",
       "      <th>mape</th>\n",
       "      <th>mdape</th>\n",
       "      <th>coverage</th>\n",
       "    </tr>\n",
       "  </thead>\n",
       "  <tbody>\n",
       "    <tr>\n",
       "      <th>79</th>\n",
       "      <td>88 days</td>\n",
       "      <td>5.556503e+06</td>\n",
       "      <td>2357.223658</td>\n",
       "      <td>2180.290392</td>\n",
       "      <td>14.493562</td>\n",
       "      <td>16.645156</td>\n",
       "      <td>0.333333</td>\n",
       "    </tr>\n",
       "    <tr>\n",
       "      <th>80</th>\n",
       "      <td>89 days</td>\n",
       "      <td>5.675953e+06</td>\n",
       "      <td>2382.425911</td>\n",
       "      <td>2207.442021</td>\n",
       "      <td>14.558351</td>\n",
       "      <td>16.715839</td>\n",
       "      <td>0.333333</td>\n",
       "    </tr>\n",
       "    <tr>\n",
       "      <th>81</th>\n",
       "      <td>90 days</td>\n",
       "      <td>5.813050e+06</td>\n",
       "      <td>2411.026811</td>\n",
       "      <td>2235.389194</td>\n",
       "      <td>14.578988</td>\n",
       "      <td>17.610862</td>\n",
       "      <td>0.333333</td>\n",
       "    </tr>\n",
       "  </tbody>\n",
       "</table>\n",
       "</div>"
      ],
      "text/plain": [
       "   horizon           mse         rmse          mae       mape      mdape  \\\n",
       "79 88 days  5.556503e+06  2357.223658  2180.290392  14.493562  16.645156   \n",
       "80 89 days  5.675953e+06  2382.425911  2207.442021  14.558351  16.715839   \n",
       "81 90 days  5.813050e+06  2411.026811  2235.389194  14.578988  17.610862   \n",
       "\n",
       "    coverage  \n",
       "79  0.333333  \n",
       "80  0.333333  \n",
       "81  0.333333  "
      ]
     },
     "execution_count": 61,
     "metadata": {},
     "output_type": "execute_result"
    }
   ],
   "source": [
    "df_p = performance_metrics(S_cv)# performance matrics\n",
    "df_p.tail(3)"
   ]
  },
  {
   "cell_type": "code",
   "execution_count": 62,
   "id": "computational-threat",
   "metadata": {},
   "outputs": [
    {
     "data": {
      "text/plain": [
       "81    2235.389194\n",
       "Name: mae, dtype: float64"
      ]
     },
     "execution_count": 62,
     "metadata": {},
     "output_type": "execute_result"
    }
   ],
   "source": [
    "df_p.mae.tail(1) # mean_absolute_error 804.3555555555556"
   ]
  }
 ],
 "metadata": {
  "kernelspec": {
   "display_name": "Python 3",
   "language": "python",
   "name": "python3"
  },
  "language_info": {
   "codemirror_mode": {
    "name": "ipython",
    "version": 3
   },
   "file_extension": ".py",
   "mimetype": "text/x-python",
   "name": "python",
   "nbconvert_exporter": "python",
   "pygments_lexer": "ipython3",
   "version": "3.8.5"
  }
 },
 "nbformat": 4,
 "nbformat_minor": 5
}
