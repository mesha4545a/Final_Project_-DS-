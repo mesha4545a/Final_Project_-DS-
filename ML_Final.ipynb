{
 "cells": [
  {
   "cell_type": "markdown",
   "id": "deluxe-niger",
   "metadata": {},
   "source": [
    "## Forecasting Covid-19 Cases"
   ]
  },
  {
   "cell_type": "markdown",
   "id": "medium-listing",
   "metadata": {},
   "source": [
    "### Import the Dataset"
   ]
  },
  {
   "cell_type": "code",
   "execution_count": 2,
   "id": "italic-academy",
   "metadata": {},
   "outputs": [],
   "source": [
    "import pandas as pd\n",
    "df = pd.read_csv(\"D:\\Final_project\\data\\EDA.csv\")"
   ]
  },
  {
   "cell_type": "code",
   "execution_count": 4,
   "id": "configured-briefs",
   "metadata": {},
   "outputs": [
    {
     "data": {
      "text/html": [
       "<div>\n",
       "<style scoped>\n",
       "    .dataframe tbody tr th:only-of-type {\n",
       "        vertical-align: middle;\n",
       "    }\n",
       "\n",
       "    .dataframe tbody tr th {\n",
       "        vertical-align: top;\n",
       "    }\n",
       "\n",
       "    .dataframe thead th {\n",
       "        text-align: right;\n",
       "    }\n",
       "</style>\n",
       "<table border=\"1\" class=\"dataframe\">\n",
       "  <thead>\n",
       "    <tr style=\"text-align: right;\">\n",
       "      <th></th>\n",
       "      <th>iso_code</th>\n",
       "      <th>continent</th>\n",
       "      <th>location</th>\n",
       "      <th>date</th>\n",
       "      <th>total_cases</th>\n",
       "      <th>new_cases</th>\n",
       "      <th>new_cases_smoothed</th>\n",
       "      <th>total_deaths</th>\n",
       "      <th>new_deaths</th>\n",
       "      <th>new_deaths_smoothed</th>\n",
       "      <th>...</th>\n",
       "      <th>people_vaccinated</th>\n",
       "      <th>people_fully_vaccinated</th>\n",
       "      <th>new_vaccinations</th>\n",
       "      <th>new_vaccinations_smoothed</th>\n",
       "      <th>total_vaccinations_per_hundred</th>\n",
       "      <th>people_vaccinated_per_hundred</th>\n",
       "      <th>people_fully_vaccinated_per_hundred</th>\n",
       "      <th>new_vaccinations_smoothed_per_million</th>\n",
       "      <th>population</th>\n",
       "      <th>population_density</th>\n",
       "    </tr>\n",
       "  </thead>\n",
       "  <tbody>\n",
       "    <tr>\n",
       "      <th>65799</th>\n",
       "      <td>ZWE</td>\n",
       "      <td>Africa</td>\n",
       "      <td>Zimbabwe</td>\n",
       "      <td>2021-02-07</td>\n",
       "      <td>34552.0</td>\n",
       "      <td>65.0</td>\n",
       "      <td>166.286</td>\n",
       "      <td>1326.0</td>\n",
       "      <td>10.0</td>\n",
       "      <td>15.571</td>\n",
       "      <td>...</td>\n",
       "      <td>202042.626514</td>\n",
       "      <td>173260.613062</td>\n",
       "      <td>-12018.854475</td>\n",
       "      <td>20179.002912</td>\n",
       "      <td>2189.385</td>\n",
       "      <td>13593.731</td>\n",
       "      <td>11657.234</td>\n",
       "      <td>1357.674</td>\n",
       "      <td>14862927.0</td>\n",
       "      <td>42.729</td>\n",
       "    </tr>\n",
       "    <tr>\n",
       "      <th>65800</th>\n",
       "      <td>ZWE</td>\n",
       "      <td>Africa</td>\n",
       "      <td>Zimbabwe</td>\n",
       "      <td>2021-02-08</td>\n",
       "      <td>34658.0</td>\n",
       "      <td>106.0</td>\n",
       "      <td>158.571</td>\n",
       "      <td>1339.0</td>\n",
       "      <td>13.0</td>\n",
       "      <td>15.000</td>\n",
       "      <td>...</td>\n",
       "      <td>200489.896645</td>\n",
       "      <td>173548.194279</td>\n",
       "      <td>-11394.374095</td>\n",
       "      <td>20075.984392</td>\n",
       "      <td>2155.236</td>\n",
       "      <td>13489.261</td>\n",
       "      <td>11676.583</td>\n",
       "      <td>1350.742</td>\n",
       "      <td>14862927.0</td>\n",
       "      <td>42.729</td>\n",
       "    </tr>\n",
       "    <tr>\n",
       "      <th>65801</th>\n",
       "      <td>ZWE</td>\n",
       "      <td>Africa</td>\n",
       "      <td>Zimbabwe</td>\n",
       "      <td>2021-02-09</td>\n",
       "      <td>34781.0</td>\n",
       "      <td>123.0</td>\n",
       "      <td>138.143</td>\n",
       "      <td>1353.0</td>\n",
       "      <td>14.0</td>\n",
       "      <td>14.143</td>\n",
       "      <td>...</td>\n",
       "      <td>199250.060411</td>\n",
       "      <td>174435.659533</td>\n",
       "      <td>-11105.734623</td>\n",
       "      <td>19997.080279</td>\n",
       "      <td>2215.303</td>\n",
       "      <td>13405.843</td>\n",
       "      <td>11736.293</td>\n",
       "      <td>1345.434</td>\n",
       "      <td>14862927.0</td>\n",
       "      <td>42.729</td>\n",
       "    </tr>\n",
       "    <tr>\n",
       "      <th>65802</th>\n",
       "      <td>ZWE</td>\n",
       "      <td>Africa</td>\n",
       "      <td>Zimbabwe</td>\n",
       "      <td>2021-02-10</td>\n",
       "      <td>34864.0</td>\n",
       "      <td>83.0</td>\n",
       "      <td>128.571</td>\n",
       "      <td>1364.0</td>\n",
       "      <td>11.0</td>\n",
       "      <td>13.571</td>\n",
       "      <td>...</td>\n",
       "      <td>197971.146576</td>\n",
       "      <td>175151.001255</td>\n",
       "      <td>-11703.673670</td>\n",
       "      <td>19929.314019</td>\n",
       "      <td>2182.777</td>\n",
       "      <td>13319.795</td>\n",
       "      <td>11784.422</td>\n",
       "      <td>1340.874</td>\n",
       "      <td>14862927.0</td>\n",
       "      <td>42.729</td>\n",
       "    </tr>\n",
       "    <tr>\n",
       "      <th>65803</th>\n",
       "      <td>ZWE</td>\n",
       "      <td>Africa</td>\n",
       "      <td>Zimbabwe</td>\n",
       "      <td>2021-02-11</td>\n",
       "      <td>34864.0</td>\n",
       "      <td>0.0</td>\n",
       "      <td>99.000</td>\n",
       "      <td>1364.0</td>\n",
       "      <td>0.0</td>\n",
       "      <td>10.857</td>\n",
       "      <td>...</td>\n",
       "      <td>188557.868114</td>\n",
       "      <td>177056.676529</td>\n",
       "      <td>-14126.035117</td>\n",
       "      <td>19375.934871</td>\n",
       "      <td>1558.995</td>\n",
       "      <td>12686.456</td>\n",
       "      <td>11912.639</td>\n",
       "      <td>1303.642</td>\n",
       "      <td>14862927.0</td>\n",
       "      <td>42.729</td>\n",
       "    </tr>\n",
       "  </tbody>\n",
       "</table>\n",
       "<p>5 rows × 37 columns</p>\n",
       "</div>"
      ],
      "text/plain": [
       "      iso_code continent  location        date  total_cases  new_cases  \\\n",
       "65799      ZWE    Africa  Zimbabwe  2021-02-07      34552.0       65.0   \n",
       "65800      ZWE    Africa  Zimbabwe  2021-02-08      34658.0      106.0   \n",
       "65801      ZWE    Africa  Zimbabwe  2021-02-09      34781.0      123.0   \n",
       "65802      ZWE    Africa  Zimbabwe  2021-02-10      34864.0       83.0   \n",
       "65803      ZWE    Africa  Zimbabwe  2021-02-11      34864.0        0.0   \n",
       "\n",
       "       new_cases_smoothed  total_deaths  new_deaths  new_deaths_smoothed  ...  \\\n",
       "65799             166.286        1326.0        10.0               15.571  ...   \n",
       "65800             158.571        1339.0        13.0               15.000  ...   \n",
       "65801             138.143        1353.0        14.0               14.143  ...   \n",
       "65802             128.571        1364.0        11.0               13.571  ...   \n",
       "65803              99.000        1364.0         0.0               10.857  ...   \n",
       "\n",
       "       people_vaccinated  people_fully_vaccinated  new_vaccinations  \\\n",
       "65799      202042.626514            173260.613062     -12018.854475   \n",
       "65800      200489.896645            173548.194279     -11394.374095   \n",
       "65801      199250.060411            174435.659533     -11105.734623   \n",
       "65802      197971.146576            175151.001255     -11703.673670   \n",
       "65803      188557.868114            177056.676529     -14126.035117   \n",
       "\n",
       "       new_vaccinations_smoothed  total_vaccinations_per_hundred  \\\n",
       "65799               20179.002912                        2189.385   \n",
       "65800               20075.984392                        2155.236   \n",
       "65801               19997.080279                        2215.303   \n",
       "65802               19929.314019                        2182.777   \n",
       "65803               19375.934871                        1558.995   \n",
       "\n",
       "       people_vaccinated_per_hundred  people_fully_vaccinated_per_hundred  \\\n",
       "65799                      13593.731                            11657.234   \n",
       "65800                      13489.261                            11676.583   \n",
       "65801                      13405.843                            11736.293   \n",
       "65802                      13319.795                            11784.422   \n",
       "65803                      12686.456                            11912.639   \n",
       "\n",
       "       new_vaccinations_smoothed_per_million  population  population_density  \n",
       "65799                               1357.674  14862927.0              42.729  \n",
       "65800                               1350.742  14862927.0              42.729  \n",
       "65801                               1345.434  14862927.0              42.729  \n",
       "65802                               1340.874  14862927.0              42.729  \n",
       "65803                               1303.642  14862927.0              42.729  \n",
       "\n",
       "[5 rows x 37 columns]"
      ]
     },
     "execution_count": 4,
     "metadata": {},
     "output_type": "execute_result"
    }
   ],
   "source": [
    "df.tail()"
   ]
  },
  {
   "cell_type": "markdown",
   "id": "owned-flush",
   "metadata": {},
   "source": [
    "### Select Subset Datasets"
   ]
  },
  {
   "cell_type": "code",
   "execution_count": 3,
   "id": "compound-design",
   "metadata": {},
   "outputs": [],
   "source": [
    "International= df[df['location']==\"International\"]"
   ]
  },
  {
   "cell_type": "code",
   "execution_count": 4,
   "id": "subtle-flavor",
   "metadata": {},
   "outputs": [],
   "source": [
    "world= df[df['location']==\"World\"]"
   ]
  },
  {
   "cell_type": "code",
   "execution_count": 5,
   "id": "statutory-carnival",
   "metadata": {},
   "outputs": [],
   "source": [
    "Saudi = df[df['location']==\"Saudi Arabia\"]"
   ]
  },
  {
   "cell_type": "markdown",
   "id": "revised-output",
   "metadata": {},
   "source": [
    "### Prepare the Datasets for Modeling"
   ]
  },
  {
   "cell_type": "code",
   "execution_count": 6,
   "id": "union-julian",
   "metadata": {},
   "outputs": [],
   "source": [
    "International= International.filter(['date','new_cases'])\n",
    "# remove all columns except \"date\" and \"new cases\"\n",
    "International.columns = ['ds', 'y'] # rename the columns \n",
    " # exporting the data\n",
    "    "
   ]
  },
  {
   "cell_type": "code",
   "execution_count": 7,
   "id": "thirty-channel",
   "metadata": {},
   "outputs": [],
   "source": [
    "world= world.filter(['date','new_cases'])\n",
    "# remove all columns except \"date\" and \"new cases\"\n",
    "world.columns = ['ds', 'y'] # rename the columns \n",
    " # exporting the data\n"
   ]
  },
  {
   "cell_type": "code",
   "execution_count": 8,
   "id": "fifteen-distributor",
   "metadata": {},
   "outputs": [],
   "source": [
    "Saudi= Saudi.filter(['date','new_cases'])\n",
    "# remove all columns except \"date\" and \"new cases\"\n",
    "Saudi.columns = ['ds', 'y'] # rename the columns \n",
    " # exporting the data"
   ]
  },
  {
   "cell_type": "markdown",
   "id": "direct-gambling",
   "metadata": {},
   "source": [
    "### Ploting the Datasets"
   ]
  },
  {
   "cell_type": "code",
   "execution_count": 9,
   "id": "resistant-booking",
   "metadata": {},
   "outputs": [
    {
     "data": {
      "image/png": "[encoded data removed]",
      "text/plain": [
       "<Figure size 648x360 with 1 Axes>"
      ]
     },
     "metadata": {
      "needs_background": "light"
     },
     "output_type": "display_data"
    }
   ],
   "source": [
    "# importing libraries \n",
    "from matplotlib import pyplot\n",
    "import matplotlib.pyplot as plt\n",
    "\n",
    "International.plot(figsize=(9, 5)) #plot the dataset\n",
    "plt.title(\" International Cases Distribution Per Months\", fontsize=16) #set title and it size\n",
    "plt.ylabel('Cases', fontsize=18) # set y axis name and size\n",
    "plt.xlabel('', fontsize=18); #set x axis size"
   ]
  },
  {
   "cell_type": "code",
   "execution_count": 10,
   "id": "exempt-installation",
   "metadata": {},
   "outputs": [
    {
     "data": {
      "image/png": "[encoded data removed]",
      "text/plain": [
       "<Figure size 648x360 with 1 Axes>"
      ]
     },
     "metadata": {
      "needs_background": "light"
     },
     "output_type": "display_data"
    }
   ],
   "source": [
    "world.plot(figsize=(9, 5)) #plot the dataset\n",
    "plt.title(\" world Cases Distribution Per Months\", fontsize=16) #set title and it size\n",
    "plt.ylabel('Cases', fontsize=18) # set y axis name and size\n",
    "plt.xlabel('', fontsize=18); #set x axis size"
   ]
  },
  {
   "cell_type": "code",
   "execution_count": 11,
   "id": "funky-bishop",
   "metadata": {},
   "outputs": [
    {
     "data": {
      "image/png": "[encoded data removed]",
      "text/plain": [
       "<Figure size 648x360 with 1 Axes>"
      ]
     },
     "metadata": {
      "needs_background": "light"
     },
     "output_type": "display_data"
    }
   ],
   "source": [
    "Saudi.plot(figsize=(9, 5)) #plot the dataset\n",
    "plt.title(\" Saudi Cases Distribution Per Months\", fontsize=16) #set title and it size\n",
    "plt.ylabel('Cases', fontsize=18) # set y axis name and size\n",
    "plt.xlabel('', fontsize=18); #set x axis size"
   ]
  },
  {
   "cell_type": "markdown",
   "id": "fuzzy-legislature",
   "metadata": {},
   "source": [
    "### The Baseline Model"
   ]
  },
  {
   "cell_type": "code",
   "execution_count": 12,
   "id": "willing-capital",
   "metadata": {},
   "outputs": [],
   "source": [
    "import itertools # importing library\n",
    "def base_line(df):\n",
    "    srise_value = df.y.values # take the y column data\n",
    "    value = pd.DataFrame(srise_value) # make dataframe\n",
    "    #create new dataframe contain a value and y value shifted\n",
    "    new_df = pd.concat([value,value.shift(1)],axis=1 ) \n",
    "    new_df.columns = ['present','futur']  # name the columns\n",
    "    result = new_df.futur.tail(1).item() # set result to the last value in new_df \n",
    "    global baselin # set result baseline dataset to global\n",
    "    baselin = list(itertools.repeat(result, 90)) # iterate result\n",
    "    return baselin #return iterator result"
   ]
  },
  {
   "cell_type": "code",
   "execution_count": 13,
   "id": "reliable-budapest",
   "metadata": {},
   "outputs": [],
   "source": [
    "#International Baseline model\n",
    "Int = base_line(International)"
   ]
  },
  {
   "cell_type": "code",
   "execution_count": 14,
   "id": "burning-highland",
   "metadata": {},
   "outputs": [],
   "source": [
    "#world Baseline model\n",
    "w = base_line(world)"
   ]
  },
  {
   "cell_type": "code",
   "execution_count": 15,
   "id": "demanding-float",
   "metadata": {},
   "outputs": [],
   "source": [
    "#Saudi Baseline model\n",
    "S = base_line(Saudi)"
   ]
  },
  {
   "cell_type": "markdown",
   "id": "beautiful-economics",
   "metadata": {},
   "source": [
    "### Create Dataframe for the Baseline Model Results"
   ]
  },
  {
   "cell_type": "code",
   "execution_count": 16,
   "id": "prompt-malawi",
   "metadata": {},
   "outputs": [
    {
     "data": {
      "text/html": [
       "<div>\n",
       "<style scoped>\n",
       "    .dataframe tbody tr th:only-of-type {\n",
       "        vertical-align: middle;\n",
       "    }\n",
       "\n",
       "    .dataframe tbody tr th {\n",
       "        vertical-align: top;\n",
       "    }\n",
       "\n",
       "    .dataframe thead th {\n",
       "        text-align: right;\n",
       "    }\n",
       "</style>\n",
       "<table border=\"1\" class=\"dataframe\">\n",
       "  <thead>\n",
       "    <tr style=\"text-align: right;\">\n",
       "      <th></th>\n",
       "      <th>y</th>\n",
       "      <th>ds</th>\n",
       "    </tr>\n",
       "  </thead>\n",
       "  <tbody>\n",
       "    <tr>\n",
       "      <th>85</th>\n",
       "      <td>0.0</td>\n",
       "      <td>86 days</td>\n",
       "    </tr>\n",
       "    <tr>\n",
       "      <th>86</th>\n",
       "      <td>0.0</td>\n",
       "      <td>87 days</td>\n",
       "    </tr>\n",
       "    <tr>\n",
       "      <th>87</th>\n",
       "      <td>0.0</td>\n",
       "      <td>88 days</td>\n",
       "    </tr>\n",
       "    <tr>\n",
       "      <th>88</th>\n",
       "      <td>0.0</td>\n",
       "      <td>89 days</td>\n",
       "    </tr>\n",
       "    <tr>\n",
       "      <th>89</th>\n",
       "      <td>0.0</td>\n",
       "      <td>90 days</td>\n",
       "    </tr>\n",
       "  </tbody>\n",
       "</table>\n",
       "</div>"
      ],
      "text/plain": [
       "      y      ds\n",
       "85  0.0 86 days\n",
       "86  0.0 87 days\n",
       "87  0.0 88 days\n",
       "88  0.0 89 days\n",
       "89  0.0 90 days"
      ]
     },
     "execution_count": 16,
     "metadata": {},
     "output_type": "execute_result"
    }
   ],
   "source": [
    "#International\n",
    "import datetime #importing library\n",
    "date_list = [datetime.timedelta(days=x) for x in range(1,len(Int)+1)]  \n",
    "# creat dayes for values in base line model\n",
    "p1 = pd.concat([pd.Series(Int), pd.Series(date_list)], axis=1) \n",
    "# merge columns to one dataframe\n",
    "p1.columns = ['y','ds'] # name the columns\n",
    "p1.tail()"
   ]
  },
  {
   "cell_type": "code",
   "execution_count": 17,
   "id": "naval-medicine",
   "metadata": {},
   "outputs": [
    {
     "data": {
      "text/html": [
       "<div>\n",
       "<style scoped>\n",
       "    .dataframe tbody tr th:only-of-type {\n",
       "        vertical-align: middle;\n",
       "    }\n",
       "\n",
       "    .dataframe tbody tr th {\n",
       "        vertical-align: top;\n",
       "    }\n",
       "\n",
       "    .dataframe thead th {\n",
       "        text-align: right;\n",
       "    }\n",
       "</style>\n",
       "<table border=\"1\" class=\"dataframe\">\n",
       "  <thead>\n",
       "    <tr style=\"text-align: right;\">\n",
       "      <th></th>\n",
       "      <th>y</th>\n",
       "      <th>ds</th>\n",
       "    </tr>\n",
       "  </thead>\n",
       "  <tbody>\n",
       "    <tr>\n",
       "      <th>85</th>\n",
       "      <td>514862.0</td>\n",
       "      <td>86 days</td>\n",
       "    </tr>\n",
       "    <tr>\n",
       "      <th>86</th>\n",
       "      <td>514862.0</td>\n",
       "      <td>87 days</td>\n",
       "    </tr>\n",
       "    <tr>\n",
       "      <th>87</th>\n",
       "      <td>514862.0</td>\n",
       "      <td>88 days</td>\n",
       "    </tr>\n",
       "    <tr>\n",
       "      <th>88</th>\n",
       "      <td>514862.0</td>\n",
       "      <td>89 days</td>\n",
       "    </tr>\n",
       "    <tr>\n",
       "      <th>89</th>\n",
       "      <td>514862.0</td>\n",
       "      <td>90 days</td>\n",
       "    </tr>\n",
       "  </tbody>\n",
       "</table>\n",
       "</div>"
      ],
      "text/plain": [
       "           y      ds\n",
       "85  514862.0 86 days\n",
       "86  514862.0 87 days\n",
       "87  514862.0 88 days\n",
       "88  514862.0 89 days\n",
       "89  514862.0 90 days"
      ]
     },
     "execution_count": 17,
     "metadata": {},
     "output_type": "execute_result"
    }
   ],
   "source": [
    "#world\n",
    "date_list = [datetime.timedelta(days=x) for x in range(1,len(w)+1)]  \n",
    "# creat dayes for values in base line model\n",
    "p2 = pd.concat([pd.Series(w), pd.Series(date_list)], axis=1) \n",
    "# merge columns to one dataframe\n",
    "p2.columns = ['y','ds'] # name the columns\n",
    "p2.tail()"
   ]
  },
  {
   "cell_type": "code",
   "execution_count": 18,
   "id": "visible-scheme",
   "metadata": {},
   "outputs": [
    {
     "data": {
      "text/html": [
       "<div>\n",
       "<style scoped>\n",
       "    .dataframe tbody tr th:only-of-type {\n",
       "        vertical-align: middle;\n",
       "    }\n",
       "\n",
       "    .dataframe tbody tr th {\n",
       "        vertical-align: top;\n",
       "    }\n",
       "\n",
       "    .dataframe thead th {\n",
       "        text-align: right;\n",
       "    }\n",
       "</style>\n",
       "<table border=\"1\" class=\"dataframe\">\n",
       "  <thead>\n",
       "    <tr style=\"text-align: right;\">\n",
       "      <th></th>\n",
       "      <th>y</th>\n",
       "      <th>ds</th>\n",
       "    </tr>\n",
       "  </thead>\n",
       "  <tbody>\n",
       "    <tr>\n",
       "      <th>85</th>\n",
       "      <td>369.0</td>\n",
       "      <td>86 days</td>\n",
       "    </tr>\n",
       "    <tr>\n",
       "      <th>86</th>\n",
       "      <td>369.0</td>\n",
       "      <td>87 days</td>\n",
       "    </tr>\n",
       "    <tr>\n",
       "      <th>87</th>\n",
       "      <td>369.0</td>\n",
       "      <td>88 days</td>\n",
       "    </tr>\n",
       "    <tr>\n",
       "      <th>88</th>\n",
       "      <td>369.0</td>\n",
       "      <td>89 days</td>\n",
       "    </tr>\n",
       "    <tr>\n",
       "      <th>89</th>\n",
       "      <td>369.0</td>\n",
       "      <td>90 days</td>\n",
       "    </tr>\n",
       "  </tbody>\n",
       "</table>\n",
       "</div>"
      ],
      "text/plain": [
       "        y      ds\n",
       "85  369.0 86 days\n",
       "86  369.0 87 days\n",
       "87  369.0 88 days\n",
       "88  369.0 89 days\n",
       "89  369.0 90 days"
      ]
     },
     "execution_count": 18,
     "metadata": {},
     "output_type": "execute_result"
    }
   ],
   "source": [
    "#Saudi\n",
    "date_list = [datetime.timedelta(days=x) for x in range(1,len(S)+1)]  \n",
    "# creat dayes for values in base line model\n",
    "p3 = pd.concat([pd.Series(S), pd.Series(date_list)], axis=1) \n",
    "# merge columns to one dataframe\n",
    "p3.columns = ['y','ds'] # name the columns\n",
    "p3.tail()"
   ]
  },
  {
   "cell_type": "markdown",
   "id": "continent-anchor",
   "metadata": {},
   "source": [
    "### Plot the Baseline Model Result  "
   ]
  },
  {
   "cell_type": "code",
   "execution_count": 19,
   "id": "planned-viking",
   "metadata": {},
   "outputs": [
    {
     "data": {
      "image/png": "[encoded data removed]",
      "text/plain": [
       "<Figure size 1800x360 with 1 Axes>"
      ]
     },
     "metadata": {
      "needs_background": "light"
     },
     "output_type": "display_data"
    }
   ],
   "source": [
    "#International\n",
    "p1.plot(\"ds\",\"y\",figsize=(25, 5)) # plot the data\n",
    "plt.title(\"International baseModel Forcast\", fontsize=16) # set title\n",
    "plt.ylabel('Cases', fontsize=18) #set y axis name and size\n",
    "plt.xlabel('ds', fontsize=18);#set x axis name and size"
   ]
  },
  {
   "cell_type": "code",
   "execution_count": 20,
   "id": "signal-gabriel",
   "metadata": {},
   "outputs": [
    {
     "data": {
      "image/png": "[encoded data removed]",
      "text/plain": [
       "<Figure size 1800x360 with 1 Axes>"
      ]
     },
     "metadata": {
      "needs_background": "light"
     },
     "output_type": "display_data"
    }
   ],
   "source": [
    "#world\n",
    "p2.plot(\"ds\",\"y\",figsize=(25, 5)) # plot the data\n",
    "plt.title(\"world baseModel Forcast\", fontsize=16) # set title\n",
    "plt.ylabel('Cases', fontsize=18) #set y axis name and size\n",
    "plt.xlabel('ds', fontsize=18);#set x axis name and size"
   ]
  },
  {
   "cell_type": "code",
   "execution_count": 21,
   "id": "likely-supplier",
   "metadata": {},
   "outputs": [
    {
     "data": {
      "image/png": "[encoded data removed]",
      "text/plain": [
       "<Figure size 1800x360 with 1 Axes>"
      ]
     },
     "metadata": {
      "needs_background": "light"
     },
     "output_type": "display_data"
    }
   ],
   "source": [
    "#Saudi\n",
    "p3.plot(\"ds\",\"y\",figsize=(25, 5)) # plot the data\n",
    "plt.title(\"Saudi baseModel Forcast\", fontsize=16) # set title\n",
    "plt.ylabel('Cases', fontsize=18) #set y axis name and size\n",
    "plt.xlabel('ds', fontsize=18);#set x axis name and size"
   ]
  },
  {
   "cell_type": "markdown",
   "id": "yellow-retail",
   "metadata": {},
   "source": [
    "### Baseline Model Scores"
   ]
  },
  {
   "cell_type": "code",
   "execution_count": 22,
   "id": "excessive-vitamin",
   "metadata": {},
   "outputs": [],
   "source": [
    "from sklearn.metrics import mean_absolute_error"
   ]
  },
  {
   "cell_type": "markdown",
   "id": "strategic-violation",
   "metadata": {},
   "source": [
    "##### International Baseline Model Score"
   ]
  },
  {
   "cell_type": "code",
   "execution_count": 23,
   "id": "resident-reaction",
   "metadata": {},
   "outputs": [
    {
     "data": {
      "text/plain": [
       "8.011111111111111"
      ]
     },
     "execution_count": 23,
     "metadata": {},
     "output_type": "execute_result"
    }
   ],
   "source": [
    "mean_absolute_error(International.y[:90], Int)"
   ]
  },
  {
   "cell_type": "markdown",
   "id": "educational-heater",
   "metadata": {},
   "source": [
    "##### World Baseline Model Score"
   ]
  },
  {
   "cell_type": "code",
   "execution_count": 24,
   "id": "retired-storage",
   "metadata": {},
   "outputs": [
    {
     "data": {
      "text/plain": [
       "487182.5"
      ]
     },
     "execution_count": 24,
     "metadata": {},
     "output_type": "execute_result"
    }
   ],
   "source": [
    "mean_absolute_error(world.y[:90], w)"
   ]
  },
  {
   "cell_type": "markdown",
   "id": "unnecessary-socket",
   "metadata": {},
   "source": [
    "##### Saudi Baseline Model Score"
   ]
  },
  {
   "cell_type": "code",
   "execution_count": 25,
   "id": "documented-monitor",
   "metadata": {},
   "outputs": [
    {
     "data": {
      "text/plain": [
       "804.3555555555556"
      ]
     },
     "execution_count": 25,
     "metadata": {},
     "output_type": "execute_result"
    }
   ],
   "source": [
    "mean_absolute_error(Saudi.y[:90], S)"
   ]
  },
  {
   "cell_type": "markdown",
   "id": "continuous-cooperation",
   "metadata": {},
   "source": [
    "### Prophet Models"
   ]
  },
  {
   "cell_type": "code",
   "execution_count": 26,
   "id": "passive-anchor",
   "metadata": {},
   "outputs": [],
   "source": [
    "from fbprophet import Prophet # import propht"
   ]
  },
  {
   "cell_type": "markdown",
   "id": "charged-bristol",
   "metadata": {},
   "source": [
    "#### International Prophet Model"
   ]
  },
  {
   "cell_type": "code",
   "execution_count": 27,
   "id": "aware-combine",
   "metadata": {},
   "outputs": [
    {
     "name": "stderr",
     "output_type": "stream",
     "text": [
      "INFO:fbprophet:Disabling yearly seasonality. Run prophet with yearly_seasonality=True to override this.\n",
      "INFO:fbprophet:Disabling daily seasonality. Run prophet with daily_seasonality=True to override this.\n"
     ]
    },
    {
     "data": {
      "text/plain": [
       "<fbprophet.forecaster.Prophet at 0x19bbdbb7760>"
      ]
     },
     "execution_count": 27,
     "metadata": {},
     "output_type": "execute_result"
    }
   ],
   "source": [
    "m = Prophet() # set up model\n",
    "m.fit(International) # fit model"
   ]
  },
  {
   "cell_type": "code",
   "execution_count": 28,
   "id": "effective-balloon",
   "metadata": {},
   "outputs": [],
   "source": [
    "future_Int = m.make_future_dataframe(periods=365)\n",
    "#make a dataframe to hold your future value predictions"
   ]
  },
  {
   "cell_type": "code",
   "execution_count": 29,
   "id": "existing-crawford",
   "metadata": {},
   "outputs": [
    {
     "data": {
      "text/html": [
       "<div>\n",
       "<style scoped>\n",
       "    .dataframe tbody tr th:only-of-type {\n",
       "        vertical-align: middle;\n",
       "    }\n",
       "\n",
       "    .dataframe tbody tr th {\n",
       "        vertical-align: top;\n",
       "    }\n",
       "\n",
       "    .dataframe thead th {\n",
       "        text-align: right;\n",
       "    }\n",
       "</style>\n",
       "<table border=\"1\" class=\"dataframe\">\n",
       "  <thead>\n",
       "    <tr style=\"text-align: right;\">\n",
       "      <th></th>\n",
       "      <th>ds</th>\n",
       "    </tr>\n",
       "  </thead>\n",
       "  <tbody>\n",
       "    <tr>\n",
       "      <th>731</th>\n",
       "      <td>2022-02-07</td>\n",
       "    </tr>\n",
       "    <tr>\n",
       "      <th>732</th>\n",
       "      <td>2022-02-08</td>\n",
       "    </tr>\n",
       "    <tr>\n",
       "      <th>733</th>\n",
       "      <td>2022-02-09</td>\n",
       "    </tr>\n",
       "    <tr>\n",
       "      <th>734</th>\n",
       "      <td>2022-02-10</td>\n",
       "    </tr>\n",
       "    <tr>\n",
       "      <th>735</th>\n",
       "      <td>2022-02-11</td>\n",
       "    </tr>\n",
       "  </tbody>\n",
       "</table>\n",
       "</div>"
      ],
      "text/plain": [
       "            ds\n",
       "731 2022-02-07\n",
       "732 2022-02-08\n",
       "733 2022-02-09\n",
       "734 2022-02-10\n",
       "735 2022-02-11"
      ]
     },
     "execution_count": 29,
     "metadata": {},
     "output_type": "execute_result"
    }
   ],
   "source": [
    "future_Int.tail() # see the data"
   ]
  },
  {
   "cell_type": "code",
   "execution_count": 30,
   "id": "wicked-officer",
   "metadata": {},
   "outputs": [
    {
     "data": {
      "text/html": [
       "<div>\n",
       "<style scoped>\n",
       "    .dataframe tbody tr th:only-of-type {\n",
       "        vertical-align: middle;\n",
       "    }\n",
       "\n",
       "    .dataframe tbody tr th {\n",
       "        vertical-align: top;\n",
       "    }\n",
       "\n",
       "    .dataframe thead th {\n",
       "        text-align: right;\n",
       "    }\n",
       "</style>\n",
       "<table border=\"1\" class=\"dataframe\">\n",
       "  <thead>\n",
       "    <tr style=\"text-align: right;\">\n",
       "      <th></th>\n",
       "      <th>ds</th>\n",
       "      <th>trend</th>\n",
       "      <th>yhat_lower</th>\n",
       "      <th>yhat_upper</th>\n",
       "      <th>trend_lower</th>\n",
       "      <th>trend_upper</th>\n",
       "      <th>additive_terms</th>\n",
       "      <th>additive_terms_lower</th>\n",
       "      <th>additive_terms_upper</th>\n",
       "      <th>weekly</th>\n",
       "      <th>weekly_lower</th>\n",
       "      <th>weekly_upper</th>\n",
       "      <th>multiplicative_terms</th>\n",
       "      <th>multiplicative_terms_lower</th>\n",
       "      <th>multiplicative_terms_upper</th>\n",
       "      <th>yhat</th>\n",
       "    </tr>\n",
       "  </thead>\n",
       "  <tbody>\n",
       "    <tr>\n",
       "      <th>0</th>\n",
       "      <td>2020-02-07</td>\n",
       "      <td>20.702194</td>\n",
       "      <td>7.938730</td>\n",
       "      <td>32.452464</td>\n",
       "      <td>20.702194</td>\n",
       "      <td>20.702194</td>\n",
       "      <td>-0.151995</td>\n",
       "      <td>-0.151995</td>\n",
       "      <td>-0.151995</td>\n",
       "      <td>-0.151995</td>\n",
       "      <td>-0.151995</td>\n",
       "      <td>-0.151995</td>\n",
       "      <td>0.0</td>\n",
       "      <td>0.0</td>\n",
       "      <td>0.0</td>\n",
       "      <td>20.550199</td>\n",
       "    </tr>\n",
       "    <tr>\n",
       "      <th>1</th>\n",
       "      <td>2020-02-08</td>\n",
       "      <td>20.401033</td>\n",
       "      <td>7.016058</td>\n",
       "      <td>32.630411</td>\n",
       "      <td>20.401033</td>\n",
       "      <td>20.401033</td>\n",
       "      <td>-0.753577</td>\n",
       "      <td>-0.753577</td>\n",
       "      <td>-0.753577</td>\n",
       "      <td>-0.753577</td>\n",
       "      <td>-0.753577</td>\n",
       "      <td>-0.753577</td>\n",
       "      <td>0.0</td>\n",
       "      <td>0.0</td>\n",
       "      <td>0.0</td>\n",
       "      <td>19.647456</td>\n",
       "    </tr>\n",
       "    <tr>\n",
       "      <th>2</th>\n",
       "      <td>2020-02-09</td>\n",
       "      <td>20.099873</td>\n",
       "      <td>8.691426</td>\n",
       "      <td>32.276346</td>\n",
       "      <td>20.099873</td>\n",
       "      <td>20.099873</td>\n",
       "      <td>0.454282</td>\n",
       "      <td>0.454282</td>\n",
       "      <td>0.454282</td>\n",
       "      <td>0.454282</td>\n",
       "      <td>0.454282</td>\n",
       "      <td>0.454282</td>\n",
       "      <td>0.0</td>\n",
       "      <td>0.0</td>\n",
       "      <td>0.0</td>\n",
       "      <td>20.554155</td>\n",
       "    </tr>\n",
       "    <tr>\n",
       "      <th>3</th>\n",
       "      <td>2020-02-10</td>\n",
       "      <td>19.798712</td>\n",
       "      <td>8.514018</td>\n",
       "      <td>33.196920</td>\n",
       "      <td>19.798712</td>\n",
       "      <td>19.798712</td>\n",
       "      <td>1.265996</td>\n",
       "      <td>1.265996</td>\n",
       "      <td>1.265996</td>\n",
       "      <td>1.265996</td>\n",
       "      <td>1.265996</td>\n",
       "      <td>1.265996</td>\n",
       "      <td>0.0</td>\n",
       "      <td>0.0</td>\n",
       "      <td>0.0</td>\n",
       "      <td>21.064708</td>\n",
       "    </tr>\n",
       "    <tr>\n",
       "      <th>4</th>\n",
       "      <td>2020-02-11</td>\n",
       "      <td>19.497552</td>\n",
       "      <td>7.100862</td>\n",
       "      <td>31.394314</td>\n",
       "      <td>19.497552</td>\n",
       "      <td>19.497552</td>\n",
       "      <td>-0.206922</td>\n",
       "      <td>-0.206922</td>\n",
       "      <td>-0.206922</td>\n",
       "      <td>-0.206922</td>\n",
       "      <td>-0.206922</td>\n",
       "      <td>-0.206922</td>\n",
       "      <td>0.0</td>\n",
       "      <td>0.0</td>\n",
       "      <td>0.0</td>\n",
       "      <td>19.290630</td>\n",
       "    </tr>\n",
       "    <tr>\n",
       "      <th>...</th>\n",
       "      <td>...</td>\n",
       "      <td>...</td>\n",
       "      <td>...</td>\n",
       "      <td>...</td>\n",
       "      <td>...</td>\n",
       "      <td>...</td>\n",
       "      <td>...</td>\n",
       "      <td>...</td>\n",
       "      <td>...</td>\n",
       "      <td>...</td>\n",
       "      <td>...</td>\n",
       "      <td>...</td>\n",
       "      <td>...</td>\n",
       "      <td>...</td>\n",
       "      <td>...</td>\n",
       "      <td>...</td>\n",
       "    </tr>\n",
       "    <tr>\n",
       "      <th>731</th>\n",
       "      <td>2022-02-07</td>\n",
       "      <td>-0.346873</td>\n",
       "      <td>-23.479580</td>\n",
       "      <td>26.458207</td>\n",
       "      <td>-22.144854</td>\n",
       "      <td>22.371729</td>\n",
       "      <td>1.265996</td>\n",
       "      <td>1.265996</td>\n",
       "      <td>1.265996</td>\n",
       "      <td>1.265996</td>\n",
       "      <td>1.265996</td>\n",
       "      <td>1.265996</td>\n",
       "      <td>0.0</td>\n",
       "      <td>0.0</td>\n",
       "      <td>0.0</td>\n",
       "      <td>0.919123</td>\n",
       "    </tr>\n",
       "    <tr>\n",
       "      <th>732</th>\n",
       "      <td>2022-02-08</td>\n",
       "      <td>-0.347309</td>\n",
       "      <td>-25.559463</td>\n",
       "      <td>24.558864</td>\n",
       "      <td>-22.194086</td>\n",
       "      <td>22.489271</td>\n",
       "      <td>-0.206922</td>\n",
       "      <td>-0.206922</td>\n",
       "      <td>-0.206922</td>\n",
       "      <td>-0.206922</td>\n",
       "      <td>-0.206922</td>\n",
       "      <td>-0.206922</td>\n",
       "      <td>0.0</td>\n",
       "      <td>0.0</td>\n",
       "      <td>0.0</td>\n",
       "      <td>-0.554231</td>\n",
       "    </tr>\n",
       "    <tr>\n",
       "      <th>733</th>\n",
       "      <td>2022-02-09</td>\n",
       "      <td>-0.347745</td>\n",
       "      <td>-23.564059</td>\n",
       "      <td>27.344786</td>\n",
       "      <td>-22.257786</td>\n",
       "      <td>22.606813</td>\n",
       "      <td>0.923393</td>\n",
       "      <td>0.923393</td>\n",
       "      <td>0.923393</td>\n",
       "      <td>0.923393</td>\n",
       "      <td>0.923393</td>\n",
       "      <td>0.923393</td>\n",
       "      <td>0.0</td>\n",
       "      <td>0.0</td>\n",
       "      <td>0.0</td>\n",
       "      <td>0.575649</td>\n",
       "    </tr>\n",
       "    <tr>\n",
       "      <th>734</th>\n",
       "      <td>2022-02-10</td>\n",
       "      <td>-0.348180</td>\n",
       "      <td>-25.931580</td>\n",
       "      <td>24.386839</td>\n",
       "      <td>-22.368085</td>\n",
       "      <td>22.720739</td>\n",
       "      <td>-1.531178</td>\n",
       "      <td>-1.531178</td>\n",
       "      <td>-1.531178</td>\n",
       "      <td>-1.531178</td>\n",
       "      <td>-1.531178</td>\n",
       "      <td>-1.531178</td>\n",
       "      <td>0.0</td>\n",
       "      <td>0.0</td>\n",
       "      <td>0.0</td>\n",
       "      <td>-1.879358</td>\n",
       "    </tr>\n",
       "    <tr>\n",
       "      <th>735</th>\n",
       "      <td>2022-02-11</td>\n",
       "      <td>-0.348616</td>\n",
       "      <td>-26.654785</td>\n",
       "      <td>26.462268</td>\n",
       "      <td>-22.474639</td>\n",
       "      <td>22.807131</td>\n",
       "      <td>-0.151995</td>\n",
       "      <td>-0.151995</td>\n",
       "      <td>-0.151995</td>\n",
       "      <td>-0.151995</td>\n",
       "      <td>-0.151995</td>\n",
       "      <td>-0.151995</td>\n",
       "      <td>0.0</td>\n",
       "      <td>0.0</td>\n",
       "      <td>0.0</td>\n",
       "      <td>-0.500610</td>\n",
       "    </tr>\n",
       "  </tbody>\n",
       "</table>\n",
       "<p>736 rows × 16 columns</p>\n",
       "</div>"
      ],
      "text/plain": [
       "            ds      trend  yhat_lower  yhat_upper  trend_lower  trend_upper  \\\n",
       "0   2020-02-07  20.702194    7.938730   32.452464    20.702194    20.702194   \n",
       "1   2020-02-08  20.401033    7.016058   32.630411    20.401033    20.401033   \n",
       "2   2020-02-09  20.099873    8.691426   32.276346    20.099873    20.099873   \n",
       "3   2020-02-10  19.798712    8.514018   33.196920    19.798712    19.798712   \n",
       "4   2020-02-11  19.497552    7.100862   31.394314    19.497552    19.497552   \n",
       "..         ...        ...         ...         ...          ...          ...   \n",
       "731 2022-02-07  -0.346873  -23.479580   26.458207   -22.144854    22.371729   \n",
       "732 2022-02-08  -0.347309  -25.559463   24.558864   -22.194086    22.489271   \n",
       "733 2022-02-09  -0.347745  -23.564059   27.344786   -22.257786    22.606813   \n",
       "734 2022-02-10  -0.348180  -25.931580   24.386839   -22.368085    22.720739   \n",
       "735 2022-02-11  -0.348616  -26.654785   26.462268   -22.474639    22.807131   \n",
       "\n",
       "     additive_terms  additive_terms_lower  additive_terms_upper    weekly  \\\n",
       "0         -0.151995             -0.151995             -0.151995 -0.151995   \n",
       "1         -0.753577             -0.753577             -0.753577 -0.753577   \n",
       "2          0.454282              0.454282              0.454282  0.454282   \n",
       "3          1.265996              1.265996              1.265996  1.265996   \n",
       "4         -0.206922             -0.206922             -0.206922 -0.206922   \n",
       "..              ...                   ...                   ...       ...   \n",
       "731        1.265996              1.265996              1.265996  1.265996   \n",
       "732       -0.206922             -0.206922             -0.206922 -0.206922   \n",
       "733        0.923393              0.923393              0.923393  0.923393   \n",
       "734       -1.531178             -1.531178             -1.531178 -1.531178   \n",
       "735       -0.151995             -0.151995             -0.151995 -0.151995   \n",
       "\n",
       "     weekly_lower  weekly_upper  multiplicative_terms  \\\n",
       "0       -0.151995     -0.151995                   0.0   \n",
       "1       -0.753577     -0.753577                   0.0   \n",
       "2        0.454282      0.454282                   0.0   \n",
       "3        1.265996      1.265996                   0.0   \n",
       "4       -0.206922     -0.206922                   0.0   \n",
       "..            ...           ...                   ...   \n",
       "731      1.265996      1.265996                   0.0   \n",
       "732     -0.206922     -0.206922                   0.0   \n",
       "733      0.923393      0.923393                   0.0   \n",
       "734     -1.531178     -1.531178                   0.0   \n",
       "735     -0.151995     -0.151995                   0.0   \n",
       "\n",
       "     multiplicative_terms_lower  multiplicative_terms_upper       yhat  \n",
       "0                           0.0                         0.0  20.550199  \n",
       "1                           0.0                         0.0  19.647456  \n",
       "2                           0.0                         0.0  20.554155  \n",
       "3                           0.0                         0.0  21.064708  \n",
       "4                           0.0                         0.0  19.290630  \n",
       "..                          ...                         ...        ...  \n",
       "731                         0.0                         0.0   0.919123  \n",
       "732                         0.0                         0.0  -0.554231  \n",
       "733                         0.0                         0.0   0.575649  \n",
       "734                         0.0                         0.0  -1.879358  \n",
       "735                         0.0                         0.0  -0.500610  \n",
       "\n",
       "[736 rows x 16 columns]"
      ]
     },
     "execution_count": 30,
     "metadata": {},
     "output_type": "execute_result"
    }
   ],
   "source": [
    "m.predict(future_Int) #  make a forecast "
   ]
  },
  {
   "cell_type": "code",
   "execution_count": 31,
   "id": "convertible-thing",
   "metadata": {},
   "outputs": [
    {
     "data": {
      "text/html": [
       "<div>\n",
       "<style scoped>\n",
       "    .dataframe tbody tr th:only-of-type {\n",
       "        vertical-align: middle;\n",
       "    }\n",
       "\n",
       "    .dataframe tbody tr th {\n",
       "        vertical-align: top;\n",
       "    }\n",
       "\n",
       "    .dataframe thead th {\n",
       "        text-align: right;\n",
       "    }\n",
       "</style>\n",
       "<table border=\"1\" class=\"dataframe\">\n",
       "  <thead>\n",
       "    <tr style=\"text-align: right;\">\n",
       "      <th></th>\n",
       "      <th>ds</th>\n",
       "      <th>yhat</th>\n",
       "      <th>yhat_lower</th>\n",
       "      <th>yhat_upper</th>\n",
       "    </tr>\n",
       "  </thead>\n",
       "  <tbody>\n",
       "    <tr>\n",
       "      <th>731</th>\n",
       "      <td>2022-02-07</td>\n",
       "      <td>0.919123</td>\n",
       "      <td>-22.883899</td>\n",
       "      <td>26.490046</td>\n",
       "    </tr>\n",
       "    <tr>\n",
       "      <th>732</th>\n",
       "      <td>2022-02-08</td>\n",
       "      <td>-0.554231</td>\n",
       "      <td>-24.312474</td>\n",
       "      <td>24.667110</td>\n",
       "    </tr>\n",
       "    <tr>\n",
       "      <th>733</th>\n",
       "      <td>2022-02-09</td>\n",
       "      <td>0.575649</td>\n",
       "      <td>-23.435149</td>\n",
       "      <td>25.080623</td>\n",
       "    </tr>\n",
       "    <tr>\n",
       "      <th>734</th>\n",
       "      <td>2022-02-10</td>\n",
       "      <td>-1.879358</td>\n",
       "      <td>-25.542010</td>\n",
       "      <td>23.668893</td>\n",
       "    </tr>\n",
       "    <tr>\n",
       "      <th>735</th>\n",
       "      <td>2022-02-11</td>\n",
       "      <td>-0.500610</td>\n",
       "      <td>-24.773364</td>\n",
       "      <td>25.937778</td>\n",
       "    </tr>\n",
       "  </tbody>\n",
       "</table>\n",
       "</div>"
      ],
      "text/plain": [
       "            ds      yhat  yhat_lower  yhat_upper\n",
       "731 2022-02-07  0.919123  -22.883899   26.490046\n",
       "732 2022-02-08 -0.554231  -24.312474   24.667110\n",
       "733 2022-02-09  0.575649  -23.435149   25.080623\n",
       "734 2022-02-10 -1.879358  -25.542010   23.668893\n",
       "735 2022-02-11 -0.500610  -24.773364   25.937778"
      ]
     },
     "execution_count": 31,
     "metadata": {},
     "output_type": "execute_result"
    }
   ],
   "source": [
    "forecast_Int = m.predict(future_Int) #  make a forecast \n",
    "forecast_Int[['ds', 'yhat', 'yhat_lower', 'yhat_upper']].tail() # chosen columns"
   ]
  },
  {
   "cell_type": "markdown",
   "id": "favorite-worst",
   "metadata": {},
   "source": [
    "#### Plot the Forecast for International Data"
   ]
  },
  {
   "cell_type": "code",
   "execution_count": 32,
   "id": "automatic-diagram",
   "metadata": {},
   "outputs": [
    {
     "data": {
      "image/png": "[encoded data removed]",
      "text/plain": [
       "<Figure size 720x432 with 1 Axes>"
      ]
     },
     "metadata": {},
     "output_type": "display_data"
    }
   ],
   "source": [
    "m.plot(forecast_Int); # plot \n",
    "plt.title(\"International Forcast\", fontsize=16) # set title\n",
    "plt.ylabel('Y', fontsize=18) #set y axis name and size\n",
    "plt.xlabel('ds', fontsize=18);#set x axis name and size"
   ]
  },
  {
   "cell_type": "markdown",
   "id": "dressed-traffic",
   "metadata": {},
   "source": [
    " - Black dots: actual values\n",
    " - Blue lines: upper, actual (dark blue), lower windows for yhat\n",
    " - Blue blob: prediction window (yhat window)"
   ]
  },
  {
   "cell_type": "markdown",
   "id": "hungry-motor",
   "metadata": {},
   "source": [
    "### Plot Components of International Forcast (Trend,Weekly)"
   ]
  },
  {
   "cell_type": "code",
   "execution_count": 33,
   "id": "relative-weight",
   "metadata": {},
   "outputs": [
    {
     "data": {
      "image/png": "[encoded data removed]",
      "text/plain": [
       "<Figure size 648x432 with 2 Axes>"
      ]
     },
     "metadata": {},
     "output_type": "display_data"
    }
   ],
   "source": [
    "m.plot_components(forecast_Int);#plot"
   ]
  },
  {
   "cell_type": "markdown",
   "id": "logical-zealand",
   "metadata": {},
   "source": [
    "#### World Prophet Model"
   ]
  },
  {
   "cell_type": "code",
   "execution_count": 34,
   "id": "worst-africa",
   "metadata": {},
   "outputs": [
    {
     "name": "stderr",
     "output_type": "stream",
     "text": [
      "INFO:fbprophet:Disabling yearly seasonality. Run prophet with yearly_seasonality=True to override this.\n",
      "INFO:fbprophet:Disabling daily seasonality. Run prophet with daily_seasonality=True to override this.\n"
     ]
    },
    {
     "data": {
      "text/plain": [
       "<fbprophet.forecaster.Prophet at 0x19bc0283d00>"
      ]
     },
     "execution_count": 34,
     "metadata": {},
     "output_type": "execute_result"
    }
   ],
   "source": [
    "m1 = Prophet() # set up model \n",
    "m1.fit(world) # fit model"
   ]
  },
  {
   "cell_type": "code",
   "execution_count": 35,
   "id": "waiting-breath",
   "metadata": {},
   "outputs": [],
   "source": [
    "future_W = m.make_future_dataframe(periods=365)\n",
    "#make a dataframe to hold your future value predictions"
   ]
  },
  {
   "cell_type": "code",
   "execution_count": 36,
   "id": "powered-better",
   "metadata": {},
   "outputs": [
    {
     "data": {
      "text/html": [
       "<div>\n",
       "<style scoped>\n",
       "    .dataframe tbody tr th:only-of-type {\n",
       "        vertical-align: middle;\n",
       "    }\n",
       "\n",
       "    .dataframe tbody tr th {\n",
       "        vertical-align: top;\n",
       "    }\n",
       "\n",
       "    .dataframe thead th {\n",
       "        text-align: right;\n",
       "    }\n",
       "</style>\n",
       "<table border=\"1\" class=\"dataframe\">\n",
       "  <thead>\n",
       "    <tr style=\"text-align: right;\">\n",
       "      <th></th>\n",
       "      <th>ds</th>\n",
       "    </tr>\n",
       "  </thead>\n",
       "  <tbody>\n",
       "    <tr>\n",
       "      <th>731</th>\n",
       "      <td>2022-02-07</td>\n",
       "    </tr>\n",
       "    <tr>\n",
       "      <th>732</th>\n",
       "      <td>2022-02-08</td>\n",
       "    </tr>\n",
       "    <tr>\n",
       "      <th>733</th>\n",
       "      <td>2022-02-09</td>\n",
       "    </tr>\n",
       "    <tr>\n",
       "      <th>734</th>\n",
       "      <td>2022-02-10</td>\n",
       "    </tr>\n",
       "    <tr>\n",
       "      <th>735</th>\n",
       "      <td>2022-02-11</td>\n",
       "    </tr>\n",
       "  </tbody>\n",
       "</table>\n",
       "</div>"
      ],
      "text/plain": [
       "            ds\n",
       "731 2022-02-07\n",
       "732 2022-02-08\n",
       "733 2022-02-09\n",
       "734 2022-02-10\n",
       "735 2022-02-11"
      ]
     },
     "execution_count": 36,
     "metadata": {},
     "output_type": "execute_result"
    }
   ],
   "source": [
    "future_W.tail() # see the data"
   ]
  },
  {
   "cell_type": "code",
   "execution_count": 37,
   "id": "literary-fifty",
   "metadata": {},
   "outputs": [
    {
     "data": {
      "text/html": [
       "<div>\n",
       "<style scoped>\n",
       "    .dataframe tbody tr th:only-of-type {\n",
       "        vertical-align: middle;\n",
       "    }\n",
       "\n",
       "    .dataframe tbody tr th {\n",
       "        vertical-align: top;\n",
       "    }\n",
       "\n",
       "    .dataframe thead th {\n",
       "        text-align: right;\n",
       "    }\n",
       "</style>\n",
       "<table border=\"1\" class=\"dataframe\">\n",
       "  <thead>\n",
       "    <tr style=\"text-align: right;\">\n",
       "      <th></th>\n",
       "      <th>ds</th>\n",
       "      <th>trend</th>\n",
       "      <th>yhat_lower</th>\n",
       "      <th>yhat_upper</th>\n",
       "      <th>trend_lower</th>\n",
       "      <th>trend_upper</th>\n",
       "      <th>additive_terms</th>\n",
       "      <th>additive_terms_lower</th>\n",
       "      <th>additive_terms_upper</th>\n",
       "      <th>weekly</th>\n",
       "      <th>weekly_lower</th>\n",
       "      <th>weekly_upper</th>\n",
       "      <th>multiplicative_terms</th>\n",
       "      <th>multiplicative_terms_lower</th>\n",
       "      <th>multiplicative_terms_upper</th>\n",
       "      <th>yhat</th>\n",
       "    </tr>\n",
       "  </thead>\n",
       "  <tbody>\n",
       "    <tr>\n",
       "      <th>0</th>\n",
       "      <td>2020-02-07</td>\n",
       "      <td>-10608.346258</td>\n",
       "      <td>-48379.780896</td>\n",
       "      <td>8.354813e+04</td>\n",
       "      <td>-10608.346258</td>\n",
       "      <td>-1.060835e+04</td>\n",
       "      <td>27655.449735</td>\n",
       "      <td>27655.449735</td>\n",
       "      <td>27655.449735</td>\n",
       "      <td>27655.449735</td>\n",
       "      <td>27655.449735</td>\n",
       "      <td>27655.449735</td>\n",
       "      <td>0.0</td>\n",
       "      <td>0.0</td>\n",
       "      <td>0.0</td>\n",
       "      <td>17047.103477</td>\n",
       "    </tr>\n",
       "    <tr>\n",
       "      <th>1</th>\n",
       "      <td>2020-02-08</td>\n",
       "      <td>-9411.974851</td>\n",
       "      <td>-76992.813629</td>\n",
       "      <td>5.605230e+04</td>\n",
       "      <td>-9411.974851</td>\n",
       "      <td>-9.411975e+03</td>\n",
       "      <td>-1318.119703</td>\n",
       "      <td>-1318.119703</td>\n",
       "      <td>-1318.119703</td>\n",
       "      <td>-1318.119703</td>\n",
       "      <td>-1318.119703</td>\n",
       "      <td>-1318.119703</td>\n",
       "      <td>0.0</td>\n",
       "      <td>0.0</td>\n",
       "      <td>0.0</td>\n",
       "      <td>-10730.094554</td>\n",
       "    </tr>\n",
       "    <tr>\n",
       "      <th>2</th>\n",
       "      <td>2020-02-09</td>\n",
       "      <td>-8215.603445</td>\n",
       "      <td>-120985.667085</td>\n",
       "      <td>2.017050e+04</td>\n",
       "      <td>-8215.603445</td>\n",
       "      <td>-8.215603e+03</td>\n",
       "      <td>-42280.738107</td>\n",
       "      <td>-42280.738107</td>\n",
       "      <td>-42280.738107</td>\n",
       "      <td>-42280.738107</td>\n",
       "      <td>-42280.738107</td>\n",
       "      <td>-42280.738107</td>\n",
       "      <td>0.0</td>\n",
       "      <td>0.0</td>\n",
       "      <td>0.0</td>\n",
       "      <td>-50496.341552</td>\n",
       "    </tr>\n",
       "    <tr>\n",
       "      <th>3</th>\n",
       "      <td>2020-02-10</td>\n",
       "      <td>-7019.232038</td>\n",
       "      <td>-102952.578716</td>\n",
       "      <td>3.072996e+04</td>\n",
       "      <td>-7019.232038</td>\n",
       "      <td>-7.019232e+03</td>\n",
       "      <td>-33592.304953</td>\n",
       "      <td>-33592.304953</td>\n",
       "      <td>-33592.304953</td>\n",
       "      <td>-33592.304953</td>\n",
       "      <td>-33592.304953</td>\n",
       "      <td>-33592.304953</td>\n",
       "      <td>0.0</td>\n",
       "      <td>0.0</td>\n",
       "      <td>0.0</td>\n",
       "      <td>-40611.536992</td>\n",
       "    </tr>\n",
       "    <tr>\n",
       "      <th>4</th>\n",
       "      <td>2020-02-11</td>\n",
       "      <td>-5822.860632</td>\n",
       "      <td>-74065.917411</td>\n",
       "      <td>6.101900e+04</td>\n",
       "      <td>-5822.860632</td>\n",
       "      <td>-5.822861e+03</td>\n",
       "      <td>-532.618487</td>\n",
       "      <td>-532.618487</td>\n",
       "      <td>-532.618487</td>\n",
       "      <td>-532.618487</td>\n",
       "      <td>-532.618487</td>\n",
       "      <td>-532.618487</td>\n",
       "      <td>0.0</td>\n",
       "      <td>0.0</td>\n",
       "      <td>0.0</td>\n",
       "      <td>-6355.479119</td>\n",
       "    </tr>\n",
       "    <tr>\n",
       "      <th>...</th>\n",
       "      <td>...</td>\n",
       "      <td>...</td>\n",
       "      <td>...</td>\n",
       "      <td>...</td>\n",
       "      <td>...</td>\n",
       "      <td>...</td>\n",
       "      <td>...</td>\n",
       "      <td>...</td>\n",
       "      <td>...</td>\n",
       "      <td>...</td>\n",
       "      <td>...</td>\n",
       "      <td>...</td>\n",
       "      <td>...</td>\n",
       "      <td>...</td>\n",
       "      <td>...</td>\n",
       "      <td>...</td>\n",
       "    </tr>\n",
       "    <tr>\n",
       "      <th>731</th>\n",
       "      <td>2022-02-07</td>\n",
       "      <td>438946.725143</td>\n",
       "      <td>-200276.413021</td>\n",
       "      <td>1.006779e+06</td>\n",
       "      <td>-159172.441001</td>\n",
       "      <td>1.033471e+06</td>\n",
       "      <td>-33592.304953</td>\n",
       "      <td>-33592.304953</td>\n",
       "      <td>-33592.304953</td>\n",
       "      <td>-33592.304953</td>\n",
       "      <td>-33592.304953</td>\n",
       "      <td>-33592.304953</td>\n",
       "      <td>0.0</td>\n",
       "      <td>0.0</td>\n",
       "      <td>0.0</td>\n",
       "      <td>405354.420189</td>\n",
       "    </tr>\n",
       "    <tr>\n",
       "      <th>732</th>\n",
       "      <td>2022-02-08</td>\n",
       "      <td>438579.915066</td>\n",
       "      <td>-176677.292723</td>\n",
       "      <td>1.058742e+06</td>\n",
       "      <td>-161669.110836</td>\n",
       "      <td>1.034954e+06</td>\n",
       "      <td>-532.618487</td>\n",
       "      <td>-532.618487</td>\n",
       "      <td>-532.618487</td>\n",
       "      <td>-532.618487</td>\n",
       "      <td>-532.618487</td>\n",
       "      <td>-532.618487</td>\n",
       "      <td>0.0</td>\n",
       "      <td>0.0</td>\n",
       "      <td>0.0</td>\n",
       "      <td>438047.296580</td>\n",
       "    </tr>\n",
       "    <tr>\n",
       "      <th>733</th>\n",
       "      <td>2022-02-09</td>\n",
       "      <td>438213.104990</td>\n",
       "      <td>-131798.520668</td>\n",
       "      <td>1.076460e+06</td>\n",
       "      <td>-165367.613423</td>\n",
       "      <td>1.036398e+06</td>\n",
       "      <td>23034.541194</td>\n",
       "      <td>23034.541194</td>\n",
       "      <td>23034.541194</td>\n",
       "      <td>23034.541194</td>\n",
       "      <td>23034.541194</td>\n",
       "      <td>23034.541194</td>\n",
       "      <td>0.0</td>\n",
       "      <td>0.0</td>\n",
       "      <td>0.0</td>\n",
       "      <td>461247.646184</td>\n",
       "    </tr>\n",
       "    <tr>\n",
       "      <th>734</th>\n",
       "      <td>2022-02-10</td>\n",
       "      <td>437846.294914</td>\n",
       "      <td>-135074.256680</td>\n",
       "      <td>1.090890e+06</td>\n",
       "      <td>-167180.688454</td>\n",
       "      <td>1.038034e+06</td>\n",
       "      <td>27033.790321</td>\n",
       "      <td>27033.790321</td>\n",
       "      <td>27033.790321</td>\n",
       "      <td>27033.790321</td>\n",
       "      <td>27033.790321</td>\n",
       "      <td>27033.790321</td>\n",
       "      <td>0.0</td>\n",
       "      <td>0.0</td>\n",
       "      <td>0.0</td>\n",
       "      <td>464880.085235</td>\n",
       "    </tr>\n",
       "    <tr>\n",
       "      <th>735</th>\n",
       "      <td>2022-02-11</td>\n",
       "      <td>437479.484837</td>\n",
       "      <td>-142894.702376</td>\n",
       "      <td>1.094027e+06</td>\n",
       "      <td>-170477.940647</td>\n",
       "      <td>1.039669e+06</td>\n",
       "      <td>27655.449735</td>\n",
       "      <td>27655.449735</td>\n",
       "      <td>27655.449735</td>\n",
       "      <td>27655.449735</td>\n",
       "      <td>27655.449735</td>\n",
       "      <td>27655.449735</td>\n",
       "      <td>0.0</td>\n",
       "      <td>0.0</td>\n",
       "      <td>0.0</td>\n",
       "      <td>465134.934572</td>\n",
       "    </tr>\n",
       "  </tbody>\n",
       "</table>\n",
       "<p>736 rows × 16 columns</p>\n",
       "</div>"
      ],
      "text/plain": [
       "            ds          trend     yhat_lower    yhat_upper    trend_lower  \\\n",
       "0   2020-02-07  -10608.346258  -48379.780896  8.354813e+04  -10608.346258   \n",
       "1   2020-02-08   -9411.974851  -76992.813629  5.605230e+04   -9411.974851   \n",
       "2   2020-02-09   -8215.603445 -120985.667085  2.017050e+04   -8215.603445   \n",
       "3   2020-02-10   -7019.232038 -102952.578716  3.072996e+04   -7019.232038   \n",
       "4   2020-02-11   -5822.860632  -74065.917411  6.101900e+04   -5822.860632   \n",
       "..         ...            ...            ...           ...            ...   \n",
       "731 2022-02-07  438946.725143 -200276.413021  1.006779e+06 -159172.441001   \n",
       "732 2022-02-08  438579.915066 -176677.292723  1.058742e+06 -161669.110836   \n",
       "733 2022-02-09  438213.104990 -131798.520668  1.076460e+06 -165367.613423   \n",
       "734 2022-02-10  437846.294914 -135074.256680  1.090890e+06 -167180.688454   \n",
       "735 2022-02-11  437479.484837 -142894.702376  1.094027e+06 -170477.940647   \n",
       "\n",
       "      trend_upper  additive_terms  additive_terms_lower  additive_terms_upper  \\\n",
       "0   -1.060835e+04    27655.449735          27655.449735          27655.449735   \n",
       "1   -9.411975e+03    -1318.119703          -1318.119703          -1318.119703   \n",
       "2   -8.215603e+03   -42280.738107         -42280.738107         -42280.738107   \n",
       "3   -7.019232e+03   -33592.304953         -33592.304953         -33592.304953   \n",
       "4   -5.822861e+03     -532.618487           -532.618487           -532.618487   \n",
       "..            ...             ...                   ...                   ...   \n",
       "731  1.033471e+06   -33592.304953         -33592.304953         -33592.304953   \n",
       "732  1.034954e+06     -532.618487           -532.618487           -532.618487   \n",
       "733  1.036398e+06    23034.541194          23034.541194          23034.541194   \n",
       "734  1.038034e+06    27033.790321          27033.790321          27033.790321   \n",
       "735  1.039669e+06    27655.449735          27655.449735          27655.449735   \n",
       "\n",
       "           weekly  weekly_lower  weekly_upper  multiplicative_terms  \\\n",
       "0    27655.449735  27655.449735  27655.449735                   0.0   \n",
       "1    -1318.119703  -1318.119703  -1318.119703                   0.0   \n",
       "2   -42280.738107 -42280.738107 -42280.738107                   0.0   \n",
       "3   -33592.304953 -33592.304953 -33592.304953                   0.0   \n",
       "4     -532.618487   -532.618487   -532.618487                   0.0   \n",
       "..            ...           ...           ...                   ...   \n",
       "731 -33592.304953 -33592.304953 -33592.304953                   0.0   \n",
       "732   -532.618487   -532.618487   -532.618487                   0.0   \n",
       "733  23034.541194  23034.541194  23034.541194                   0.0   \n",
       "734  27033.790321  27033.790321  27033.790321                   0.0   \n",
       "735  27655.449735  27655.449735  27655.449735                   0.0   \n",
       "\n",
       "     multiplicative_terms_lower  multiplicative_terms_upper           yhat  \n",
       "0                           0.0                         0.0   17047.103477  \n",
       "1                           0.0                         0.0  -10730.094554  \n",
       "2                           0.0                         0.0  -50496.341552  \n",
       "3                           0.0                         0.0  -40611.536992  \n",
       "4                           0.0                         0.0   -6355.479119  \n",
       "..                          ...                         ...            ...  \n",
       "731                         0.0                         0.0  405354.420189  \n",
       "732                         0.0                         0.0  438047.296580  \n",
       "733                         0.0                         0.0  461247.646184  \n",
       "734                         0.0                         0.0  464880.085235  \n",
       "735                         0.0                         0.0  465134.934572  \n",
       "\n",
       "[736 rows x 16 columns]"
      ]
     },
     "execution_count": 37,
     "metadata": {},
     "output_type": "execute_result"
    }
   ],
   "source": [
    "m1.predict(future_W) #  make a forecast "
   ]
  },
  {
   "cell_type": "code",
   "execution_count": 38,
   "id": "respective-salmon",
   "metadata": {},
   "outputs": [
    {
     "data": {
      "text/html": [
       "<div>\n",
       "<style scoped>\n",
       "    .dataframe tbody tr th:only-of-type {\n",
       "        vertical-align: middle;\n",
       "    }\n",
       "\n",
       "    .dataframe tbody tr th {\n",
       "        vertical-align: top;\n",
       "    }\n",
       "\n",
       "    .dataframe thead th {\n",
       "        text-align: right;\n",
       "    }\n",
       "</style>\n",
       "<table border=\"1\" class=\"dataframe\">\n",
       "  <thead>\n",
       "    <tr style=\"text-align: right;\">\n",
       "      <th></th>\n",
       "      <th>ds</th>\n",
       "      <th>yhat</th>\n",
       "      <th>yhat_lower</th>\n",
       "      <th>yhat_upper</th>\n",
       "    </tr>\n",
       "  </thead>\n",
       "  <tbody>\n",
       "    <tr>\n",
       "      <th>731</th>\n",
       "      <td>2022-02-07</td>\n",
       "      <td>405354.420189</td>\n",
       "      <td>-182633.718129</td>\n",
       "      <td>1.055469e+06</td>\n",
       "    </tr>\n",
       "    <tr>\n",
       "      <th>732</th>\n",
       "      <td>2022-02-08</td>\n",
       "      <td>438047.296580</td>\n",
       "      <td>-147872.614339</td>\n",
       "      <td>1.086339e+06</td>\n",
       "    </tr>\n",
       "    <tr>\n",
       "      <th>733</th>\n",
       "      <td>2022-02-09</td>\n",
       "      <td>461247.646184</td>\n",
       "      <td>-124888.796824</td>\n",
       "      <td>1.117533e+06</td>\n",
       "    </tr>\n",
       "    <tr>\n",
       "      <th>734</th>\n",
       "      <td>2022-02-10</td>\n",
       "      <td>464880.085235</td>\n",
       "      <td>-146811.884025</td>\n",
       "      <td>1.128343e+06</td>\n",
       "    </tr>\n",
       "    <tr>\n",
       "      <th>735</th>\n",
       "      <td>2022-02-11</td>\n",
       "      <td>465134.934572</td>\n",
       "      <td>-123652.623173</td>\n",
       "      <td>1.138391e+06</td>\n",
       "    </tr>\n",
       "  </tbody>\n",
       "</table>\n",
       "</div>"
      ],
      "text/plain": [
       "            ds           yhat     yhat_lower    yhat_upper\n",
       "731 2022-02-07  405354.420189 -182633.718129  1.055469e+06\n",
       "732 2022-02-08  438047.296580 -147872.614339  1.086339e+06\n",
       "733 2022-02-09  461247.646184 -124888.796824  1.117533e+06\n",
       "734 2022-02-10  464880.085235 -146811.884025  1.128343e+06\n",
       "735 2022-02-11  465134.934572 -123652.623173  1.138391e+06"
      ]
     },
     "execution_count": 38,
     "metadata": {},
     "output_type": "execute_result"
    }
   ],
   "source": [
    "forecast_W = m1.predict(future_Int) #  make a forecast \n",
    "forecast_W[['ds', 'yhat', 'yhat_lower', 'yhat_upper']].tail() # chosen columns"
   ]
  },
  {
   "cell_type": "markdown",
   "id": "sublime-chorus",
   "metadata": {},
   "source": [
    "#### Plot the Forecast for World Data"
   ]
  },
  {
   "cell_type": "code",
   "execution_count": 39,
   "id": "boxed-personal",
   "metadata": {},
   "outputs": [
    {
     "data": {
      "image/png": "[encoded data removed]",
      "text/plain": [
       "<Figure size 720x432 with 1 Axes>"
      ]
     },
     "metadata": {},
     "output_type": "display_data"
    }
   ],
   "source": [
    "m1.plot(forecast_W); #plot\n",
    "plt.title(\"World Forcast\", fontsize=16) # set title\n",
    "plt.ylabel('Y', fontsize=18) #set y axis name and size\n",
    "plt.xlabel('ds', fontsize=18);#set x axis name and size"
   ]
  },
  {
   "cell_type": "markdown",
   "id": "level-working",
   "metadata": {},
   "source": [
    " - Black dots: actual values\n",
    " - Blue lines: upper, actual (dark blue), lower windows for yhat\n",
    " - Blue blob: prediction window (yhat window)"
   ]
  },
  {
   "cell_type": "markdown",
   "id": "serial-resource",
   "metadata": {},
   "source": [
    "### Plot Components of IWorld Forcast (Trend,Weekly)\n"
   ]
  },
  {
   "cell_type": "code",
   "execution_count": 40,
   "id": "atomic-india",
   "metadata": {},
   "outputs": [
    {
     "data": {
      "image/png": "[encoded data removed]",
      "text/plain": [
       "<Figure size 648x432 with 2 Axes>"
      ]
     },
     "metadata": {},
     "output_type": "display_data"
    }
   ],
   "source": [
    "m1.plot_components(forecast_W); #plot"
   ]
  },
  {
   "cell_type": "markdown",
   "id": "finnish-amateur",
   "metadata": {},
   "source": [
    "#### Saudi Prophet Model"
   ]
  },
  {
   "cell_type": "code",
   "execution_count": 41,
   "id": "opened-association",
   "metadata": {},
   "outputs": [
    {
     "name": "stderr",
     "output_type": "stream",
     "text": [
      "INFO:fbprophet:Disabling yearly seasonality. Run prophet with yearly_seasonality=True to override this.\n",
      "INFO:fbprophet:Disabling daily seasonality. Run prophet with daily_seasonality=True to override this.\n"
     ]
    },
    {
     "data": {
      "text/plain": [
       "<fbprophet.forecaster.Prophet at 0x19bc4154dc0>"
      ]
     },
     "execution_count": 41,
     "metadata": {},
     "output_type": "execute_result"
    }
   ],
   "source": [
    "m2 = Prophet() #set up model\n",
    "m2.fit(Saudi) # fit model"
   ]
  },
  {
   "cell_type": "code",
   "execution_count": 42,
   "id": "convinced-hollywood",
   "metadata": {},
   "outputs": [],
   "source": [
    "future_S = m2.make_future_dataframe(periods=365)\n",
    "#make a dataframe to hold your future value predictions"
   ]
  },
  {
   "cell_type": "code",
   "execution_count": 43,
   "id": "complex-fault",
   "metadata": {},
   "outputs": [
    {
     "data": {
      "text/html": [
       "<div>\n",
       "<style scoped>\n",
       "    .dataframe tbody tr th:only-of-type {\n",
       "        vertical-align: middle;\n",
       "    }\n",
       "\n",
       "    .dataframe tbody tr th {\n",
       "        vertical-align: top;\n",
       "    }\n",
       "\n",
       "    .dataframe thead th {\n",
       "        text-align: right;\n",
       "    }\n",
       "</style>\n",
       "<table border=\"1\" class=\"dataframe\">\n",
       "  <thead>\n",
       "    <tr style=\"text-align: right;\">\n",
       "      <th></th>\n",
       "      <th>ds</th>\n",
       "    </tr>\n",
       "  </thead>\n",
       "  <tbody>\n",
       "    <tr>\n",
       "      <th>707</th>\n",
       "      <td>2022-02-07</td>\n",
       "    </tr>\n",
       "    <tr>\n",
       "      <th>708</th>\n",
       "      <td>2022-02-08</td>\n",
       "    </tr>\n",
       "    <tr>\n",
       "      <th>709</th>\n",
       "      <td>2022-02-09</td>\n",
       "    </tr>\n",
       "    <tr>\n",
       "      <th>710</th>\n",
       "      <td>2022-02-10</td>\n",
       "    </tr>\n",
       "    <tr>\n",
       "      <th>711</th>\n",
       "      <td>2022-02-11</td>\n",
       "    </tr>\n",
       "  </tbody>\n",
       "</table>\n",
       "</div>"
      ],
      "text/plain": [
       "            ds\n",
       "707 2022-02-07\n",
       "708 2022-02-08\n",
       "709 2022-02-09\n",
       "710 2022-02-10\n",
       "711 2022-02-11"
      ]
     },
     "execution_count": 43,
     "metadata": {},
     "output_type": "execute_result"
    }
   ],
   "source": [
    "future_S.tail() # see the data"
   ]
  },
  {
   "cell_type": "code",
   "execution_count": 44,
   "id": "varying-power",
   "metadata": {},
   "outputs": [
    {
     "data": {
      "text/html": [
       "<div>\n",
       "<style scoped>\n",
       "    .dataframe tbody tr th:only-of-type {\n",
       "        vertical-align: middle;\n",
       "    }\n",
       "\n",
       "    .dataframe tbody tr th {\n",
       "        vertical-align: top;\n",
       "    }\n",
       "\n",
       "    .dataframe thead th {\n",
       "        text-align: right;\n",
       "    }\n",
       "</style>\n",
       "<table border=\"1\" class=\"dataframe\">\n",
       "  <thead>\n",
       "    <tr style=\"text-align: right;\">\n",
       "      <th></th>\n",
       "      <th>ds</th>\n",
       "      <th>trend</th>\n",
       "      <th>yhat_lower</th>\n",
       "      <th>yhat_upper</th>\n",
       "      <th>trend_lower</th>\n",
       "      <th>trend_upper</th>\n",
       "      <th>additive_terms</th>\n",
       "      <th>additive_terms_lower</th>\n",
       "      <th>additive_terms_upper</th>\n",
       "      <th>weekly</th>\n",
       "      <th>weekly_lower</th>\n",
       "      <th>weekly_upper</th>\n",
       "      <th>multiplicative_terms</th>\n",
       "      <th>multiplicative_terms_lower</th>\n",
       "      <th>multiplicative_terms_upper</th>\n",
       "      <th>yhat</th>\n",
       "    </tr>\n",
       "  </thead>\n",
       "  <tbody>\n",
       "    <tr>\n",
       "      <th>0</th>\n",
       "      <td>2020-03-02</td>\n",
       "      <td>-601.387581</td>\n",
       "      <td>-1016.613588</td>\n",
       "      <td>-184.356711</td>\n",
       "      <td>-601.387581</td>\n",
       "      <td>-601.387581</td>\n",
       "      <td>13.842536</td>\n",
       "      <td>13.842536</td>\n",
       "      <td>13.842536</td>\n",
       "      <td>13.842536</td>\n",
       "      <td>13.842536</td>\n",
       "      <td>13.842536</td>\n",
       "      <td>0.0</td>\n",
       "      <td>0.0</td>\n",
       "      <td>0.0</td>\n",
       "      <td>-587.545045</td>\n",
       "    </tr>\n",
       "    <tr>\n",
       "      <th>1</th>\n",
       "      <td>2020-03-03</td>\n",
       "      <td>-566.190579</td>\n",
       "      <td>-985.770935</td>\n",
       "      <td>-151.204006</td>\n",
       "      <td>-566.190579</td>\n",
       "      <td>-566.190579</td>\n",
       "      <td>5.174496</td>\n",
       "      <td>5.174496</td>\n",
       "      <td>5.174496</td>\n",
       "      <td>5.174496</td>\n",
       "      <td>5.174496</td>\n",
       "      <td>5.174496</td>\n",
       "      <td>0.0</td>\n",
       "      <td>0.0</td>\n",
       "      <td>0.0</td>\n",
       "      <td>-561.016083</td>\n",
       "    </tr>\n",
       "    <tr>\n",
       "      <th>2</th>\n",
       "      <td>2020-03-04</td>\n",
       "      <td>-530.993577</td>\n",
       "      <td>-965.306174</td>\n",
       "      <td>-135.531100</td>\n",
       "      <td>-530.993577</td>\n",
       "      <td>-530.993577</td>\n",
       "      <td>-6.954218</td>\n",
       "      <td>-6.954218</td>\n",
       "      <td>-6.954218</td>\n",
       "      <td>-6.954218</td>\n",
       "      <td>-6.954218</td>\n",
       "      <td>-6.954218</td>\n",
       "      <td>0.0</td>\n",
       "      <td>0.0</td>\n",
       "      <td>0.0</td>\n",
       "      <td>-537.947795</td>\n",
       "    </tr>\n",
       "    <tr>\n",
       "      <th>3</th>\n",
       "      <td>2020-03-05</td>\n",
       "      <td>-495.796575</td>\n",
       "      <td>-941.345276</td>\n",
       "      <td>-61.028915</td>\n",
       "      <td>-495.796575</td>\n",
       "      <td>-495.796575</td>\n",
       "      <td>-11.347144</td>\n",
       "      <td>-11.347144</td>\n",
       "      <td>-11.347144</td>\n",
       "      <td>-11.347144</td>\n",
       "      <td>-11.347144</td>\n",
       "      <td>-11.347144</td>\n",
       "      <td>0.0</td>\n",
       "      <td>0.0</td>\n",
       "      <td>0.0</td>\n",
       "      <td>-507.143719</td>\n",
       "    </tr>\n",
       "    <tr>\n",
       "      <th>4</th>\n",
       "      <td>2020-03-06</td>\n",
       "      <td>-460.599574</td>\n",
       "      <td>-883.382068</td>\n",
       "      <td>0.032491</td>\n",
       "      <td>-460.599574</td>\n",
       "      <td>-460.599574</td>\n",
       "      <td>23.823963</td>\n",
       "      <td>23.823963</td>\n",
       "      <td>23.823963</td>\n",
       "      <td>23.823963</td>\n",
       "      <td>23.823963</td>\n",
       "      <td>23.823963</td>\n",
       "      <td>0.0</td>\n",
       "      <td>0.0</td>\n",
       "      <td>0.0</td>\n",
       "      <td>-436.775611</td>\n",
       "    </tr>\n",
       "    <tr>\n",
       "      <th>...</th>\n",
       "      <td>...</td>\n",
       "      <td>...</td>\n",
       "      <td>...</td>\n",
       "      <td>...</td>\n",
       "      <td>...</td>\n",
       "      <td>...</td>\n",
       "      <td>...</td>\n",
       "      <td>...</td>\n",
       "      <td>...</td>\n",
       "      <td>...</td>\n",
       "      <td>...</td>\n",
       "      <td>...</td>\n",
       "      <td>...</td>\n",
       "      <td>...</td>\n",
       "      <td>...</td>\n",
       "      <td>...</td>\n",
       "    </tr>\n",
       "    <tr>\n",
       "      <th>707</th>\n",
       "      <td>2022-02-07</td>\n",
       "      <td>-895.591197</td>\n",
       "      <td>-9450.190844</td>\n",
       "      <td>7441.811636</td>\n",
       "      <td>-9516.544871</td>\n",
       "      <td>7226.649282</td>\n",
       "      <td>13.842536</td>\n",
       "      <td>13.842536</td>\n",
       "      <td>13.842536</td>\n",
       "      <td>13.842536</td>\n",
       "      <td>13.842536</td>\n",
       "      <td>13.842536</td>\n",
       "      <td>0.0</td>\n",
       "      <td>0.0</td>\n",
       "      <td>0.0</td>\n",
       "      <td>-881.748661</td>\n",
       "    </tr>\n",
       "    <tr>\n",
       "      <th>708</th>\n",
       "      <td>2022-02-08</td>\n",
       "      <td>-898.329124</td>\n",
       "      <td>-9461.807033</td>\n",
       "      <td>7342.142319</td>\n",
       "      <td>-9551.429303</td>\n",
       "      <td>7266.184561</td>\n",
       "      <td>5.174496</td>\n",
       "      <td>5.174496</td>\n",
       "      <td>5.174496</td>\n",
       "      <td>5.174496</td>\n",
       "      <td>5.174496</td>\n",
       "      <td>5.174496</td>\n",
       "      <td>0.0</td>\n",
       "      <td>0.0</td>\n",
       "      <td>0.0</td>\n",
       "      <td>-893.154628</td>\n",
       "    </tr>\n",
       "    <tr>\n",
       "      <th>709</th>\n",
       "      <td>2022-02-09</td>\n",
       "      <td>-901.067050</td>\n",
       "      <td>-9748.510904</td>\n",
       "      <td>7352.146599</td>\n",
       "      <td>-9614.148515</td>\n",
       "      <td>7313.583804</td>\n",
       "      <td>-6.954218</td>\n",
       "      <td>-6.954218</td>\n",
       "      <td>-6.954218</td>\n",
       "      <td>-6.954218</td>\n",
       "      <td>-6.954218</td>\n",
       "      <td>-6.954218</td>\n",
       "      <td>0.0</td>\n",
       "      <td>0.0</td>\n",
       "      <td>0.0</td>\n",
       "      <td>-908.021269</td>\n",
       "    </tr>\n",
       "    <tr>\n",
       "      <th>710</th>\n",
       "      <td>2022-02-10</td>\n",
       "      <td>-903.804977</td>\n",
       "      <td>-9546.259859</td>\n",
       "      <td>7344.340877</td>\n",
       "      <td>-9673.777055</td>\n",
       "      <td>7360.983046</td>\n",
       "      <td>-11.347144</td>\n",
       "      <td>-11.347144</td>\n",
       "      <td>-11.347144</td>\n",
       "      <td>-11.347144</td>\n",
       "      <td>-11.347144</td>\n",
       "      <td>-11.347144</td>\n",
       "      <td>0.0</td>\n",
       "      <td>0.0</td>\n",
       "      <td>0.0</td>\n",
       "      <td>-915.152121</td>\n",
       "    </tr>\n",
       "    <tr>\n",
       "      <th>711</th>\n",
       "      <td>2022-02-11</td>\n",
       "      <td>-906.542903</td>\n",
       "      <td>-9720.540412</td>\n",
       "      <td>7355.428444</td>\n",
       "      <td>-9715.018740</td>\n",
       "      <td>7387.569479</td>\n",
       "      <td>23.823963</td>\n",
       "      <td>23.823963</td>\n",
       "      <td>23.823963</td>\n",
       "      <td>23.823963</td>\n",
       "      <td>23.823963</td>\n",
       "      <td>23.823963</td>\n",
       "      <td>0.0</td>\n",
       "      <td>0.0</td>\n",
       "      <td>0.0</td>\n",
       "      <td>-882.718941</td>\n",
       "    </tr>\n",
       "  </tbody>\n",
       "</table>\n",
       "<p>712 rows × 16 columns</p>\n",
       "</div>"
      ],
      "text/plain": [
       "            ds       trend   yhat_lower   yhat_upper  trend_lower  \\\n",
       "0   2020-03-02 -601.387581 -1016.613588  -184.356711  -601.387581   \n",
       "1   2020-03-03 -566.190579  -985.770935  -151.204006  -566.190579   \n",
       "2   2020-03-04 -530.993577  -965.306174  -135.531100  -530.993577   \n",
       "3   2020-03-05 -495.796575  -941.345276   -61.028915  -495.796575   \n",
       "4   2020-03-06 -460.599574  -883.382068     0.032491  -460.599574   \n",
       "..         ...         ...          ...          ...          ...   \n",
       "707 2022-02-07 -895.591197 -9450.190844  7441.811636 -9516.544871   \n",
       "708 2022-02-08 -898.329124 -9461.807033  7342.142319 -9551.429303   \n",
       "709 2022-02-09 -901.067050 -9748.510904  7352.146599 -9614.148515   \n",
       "710 2022-02-10 -903.804977 -9546.259859  7344.340877 -9673.777055   \n",
       "711 2022-02-11 -906.542903 -9720.540412  7355.428444 -9715.018740   \n",
       "\n",
       "     trend_upper  additive_terms  additive_terms_lower  additive_terms_upper  \\\n",
       "0    -601.387581       13.842536             13.842536             13.842536   \n",
       "1    -566.190579        5.174496              5.174496              5.174496   \n",
       "2    -530.993577       -6.954218             -6.954218             -6.954218   \n",
       "3    -495.796575      -11.347144            -11.347144            -11.347144   \n",
       "4    -460.599574       23.823963             23.823963             23.823963   \n",
       "..           ...             ...                   ...                   ...   \n",
       "707  7226.649282       13.842536             13.842536             13.842536   \n",
       "708  7266.184561        5.174496              5.174496              5.174496   \n",
       "709  7313.583804       -6.954218             -6.954218             -6.954218   \n",
       "710  7360.983046      -11.347144            -11.347144            -11.347144   \n",
       "711  7387.569479       23.823963             23.823963             23.823963   \n",
       "\n",
       "        weekly  weekly_lower  weekly_upper  multiplicative_terms  \\\n",
       "0    13.842536     13.842536     13.842536                   0.0   \n",
       "1     5.174496      5.174496      5.174496                   0.0   \n",
       "2    -6.954218     -6.954218     -6.954218                   0.0   \n",
       "3   -11.347144    -11.347144    -11.347144                   0.0   \n",
       "4    23.823963     23.823963     23.823963                   0.0   \n",
       "..         ...           ...           ...                   ...   \n",
       "707  13.842536     13.842536     13.842536                   0.0   \n",
       "708   5.174496      5.174496      5.174496                   0.0   \n",
       "709  -6.954218     -6.954218     -6.954218                   0.0   \n",
       "710 -11.347144    -11.347144    -11.347144                   0.0   \n",
       "711  23.823963     23.823963     23.823963                   0.0   \n",
       "\n",
       "     multiplicative_terms_lower  multiplicative_terms_upper        yhat  \n",
       "0                           0.0                         0.0 -587.545045  \n",
       "1                           0.0                         0.0 -561.016083  \n",
       "2                           0.0                         0.0 -537.947795  \n",
       "3                           0.0                         0.0 -507.143719  \n",
       "4                           0.0                         0.0 -436.775611  \n",
       "..                          ...                         ...         ...  \n",
       "707                         0.0                         0.0 -881.748661  \n",
       "708                         0.0                         0.0 -893.154628  \n",
       "709                         0.0                         0.0 -908.021269  \n",
       "710                         0.0                         0.0 -915.152121  \n",
       "711                         0.0                         0.0 -882.718941  \n",
       "\n",
       "[712 rows x 16 columns]"
      ]
     },
     "execution_count": 44,
     "metadata": {},
     "output_type": "execute_result"
    }
   ],
   "source": [
    "m2.predict(future_S )#  make a forecast "
   ]
  },
  {
   "cell_type": "code",
   "execution_count": 45,
   "id": "clean-monkey",
   "metadata": {},
   "outputs": [
    {
     "data": {
      "text/html": [
       "<div>\n",
       "<style scoped>\n",
       "    .dataframe tbody tr th:only-of-type {\n",
       "        vertical-align: middle;\n",
       "    }\n",
       "\n",
       "    .dataframe tbody tr th {\n",
       "        vertical-align: top;\n",
       "    }\n",
       "\n",
       "    .dataframe thead th {\n",
       "        text-align: right;\n",
       "    }\n",
       "</style>\n",
       "<table border=\"1\" class=\"dataframe\">\n",
       "  <thead>\n",
       "    <tr style=\"text-align: right;\">\n",
       "      <th></th>\n",
       "      <th>ds</th>\n",
       "      <th>yhat</th>\n",
       "      <th>yhat_lower</th>\n",
       "      <th>yhat_upper</th>\n",
       "    </tr>\n",
       "  </thead>\n",
       "  <tbody>\n",
       "    <tr>\n",
       "      <th>731</th>\n",
       "      <td>2022-02-07</td>\n",
       "      <td>-881.748661</td>\n",
       "      <td>-9872.120437</td>\n",
       "      <td>7211.313578</td>\n",
       "    </tr>\n",
       "    <tr>\n",
       "      <th>732</th>\n",
       "      <td>2022-02-08</td>\n",
       "      <td>-893.154628</td>\n",
       "      <td>-9874.090323</td>\n",
       "      <td>7234.984544</td>\n",
       "    </tr>\n",
       "    <tr>\n",
       "      <th>733</th>\n",
       "      <td>2022-02-09</td>\n",
       "      <td>-908.021269</td>\n",
       "      <td>-9988.956254</td>\n",
       "      <td>7183.646889</td>\n",
       "    </tr>\n",
       "    <tr>\n",
       "      <th>734</th>\n",
       "      <td>2022-02-10</td>\n",
       "      <td>-915.152121</td>\n",
       "      <td>-9973.306173</td>\n",
       "      <td>7239.824261</td>\n",
       "    </tr>\n",
       "    <tr>\n",
       "      <th>735</th>\n",
       "      <td>2022-02-11</td>\n",
       "      <td>-882.718941</td>\n",
       "      <td>-10101.224609</td>\n",
       "      <td>7331.374021</td>\n",
       "    </tr>\n",
       "  </tbody>\n",
       "</table>\n",
       "</div>"
      ],
      "text/plain": [
       "            ds        yhat    yhat_lower   yhat_upper\n",
       "731 2022-02-07 -881.748661  -9872.120437  7211.313578\n",
       "732 2022-02-08 -893.154628  -9874.090323  7234.984544\n",
       "733 2022-02-09 -908.021269  -9988.956254  7183.646889\n",
       "734 2022-02-10 -915.152121  -9973.306173  7239.824261\n",
       "735 2022-02-11 -882.718941 -10101.224609  7331.374021"
      ]
     },
     "execution_count": 45,
     "metadata": {},
     "output_type": "execute_result"
    }
   ],
   "source": [
    "forecast_S = m2.predict(future_Int) #  make a forecast \n",
    "forecast_S[['ds', 'yhat', 'yhat_lower', 'yhat_upper']].tail() # chosen columns"
   ]
  },
  {
   "cell_type": "markdown",
   "id": "selective-paste",
   "metadata": {},
   "source": [
    "#### Plot the Forecast for Saudi Data"
   ]
  },
  {
   "cell_type": "code",
   "execution_count": 46,
   "id": "corporate-synthesis",
   "metadata": {},
   "outputs": [
    {
     "data": {
      "image/png": "[encoded data removed]",
      "text/plain": [
       "<Figure size 720x432 with 1 Axes>"
      ]
     },
     "metadata": {},
     "output_type": "display_data"
    }
   ],
   "source": [
    "m2.plot(forecast_S); # plot m2 \n",
    "plt.title(\"Saudi Forcast\", fontsize=16) # set title\n",
    "plt.ylabel('Y', fontsize=18) #set y axis name and size\n",
    "plt.xlabel('ds', fontsize=18);#set x axis name and size"
   ]
  },
  {
   "cell_type": "markdown",
   "id": "cardiac-funds",
   "metadata": {},
   "source": [
    " - Black dots: actual values\n",
    " - Blue lines: upper, actual (dark blue), lower windows for yhat\n",
    " - Blue blob: prediction window (yhat window)"
   ]
  },
  {
   "cell_type": "markdown",
   "id": "posted-colleague",
   "metadata": {},
   "source": [
    "#### Plot Components of Saudi Forcast (Trend,Weekly)\n"
   ]
  },
  {
   "cell_type": "code",
   "execution_count": 47,
   "id": "industrial-genesis",
   "metadata": {},
   "outputs": [
    {
     "data": {
      "image/png": "[encoded data removed]",
      "text/plain": [
       "<Figure size 648x432 with 2 Axes>"
      ]
     },
     "metadata": {},
     "output_type": "display_data"
    }
   ],
   "source": [
    "m2.plot_components(forecast_S); #plot"
   ]
  },
  {
   "cell_type": "markdown",
   "id": "executive-guidance",
   "metadata": {},
   "source": [
    "### Models Valiadtion"
   ]
  },
  {
   "cell_type": "code",
   "execution_count": 48,
   "id": "simplified-salem",
   "metadata": {},
   "outputs": [],
   "source": [
    "from fbprophet.diagnostics import cross_validation # import cross_validation"
   ]
  },
  {
   "cell_type": "markdown",
   "id": "signed-edwards",
   "metadata": {},
   "source": [
    "#### International Model Valiadtion"
   ]
  },
  {
   "cell_type": "code",
   "execution_count": 49,
   "id": "expired-finance",
   "metadata": {},
   "outputs": [
    {
     "name": "stderr",
     "output_type": "stream",
     "text": [
      "INFO:fbprophet:Making 4 forecasts with cutoffs between 2020-08-15 00:00:00 and 2020-11-13 00:00:00\n"
     ]
    },
    {
     "data": {
      "application/vnd.jupyter.widget-view+json": {
       "model_id": "22b299f6c296484c8b54872226fff809",
       "version_major": 2,
       "version_minor": 0
      },
      "text/plain": [
       "  0%|          | 0/4 [00:00<?, ?it/s]"
      ]
     },
     "metadata": {},
     "output_type": "display_data"
    },
    {
     "data": {
      "text/html": [
       "<div>\n",
       "<style scoped>\n",
       "    .dataframe tbody tr th:only-of-type {\n",
       "        vertical-align: middle;\n",
       "    }\n",
       "\n",
       "    .dataframe tbody tr th {\n",
       "        vertical-align: top;\n",
       "    }\n",
       "\n",
       "    .dataframe thead th {\n",
       "        text-align: right;\n",
       "    }\n",
       "</style>\n",
       "<table border=\"1\" class=\"dataframe\">\n",
       "  <thead>\n",
       "    <tr style=\"text-align: right;\">\n",
       "      <th></th>\n",
       "      <th>ds</th>\n",
       "      <th>yhat</th>\n",
       "      <th>yhat_lower</th>\n",
       "      <th>yhat_upper</th>\n",
       "      <th>y</th>\n",
       "      <th>cutoff</th>\n",
       "    </tr>\n",
       "  </thead>\n",
       "  <tbody>\n",
       "    <tr>\n",
       "      <th>355</th>\n",
       "      <td>2021-02-07</td>\n",
       "      <td>-0.289656</td>\n",
       "      <td>-14.728811</td>\n",
       "      <td>14.610286</td>\n",
       "      <td>0.0</td>\n",
       "      <td>2020-11-13</td>\n",
       "    </tr>\n",
       "    <tr>\n",
       "      <th>356</th>\n",
       "      <td>2021-02-08</td>\n",
       "      <td>0.780397</td>\n",
       "      <td>-13.312947</td>\n",
       "      <td>14.778147</td>\n",
       "      <td>0.0</td>\n",
       "      <td>2020-11-13</td>\n",
       "    </tr>\n",
       "    <tr>\n",
       "      <th>357</th>\n",
       "      <td>2021-02-09</td>\n",
       "      <td>-1.175760</td>\n",
       "      <td>-15.166346</td>\n",
       "      <td>11.915954</td>\n",
       "      <td>0.0</td>\n",
       "      <td>2020-11-13</td>\n",
       "    </tr>\n",
       "    <tr>\n",
       "      <th>358</th>\n",
       "      <td>2021-02-10</td>\n",
       "      <td>0.317515</td>\n",
       "      <td>-14.432007</td>\n",
       "      <td>15.048279</td>\n",
       "      <td>0.0</td>\n",
       "      <td>2020-11-13</td>\n",
       "    </tr>\n",
       "    <tr>\n",
       "      <th>359</th>\n",
       "      <td>2021-02-11</td>\n",
       "      <td>-2.940298</td>\n",
       "      <td>-17.562912</td>\n",
       "      <td>11.976756</td>\n",
       "      <td>0.0</td>\n",
       "      <td>2020-11-13</td>\n",
       "    </tr>\n",
       "  </tbody>\n",
       "</table>\n",
       "</div>"
      ],
      "text/plain": [
       "            ds      yhat  yhat_lower  yhat_upper    y     cutoff\n",
       "355 2021-02-07 -0.289656  -14.728811   14.610286  0.0 2020-11-13\n",
       "356 2021-02-08  0.780397  -13.312947   14.778147  0.0 2020-11-13\n",
       "357 2021-02-09 -1.175760  -15.166346   11.915954  0.0 2020-11-13\n",
       "358 2021-02-10  0.317515  -14.432007   15.048279  0.0 2020-11-13\n",
       "359 2021-02-11 -2.940298  -17.562912   11.976756  0.0 2020-11-13"
      ]
     },
     "execution_count": 49,
     "metadata": {},
     "output_type": "execute_result"
    }
   ],
   "source": [
    "Int_cv = cross_validation(m, initial='180 days', period='30 days', horizon='90 days')\n",
    "Int_cv.tail()"
   ]
  },
  {
   "cell_type": "markdown",
   "id": "irish-speech",
   "metadata": {},
   "source": [
    "- initial: how much data to consider before making any predictions\n",
    "- period: how frequently to make predictions \n",
    "- horizon: how many periods to predict"
   ]
  },
  {
   "cell_type": "markdown",
   "id": "dimensional-awareness",
   "metadata": {},
   "source": [
    "#### World Model Valiadtion"
   ]
  },
  {
   "cell_type": "code",
   "execution_count": 50,
   "id": "seasonal-visitor",
   "metadata": {},
   "outputs": [
    {
     "name": "stderr",
     "output_type": "stream",
     "text": [
      "INFO:fbprophet:Making 4 forecasts with cutoffs between 2020-08-15 00:00:00 and 2020-11-13 00:00:00\n"
     ]
    },
    {
     "data": {
      "application/vnd.jupyter.widget-view+json": {
       "model_id": "ba27236f40324175adac91870fdc26ac",
       "version_major": 2,
       "version_minor": 0
      },
      "text/plain": [
       "  0%|          | 0/4 [00:00<?, ?it/s]"
      ]
     },
     "metadata": {},
     "output_type": "display_data"
    },
    {
     "data": {
      "text/html": [
       "<div>\n",
       "<style scoped>\n",
       "    .dataframe tbody tr th:only-of-type {\n",
       "        vertical-align: middle;\n",
       "    }\n",
       "\n",
       "    .dataframe tbody tr th {\n",
       "        vertical-align: top;\n",
       "    }\n",
       "\n",
       "    .dataframe thead th {\n",
       "        text-align: right;\n",
       "    }\n",
       "</style>\n",
       "<table border=\"1\" class=\"dataframe\">\n",
       "  <thead>\n",
       "    <tr style=\"text-align: right;\">\n",
       "      <th></th>\n",
       "      <th>ds</th>\n",
       "      <th>yhat</th>\n",
       "      <th>yhat_lower</th>\n",
       "      <th>yhat_upper</th>\n",
       "      <th>y</th>\n",
       "      <th>cutoff</th>\n",
       "    </tr>\n",
       "  </thead>\n",
       "  <tbody>\n",
       "    <tr>\n",
       "      <th>355</th>\n",
       "      <td>2021-02-07</td>\n",
       "      <td>9.423845e+05</td>\n",
       "      <td>878420.652936</td>\n",
       "      <td>1.005549e+06</td>\n",
       "      <td>397050.0</td>\n",
       "      <td>2020-11-13</td>\n",
       "    </tr>\n",
       "    <tr>\n",
       "      <th>356</th>\n",
       "      <td>2021-02-08</td>\n",
       "      <td>9.536786e+05</td>\n",
       "      <td>886097.078165</td>\n",
       "      <td>1.023537e+06</td>\n",
       "      <td>315176.0</td>\n",
       "      <td>2020-11-13</td>\n",
       "    </tr>\n",
       "    <tr>\n",
       "      <th>357</th>\n",
       "      <td>2021-02-09</td>\n",
       "      <td>9.713878e+05</td>\n",
       "      <td>904134.634059</td>\n",
       "      <td>1.039398e+06</td>\n",
       "      <td>427277.0</td>\n",
       "      <td>2020-11-13</td>\n",
       "    </tr>\n",
       "    <tr>\n",
       "      <th>358</th>\n",
       "      <td>2021-02-10</td>\n",
       "      <td>9.899952e+05</td>\n",
       "      <td>918633.868072</td>\n",
       "      <td>1.054727e+06</td>\n",
       "      <td>514862.0</td>\n",
       "      <td>2020-11-13</td>\n",
       "    </tr>\n",
       "    <tr>\n",
       "      <th>359</th>\n",
       "      <td>2021-02-11</td>\n",
       "      <td>1.002870e+06</td>\n",
       "      <td>929859.893290</td>\n",
       "      <td>1.069670e+06</td>\n",
       "      <td>437761.0</td>\n",
       "      <td>2020-11-13</td>\n",
       "    </tr>\n",
       "  </tbody>\n",
       "</table>\n",
       "</div>"
      ],
      "text/plain": [
       "            ds          yhat     yhat_lower    yhat_upper         y     cutoff\n",
       "355 2021-02-07  9.423845e+05  878420.652936  1.005549e+06  397050.0 2020-11-13\n",
       "356 2021-02-08  9.536786e+05  886097.078165  1.023537e+06  315176.0 2020-11-13\n",
       "357 2021-02-09  9.713878e+05  904134.634059  1.039398e+06  427277.0 2020-11-13\n",
       "358 2021-02-10  9.899952e+05  918633.868072  1.054727e+06  514862.0 2020-11-13\n",
       "359 2021-02-11  1.002870e+06  929859.893290  1.069670e+06  437761.0 2020-11-13"
      ]
     },
     "execution_count": 50,
     "metadata": {},
     "output_type": "execute_result"
    }
   ],
   "source": [
    "W_cv = cross_validation(m1, initial='180 days', period='30 days', horizon='90 days')\n",
    "W_cv.tail()"
   ]
  },
  {
   "cell_type": "markdown",
   "id": "precious-parcel",
   "metadata": {},
   "source": [
    "- initial: how much data to consider before making any predictions\n",
    "- period: how frequently to make predictions \n",
    "- horizon: how many periods to predict"
   ]
  },
  {
   "cell_type": "markdown",
   "id": "organizational-poison",
   "metadata": {},
   "source": [
    "#### Saudi Model Valiadtion"
   ]
  },
  {
   "cell_type": "code",
   "execution_count": 51,
   "id": "educational-translator",
   "metadata": {},
   "outputs": [
    {
     "name": "stderr",
     "output_type": "stream",
     "text": [
      "INFO:fbprophet:Making 3 forecasts with cutoffs between 2020-09-14 00:00:00 and 2020-11-13 00:00:00\n"
     ]
    },
    {
     "data": {
      "application/vnd.jupyter.widget-view+json": {
       "model_id": "0663e91b48e94ef9ad010d72007b4c27",
       "version_major": 2,
       "version_minor": 0
      },
      "text/plain": [
       "  0%|          | 0/3 [00:00<?, ?it/s]"
      ]
     },
     "metadata": {},
     "output_type": "display_data"
    },
    {
     "data": {
      "text/html": [
       "<div>\n",
       "<style scoped>\n",
       "    .dataframe tbody tr th:only-of-type {\n",
       "        vertical-align: middle;\n",
       "    }\n",
       "\n",
       "    .dataframe tbody tr th {\n",
       "        vertical-align: top;\n",
       "    }\n",
       "\n",
       "    .dataframe thead th {\n",
       "        text-align: right;\n",
       "    }\n",
       "</style>\n",
       "<table border=\"1\" class=\"dataframe\">\n",
       "  <thead>\n",
       "    <tr style=\"text-align: right;\">\n",
       "      <th></th>\n",
       "      <th>ds</th>\n",
       "      <th>yhat</th>\n",
       "      <th>yhat_lower</th>\n",
       "      <th>yhat_upper</th>\n",
       "      <th>y</th>\n",
       "      <th>cutoff</th>\n",
       "    </tr>\n",
       "  </thead>\n",
       "  <tbody>\n",
       "    <tr>\n",
       "      <th>265</th>\n",
       "      <td>2021-02-07</td>\n",
       "      <td>-723.092579</td>\n",
       "      <td>-1907.365492</td>\n",
       "      <td>437.529466</td>\n",
       "      <td>317.0</td>\n",
       "      <td>2020-11-13</td>\n",
       "    </tr>\n",
       "    <tr>\n",
       "      <th>266</th>\n",
       "      <td>2021-02-08</td>\n",
       "      <td>-683.277603</td>\n",
       "      <td>-1924.354978</td>\n",
       "      <td>553.448449</td>\n",
       "      <td>356.0</td>\n",
       "      <td>2020-11-13</td>\n",
       "    </tr>\n",
       "    <tr>\n",
       "      <th>267</th>\n",
       "      <td>2021-02-09</td>\n",
       "      <td>-712.868756</td>\n",
       "      <td>-1986.930352</td>\n",
       "      <td>507.912986</td>\n",
       "      <td>353.0</td>\n",
       "      <td>2020-11-13</td>\n",
       "    </tr>\n",
       "    <tr>\n",
       "      <th>268</th>\n",
       "      <td>2021-02-10</td>\n",
       "      <td>-739.247702</td>\n",
       "      <td>-2050.209976</td>\n",
       "      <td>536.516120</td>\n",
       "      <td>369.0</td>\n",
       "      <td>2020-11-13</td>\n",
       "    </tr>\n",
       "    <tr>\n",
       "      <th>269</th>\n",
       "      <td>2021-02-11</td>\n",
       "      <td>-755.189568</td>\n",
       "      <td>-1999.156669</td>\n",
       "      <td>534.872966</td>\n",
       "      <td>364.0</td>\n",
       "      <td>2020-11-13</td>\n",
       "    </tr>\n",
       "  </tbody>\n",
       "</table>\n",
       "</div>"
      ],
      "text/plain": [
       "            ds        yhat   yhat_lower  yhat_upper      y     cutoff\n",
       "265 2021-02-07 -723.092579 -1907.365492  437.529466  317.0 2020-11-13\n",
       "266 2021-02-08 -683.277603 -1924.354978  553.448449  356.0 2020-11-13\n",
       "267 2021-02-09 -712.868756 -1986.930352  507.912986  353.0 2020-11-13\n",
       "268 2021-02-10 -739.247702 -2050.209976  536.516120  369.0 2020-11-13\n",
       "269 2021-02-11 -755.189568 -1999.156669  534.872966  364.0 2020-11-13"
      ]
     },
     "execution_count": 51,
     "metadata": {},
     "output_type": "execute_result"
    }
   ],
   "source": [
    "S_cv = cross_validation(m2, initial='180 days', period='30 days', horizon='90 days')\n",
    "S_cv.tail()"
   ]
  },
  {
   "cell_type": "markdown",
   "id": "imperial-electric",
   "metadata": {},
   "source": [
    "- initial: how much data to consider before making any predictions\n",
    "- period: how frequently to make predictions \n",
    "- horizon: how many periods to predict"
   ]
  },
  {
   "cell_type": "markdown",
   "id": "still-intent",
   "metadata": {},
   "source": [
    "### Plot the Valiadtions "
   ]
  },
  {
   "cell_type": "code",
   "execution_count": 52,
   "id": "delayed-reconstruction",
   "metadata": {},
   "outputs": [],
   "source": [
    "from fbprophet.plot import plot_cross_validation_metric"
   ]
  },
  {
   "cell_type": "markdown",
   "id": "hungry-tobago",
   "metadata": {},
   "source": [
    "####  Plot International Valiadtion"
   ]
  },
  {
   "cell_type": "code",
   "execution_count": 53,
   "id": "unlike-alcohol",
   "metadata": {},
   "outputs": [
    {
     "data": {
      "image/png": "[encoded data removed]",
      "text/plain": [
       "<Figure size 720x432 with 1 Axes>"
      ]
     },
     "metadata": {},
     "output_type": "display_data"
    }
   ],
   "source": [
    "fig = plot_cross_validation_metric(Int_cv, metric='mse')\n",
    "plt.title(\"International Evaluation\", fontsize=16) # set title\n",
    "plt.ylabel('MSA', fontsize=18) #set y axis name and size\n",
    "plt.xlabel('Horizen(Days)', fontsize=18);#set x axis name and size"
   ]
  },
  {
   "cell_type": "markdown",
   "id": "quiet-jumping",
   "metadata": {},
   "source": [
    "####  Plot World Valiadtion"
   ]
  },
  {
   "cell_type": "code",
   "execution_count": 54,
   "id": "sharp-dance",
   "metadata": {},
   "outputs": [
    {
     "data": {
      "image/png": "[encoded data removed]",
      "text/plain": [
       "<Figure size 720x432 with 1 Axes>"
      ]
     },
     "metadata": {},
     "output_type": "display_data"
    }
   ],
   "source": [
    "fig = plot_cross_validation_metric(W_cv, metric='mse')\n",
    "plt.title(\"World Evaluation\", fontsize=16) # set title\n",
    "plt.ylabel('MSA', fontsize=18) #set y axis name and size\n",
    "plt.xlabel('Horizen(Days)', fontsize=18);#set x axis name and size"
   ]
  },
  {
   "cell_type": "markdown",
   "id": "improving-bookmark",
   "metadata": {},
   "source": [
    "####  Plot Saudi Valiadtion"
   ]
  },
  {
   "cell_type": "code",
   "execution_count": 55,
   "id": "eleven-association",
   "metadata": {},
   "outputs": [
    {
     "data": {
      "image/png": "[encoded data removed]",
      "text/plain": [
       "<Figure size 720x432 with 1 Axes>"
      ]
     },
     "metadata": {},
     "output_type": "display_data"
    }
   ],
   "source": [
    "fig = plot_cross_validation_metric(S_cv, metric='mse')\n",
    "plt.title(\"Saudi Evaluation\", fontsize=16) # set title\n",
    "plt.ylabel('MAS', fontsize=18) #set y axis name and size\n",
    "plt.xlabel('Horizen(Days)', fontsize=18);#set x axis name and size"
   ]
  },
  {
   "cell_type": "markdown",
   "id": "nutritional-flush",
   "metadata": {},
   "source": [
    "### Models Scors"
   ]
  },
  {
   "cell_type": "code",
   "execution_count": 56,
   "id": "suited-playing",
   "metadata": {},
   "outputs": [],
   "source": [
    "from fbprophet.diagnostics import performance_metrics"
   ]
  },
  {
   "cell_type": "markdown",
   "id": "conventional-anthony",
   "metadata": {},
   "source": [
    "#### International Model Score"
   ]
  },
  {
   "cell_type": "code",
   "execution_count": 57,
   "id": "apart-drawing",
   "metadata": {},
   "outputs": [
    {
     "name": "stderr",
     "output_type": "stream",
     "text": [
      "INFO:fbprophet:Skipping MAPE because y close to 0\n"
     ]
    },
    {
     "data": {
      "text/html": [
       "<div>\n",
       "<style scoped>\n",
       "    .dataframe tbody tr th:only-of-type {\n",
       "        vertical-align: middle;\n",
       "    }\n",
       "\n",
       "    .dataframe tbody tr th {\n",
       "        vertical-align: top;\n",
       "    }\n",
       "\n",
       "    .dataframe thead th {\n",
       "        text-align: right;\n",
       "    }\n",
       "</style>\n",
       "<table border=\"1\" class=\"dataframe\">\n",
       "  <thead>\n",
       "    <tr style=\"text-align: right;\">\n",
       "      <th></th>\n",
       "      <th>horizon</th>\n",
       "      <th>mse</th>\n",
       "      <th>rmse</th>\n",
       "      <th>mae</th>\n",
       "      <th>mdape</th>\n",
       "      <th>coverage</th>\n",
       "    </tr>\n",
       "  </thead>\n",
       "  <tbody>\n",
       "    <tr>\n",
       "      <th>79</th>\n",
       "      <td>88 days</td>\n",
       "      <td>8.502603</td>\n",
       "      <td>2.915922</td>\n",
       "      <td>2.310295</td>\n",
       "      <td>inf</td>\n",
       "      <td>1.0</td>\n",
       "    </tr>\n",
       "    <tr>\n",
       "      <th>80</th>\n",
       "      <td>89 days</td>\n",
       "      <td>9.057125</td>\n",
       "      <td>3.009506</td>\n",
       "      <td>2.312601</td>\n",
       "      <td>inf</td>\n",
       "      <td>1.0</td>\n",
       "    </tr>\n",
       "    <tr>\n",
       "      <th>81</th>\n",
       "      <td>90 days</td>\n",
       "      <td>9.668629</td>\n",
       "      <td>3.109442</td>\n",
       "      <td>2.430505</td>\n",
       "      <td>inf</td>\n",
       "      <td>1.0</td>\n",
       "    </tr>\n",
       "  </tbody>\n",
       "</table>\n",
       "</div>"
      ],
      "text/plain": [
       "   horizon       mse      rmse       mae  mdape  coverage\n",
       "79 88 days  8.502603  2.915922  2.310295    inf       1.0\n",
       "80 89 days  9.057125  3.009506  2.312601    inf       1.0\n",
       "81 90 days  9.668629  3.109442  2.430505    inf       1.0"
      ]
     },
     "execution_count": 57,
     "metadata": {},
     "output_type": "execute_result"
    }
   ],
   "source": [
    "df_p = performance_metrics(Int_cv) # performance matrics\n",
    "df_p.tail(3) "
   ]
  },
  {
   "cell_type": "code",
   "execution_count": 58,
   "id": "peripheral-shopper",
   "metadata": {},
   "outputs": [
    {
     "data": {
      "text/plain": [
       "81    2.430505\n",
       "Name: mae, dtype: float64"
      ]
     },
     "execution_count": 58,
     "metadata": {},
     "output_type": "execute_result"
    }
   ],
   "source": [
    "df_p.mae.tail(1) # mean_absolute_error 8.011111111111111"
   ]
  },
  {
   "cell_type": "markdown",
   "id": "german-manufacturer",
   "metadata": {},
   "source": [
    "#### World Model Score"
   ]
  },
  {
   "cell_type": "code",
   "execution_count": 59,
   "id": "comfortable-spine",
   "metadata": {},
   "outputs": [
    {
     "data": {
      "text/html": [
       "<div>\n",
       "<style scoped>\n",
       "    .dataframe tbody tr th:only-of-type {\n",
       "        vertical-align: middle;\n",
       "    }\n",
       "\n",
       "    .dataframe tbody tr th {\n",
       "        vertical-align: top;\n",
       "    }\n",
       "\n",
       "    .dataframe thead th {\n",
       "        text-align: right;\n",
       "    }\n",
       "</style>\n",
       "<table border=\"1\" class=\"dataframe\">\n",
       "  <thead>\n",
       "    <tr style=\"text-align: right;\">\n",
       "      <th></th>\n",
       "      <th>horizon</th>\n",
       "      <th>mse</th>\n",
       "      <th>rmse</th>\n",
       "      <th>mae</th>\n",
       "      <th>mape</th>\n",
       "      <th>mdape</th>\n",
       "      <th>coverage</th>\n",
       "    </tr>\n",
       "  </thead>\n",
       "  <tbody>\n",
       "    <tr>\n",
       "      <th>79</th>\n",
       "      <td>88 days</td>\n",
       "      <td>1.122580e+11</td>\n",
       "      <td>335049.195418</td>\n",
       "      <td>290789.931702</td>\n",
       "      <td>0.550883</td>\n",
       "      <td>0.439984</td>\n",
       "      <td>0.027778</td>\n",
       "    </tr>\n",
       "    <tr>\n",
       "      <th>80</th>\n",
       "      <td>89 days</td>\n",
       "      <td>1.116127e+11</td>\n",
       "      <td>334084.896829</td>\n",
       "      <td>290690.870443</td>\n",
       "      <td>0.547552</td>\n",
       "      <td>0.437523</td>\n",
       "      <td>0.027778</td>\n",
       "    </tr>\n",
       "    <tr>\n",
       "      <th>81</th>\n",
       "      <td>90 days</td>\n",
       "      <td>1.147476e+11</td>\n",
       "      <td>338744.212386</td>\n",
       "      <td>297002.705972</td>\n",
       "      <td>0.559757</td>\n",
       "      <td>0.434698</td>\n",
       "      <td>0.027778</td>\n",
       "    </tr>\n",
       "  </tbody>\n",
       "</table>\n",
       "</div>"
      ],
      "text/plain": [
       "   horizon           mse           rmse            mae      mape     mdape  \\\n",
       "79 88 days  1.122580e+11  335049.195418  290789.931702  0.550883  0.439984   \n",
       "80 89 days  1.116127e+11  334084.896829  290690.870443  0.547552  0.437523   \n",
       "81 90 days  1.147476e+11  338744.212386  297002.705972  0.559757  0.434698   \n",
       "\n",
       "    coverage  \n",
       "79  0.027778  \n",
       "80  0.027778  \n",
       "81  0.027778  "
      ]
     },
     "execution_count": 59,
     "metadata": {},
     "output_type": "execute_result"
    }
   ],
   "source": [
    "df_p = performance_metrics(W_cv) # performance matrics\n",
    "df_p.tail(3)"
   ]
  },
  {
   "cell_type": "code",
   "execution_count": 60,
   "id": "martial-earth",
   "metadata": {},
   "outputs": [
    {
     "data": {
      "text/plain": [
       "81    297002.705972\n",
       "Name: mae, dtype: float64"
      ]
     },
     "execution_count": 60,
     "metadata": {},
     "output_type": "execute_result"
    }
   ],
   "source": [
    "df_p.mae.tail(1) # mean_absolute_error 487182.5"
   ]
  },
  {
   "cell_type": "markdown",
   "id": "stopped-netherlands",
   "metadata": {},
   "source": [
    "#### Saudi Model Score"
   ]
  },
  {
   "cell_type": "code",
   "execution_count": 61,
   "id": "unauthorized-print",
   "metadata": {},
   "outputs": [
    {
     "data": {
      "text/html": [
       "<div>\n",
       "<style scoped>\n",
       "    .dataframe tbody tr th:only-of-type {\n",
       "        vertical-align: middle;\n",
       "    }\n",
       "\n",
       "    .dataframe tbody tr th {\n",
       "        vertical-align: top;\n",
       "    }\n",
       "\n",
       "    .dataframe thead th {\n",
       "        text-align: right;\n",
       "    }\n",
       "</style>\n",
       "<table border=\"1\" class=\"dataframe\">\n",
       "  <thead>\n",
       "    <tr style=\"text-align: right;\">\n",
       "      <th></th>\n",
       "      <th>horizon</th>\n",
       "      <th>mse</th>\n",
       "      <th>rmse</th>\n",
       "      <th>mae</th>\n",
       "      <th>mape</th>\n",
       "      <th>mdape</th>\n",
       "      <th>coverage</th>\n",
       "    </tr>\n",
       "  </thead>\n",
       "  <tbody>\n",
       "    <tr>\n",
       "      <th>79</th>\n",
       "      <td>88 days</td>\n",
       "      <td>5.556503e+06</td>\n",
       "      <td>2357.223658</td>\n",
       "      <td>2180.290392</td>\n",
       "      <td>14.493562</td>\n",
       "      <td>16.645156</td>\n",
       "      <td>0.333333</td>\n",
       "    </tr>\n",
       "    <tr>\n",
       "      <th>80</th>\n",
       "      <td>89 days</td>\n",
       "      <td>5.675953e+06</td>\n",
       "      <td>2382.425911</td>\n",
       "      <td>2207.442021</td>\n",
       "      <td>14.558351</td>\n",
       "      <td>16.715839</td>\n",
       "      <td>0.333333</td>\n",
       "    </tr>\n",
       "    <tr>\n",
       "      <th>81</th>\n",
       "      <td>90 days</td>\n",
       "      <td>5.813050e+06</td>\n",
       "      <td>2411.026811</td>\n",
       "      <td>2235.389194</td>\n",
       "      <td>14.578988</td>\n",
       "      <td>17.610862</td>\n",
       "      <td>0.333333</td>\n",
       "    </tr>\n",
       "  </tbody>\n",
       "</table>\n",
       "</div>"
      ],
      "text/plain": [
       "   horizon           mse         rmse          mae       mape      mdape  \\\n",
       "79 88 days  5.556503e+06  2357.223658  2180.290392  14.493562  16.645156   \n",
       "80 89 days  5.675953e+06  2382.425911  2207.442021  14.558351  16.715839   \n",
       "81 90 days  5.813050e+06  2411.026811  2235.389194  14.578988  17.610862   \n",
       "\n",
       "    coverage  \n",
       "79  0.333333  \n",
       "80  0.333333  \n",
       "81  0.333333  "
      ]
     },
     "execution_count": 61,
     "metadata": {},
     "output_type": "execute_result"
    }
   ],
   "source": [
    "df_p = performance_metrics(S_cv)# performance matrics\n",
    "df_p.tail(3)"
   ]
  },
  {
   "cell_type": "code",
   "execution_count": 62,
   "id": "acute-simon",
   "metadata": {},
   "outputs": [
    {
     "data": {
      "text/plain": [
       "81    2235.389194\n",
       "Name: mae, dtype: float64"
      ]
     },
     "execution_count": 62,
     "metadata": {},
     "output_type": "execute_result"
    }
   ],
   "source": [
    "df_p.mae.tail(1) # mean_absolute_error 804.3555555555556"
   ]
  }
 ],
 "metadata": {
  "kernelspec": {
   "display_name": "Python 3",
   "language": "python",
   "name": "python3"
  },
  "language_info": {
   "codemirror_mode": {
    "name": "ipython",
    "version": 3
   },
   "file_extension": ".py",
   "mimetype": "text/x-python",
   "name": "python",
   "nbconvert_exporter": "python",
   "pygments_lexer": "ipython3",
   "version": "3.8.5"
  }
 },
 "nbformat": 4,
 "nbformat_minor": 5
}
