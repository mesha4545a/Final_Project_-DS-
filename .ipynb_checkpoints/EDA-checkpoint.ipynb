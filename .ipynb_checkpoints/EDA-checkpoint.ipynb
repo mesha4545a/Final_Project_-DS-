{
 "cells": [
  {
   "cell_type": "code",
   "execution_count": 1,
   "id": "written-submission",
   "metadata": {},
   "outputs": [],
   "source": [
    "import pandas as pd\n",
    "df = pd.read_csv(\"Owid-covid-data-filled.csv\")"
   ]
  },
  {
   "cell_type": "code",
   "execution_count": 2,
   "id": "unlike-patent",
   "metadata": {},
   "outputs": [
    {
     "data": {
      "text/plain": [
       "iso_code                                   387\n",
       "continent                                    0\n",
       "location                                     0\n",
       "date                                         0\n",
       "total_cases                                  0\n",
       "new_cases                                    0\n",
       "new_cases_smoothed                           0\n",
       "total_deaths                                 0\n",
       "new_deaths                                   0\n",
       "new_deaths_smoothed                          0\n",
       "total_cases_per_million                      0\n",
       "new_cases_per_million                        0\n",
       "new_cases_smoothed_per_million               0\n",
       "total_deaths_per_million                     0\n",
       "new_deaths_per_million                       0\n",
       "new_deaths_smoothed_per_million              0\n",
       "reproduction_rate                        16776\n",
       "icu_patients                                 0\n",
       "icu_patients_per_million                     0\n",
       "hosp_patients                                0\n",
       "hosp_patients_per_million                    0\n",
       "weekly_icu_admissions                    67399\n",
       "weekly_icu_admissions_per_million        67399\n",
       "weekly_hosp_admissions                   66959\n",
       "weekly_hosp_admissions_per_million       66959\n",
       "new_tests                                    0\n",
       "total_tests                                  0\n",
       "total_tests_per_thousand                     0\n",
       "new_tests_per_thousand                       0\n",
       "new_tests_smoothed                           0\n",
       "new_tests_smoothed_per_thousand              0\n",
       "positive_rate                            34753\n",
       "tests_per_case                           35257\n",
       "tests_units                              31896\n",
       "total_vaccinations                           0\n",
       "people_vaccinated                            0\n",
       "people_fully_vaccinated                      0\n",
       "new_vaccinations                             0\n",
       "new_vaccinations_smoothed                    0\n",
       "total_vaccinations_per_hundred               0\n",
       "people_vaccinated_per_hundred                0\n",
       "people_fully_vaccinated_per_hundred          0\n",
       "new_vaccinations_smoothed_per_million        0\n",
       "stringency_index                          9552\n",
       "population                                   0\n",
       "population_density                           0\n",
       "median_age                                5850\n",
       "aged_65_older                             6570\n",
       "aged_70_older                             6202\n",
       "gdp_per_capita                            5796\n",
       "extreme_poverty                          25398\n",
       "cardiovasc_death_rate                     5069\n",
       "diabetes_prevalence                       4420\n",
       "female_smokers                           18407\n",
       "male_smokers                             19088\n",
       "handwashing_facilities                   36474\n",
       "hospital_beds_per_thousand               10260\n",
       "life_expectancy                           3357\n",
       "human_development_index                   5126\n",
       "dtype: int64"
      ]
     },
     "execution_count": 2,
     "metadata": {},
     "output_type": "execute_result"
    }
   ],
   "source": [
    "df.isnull().sum()"
   ]
  },
  {
   "cell_type": "code",
   "execution_count": 3,
   "id": "twelve-viewer",
   "metadata": {},
   "outputs": [
    {
     "data": {
      "text/plain": [
       "North America    387\n",
       "Name: location, dtype: int64"
      ]
     },
     "execution_count": 3,
     "metadata": {},
     "output_type": "execute_result"
    }
   ],
   "source": [
    "df[df.iso_code.isnull()].location.value_counts()"
   ]
  },
  {
   "cell_type": "code",
   "execution_count": null,
   "id": "lyric-assets",
   "metadata": {},
   "outputs": [],
   "source": []
  },
  {
   "cell_type": "code",
   "execution_count": 4,
   "id": "related-basic",
   "metadata": {},
   "outputs": [],
   "source": [
    " df.loc[ df['location'] =='North America','iso_code'] = '-'"
   ]
  },
  {
   "cell_type": "code",
   "execution_count": 5,
   "id": "arranged-poison",
   "metadata": {},
   "outputs": [
    {
     "data": {
      "text/plain": [
       "North America    387\n",
       "Name: location, dtype: int64"
      ]
     },
     "execution_count": 5,
     "metadata": {},
     "output_type": "execute_result"
    }
   ],
   "source": [
    "df[df.iso_code=='-'].location.value_counts()"
   ]
  },
  {
   "cell_type": "code",
   "execution_count": 6,
   "id": "sharing-imagination",
   "metadata": {},
   "outputs": [
    {
     "data": {
      "text/plain": [
       "iso_code                                     0\n",
       "continent                                    0\n",
       "location                                     0\n",
       "date                                         0\n",
       "total_cases                                  0\n",
       "new_cases                                    0\n",
       "new_cases_smoothed                           0\n",
       "total_deaths                                 0\n",
       "new_deaths                                   0\n",
       "new_deaths_smoothed                          0\n",
       "total_cases_per_million                      0\n",
       "new_cases_per_million                        0\n",
       "new_cases_smoothed_per_million               0\n",
       "total_deaths_per_million                     0\n",
       "new_deaths_per_million                       0\n",
       "new_deaths_smoothed_per_million              0\n",
       "reproduction_rate                        16776\n",
       "icu_patients                                 0\n",
       "icu_patients_per_million                     0\n",
       "hosp_patients                                0\n",
       "hosp_patients_per_million                    0\n",
       "weekly_icu_admissions                    67399\n",
       "weekly_icu_admissions_per_million        67399\n",
       "weekly_hosp_admissions                   66959\n",
       "weekly_hosp_admissions_per_million       66959\n",
       "new_tests                                    0\n",
       "total_tests                                  0\n",
       "total_tests_per_thousand                     0\n",
       "new_tests_per_thousand                       0\n",
       "new_tests_smoothed                           0\n",
       "new_tests_smoothed_per_thousand              0\n",
       "positive_rate                            34753\n",
       "tests_per_case                           35257\n",
       "tests_units                              31896\n",
       "total_vaccinations                           0\n",
       "people_vaccinated                            0\n",
       "people_fully_vaccinated                      0\n",
       "new_vaccinations                             0\n",
       "new_vaccinations_smoothed                    0\n",
       "total_vaccinations_per_hundred               0\n",
       "people_vaccinated_per_hundred                0\n",
       "people_fully_vaccinated_per_hundred          0\n",
       "new_vaccinations_smoothed_per_million        0\n",
       "stringency_index                          9552\n",
       "population                                   0\n",
       "population_density                           0\n",
       "median_age                                5850\n",
       "aged_65_older                             6570\n",
       "aged_70_older                             6202\n",
       "gdp_per_capita                            5796\n",
       "extreme_poverty                          25398\n",
       "cardiovasc_death_rate                     5069\n",
       "diabetes_prevalence                       4420\n",
       "female_smokers                           18407\n",
       "male_smokers                             19088\n",
       "handwashing_facilities                   36474\n",
       "hospital_beds_per_thousand               10260\n",
       "life_expectancy                           3357\n",
       "human_development_index                   5126\n",
       "dtype: int64"
      ]
     },
     "execution_count": 6,
     "metadata": {},
     "output_type": "execute_result"
    }
   ],
   "source": [
    "df.isnull().sum()"
   ]
  },
  {
   "cell_type": "code",
   "execution_count": 7,
   "id": "exact-express",
   "metadata": {},
   "outputs": [],
   "source": [
    "df.to_csv(r'D:\\Final_project\\Owid-covid-data-final.csv', index = False)"
   ]
  },
  {
   "cell_type": "code",
   "execution_count": null,
   "id": "approved-crest",
   "metadata": {},
   "outputs": [],
   "source": [
    "df = pd.read_csv(\"Owid-covid-data-final.csv\")\n"
   ]
  },
  {
   "cell_type": "code",
   "execution_count": null,
   "id": "cosmetic-grave",
   "metadata": {},
   "outputs": [],
   "source": [
    "df.tail()"
   ]
  },
  {
   "cell_type": "code",
   "execution_count": null,
   "id": "differential-interval",
   "metadata": {},
   "outputs": [],
   "source": [
    "df[df.iso_code.isnull()].location.value_counts()"
   ]
  },
  {
   "cell_type": "code",
   "execution_count": null,
   "id": "indoor-contest",
   "metadata": {},
   "outputs": [],
   "source": [
    "df.isnull().sum()"
   ]
  },
  {
   "cell_type": "code",
   "execution_count": null,
   "id": "opened-denial",
   "metadata": {},
   "outputs": [],
   "source": [
    "df.drop(['median_age', 'aged_65_older' , 'aged_70_older' ,'gdp_per_capita',\n",
    "'extreme_poverty', 'cardiovasc_death_rate', 'diabetes_prevalence',                       \n",
    "'female_smokers', 'male_smokers', 'handwashing_facilities',                   \n",
    "'hospital_beds_per_thousand', 'life_expectancy', 'human_development_index',\n",
    "'stringency_index', 'positive_rate', 'tests_per_case', 'tests_units',\n",
    "'weekly_icu_admissions', 'weekly_icu_admissions_per_million',        \n",
    "'weekly_hosp_admissions', 'weekly_hosp_admissions_per_million','reproduction_rate'],axis=1,inplace=True)"
   ]
  },
  {
   "cell_type": "code",
   "execution_count": null,
   "id": "dirty-arkansas",
   "metadata": {},
   "outputs": [],
   "source": [
    "df[df['location']=='Europe'].location.value_counts()"
   ]
  },
  {
   "cell_type": "code",
   "execution_count": null,
   "id": "german-masters",
   "metadata": {},
   "outputs": [],
   "source": [
    "df[df['location']=='European Union'].location.value_counts()"
   ]
  },
  {
   "cell_type": "code",
   "execution_count": null,
   "id": "disciplinary-lesson",
   "metadata": {},
   "outputs": [],
   "source": [
    "df.drop(df[df['location']=='European Union'].index, inplace = True)"
   ]
  },
  {
   "cell_type": "code",
   "execution_count": null,
   "id": "compatible-gasoline",
   "metadata": {},
   "outputs": [],
   "source": [
    "df.isnull().sum()"
   ]
  },
  {
   "cell_type": "code",
   "execution_count": null,
   "id": "heavy-appreciation",
   "metadata": {},
   "outputs": [],
   "source": [
    "df.describe()"
   ]
  },
  {
   "cell_type": "code",
   "execution_count": null,
   "id": "through-robinson",
   "metadata": {},
   "outputs": [],
   "source": [
    "corr=df.corr()\n",
    "corr.style.background_gradient(cmap='coolwarm')"
   ]
  },
  {
   "cell_type": "code",
   "execution_count": null,
   "id": "intensive-jackson",
   "metadata": {},
   "outputs": [],
   "source": [
    "import seaborn as sns\n",
    "import matplotlib.pyplot as plt\n",
    "fig = plt.figure(figsize=(50,50))\n",
    "ax= sns.boxplot(data=df)"
   ]
  },
  {
   "cell_type": "code",
   "execution_count": null,
   "id": "female-lodging",
   "metadata": {},
   "outputs": [],
   "source": [
    "r = df[['total_cases','new_cases','new_cases_smoothed','total_deaths',\n",
    "    'new_deaths', 'new_deaths_smoothed']]\n",
    "fig = plt.figure(figsize=(30,50))\n",
    "ax= sns.boxplot(data=r)"
   ]
  },
  {
   "cell_type": "code",
   "execution_count": null,
   "id": "respiratory-diploma",
   "metadata": {},
   "outputs": [],
   "source": [
    "list(df.columns)"
   ]
  },
  {
   "cell_type": "code",
   "execution_count": null,
   "id": "expressed-toyota",
   "metadata": {},
   "outputs": [],
   "source": [
    "r = df[[ 'total_cases_per_million',\n",
    " 'new_cases_per_million',\n",
    " 'new_cases_smoothed_per_million',\n",
    " 'total_deaths_per_million',\n",
    " 'new_deaths_per_million',\n",
    " 'new_deaths_smoothed_per_million']]"
   ]
  },
  {
   "cell_type": "code",
   "execution_count": null,
   "id": "structural-kazakhstan",
   "metadata": {},
   "outputs": [],
   "source": [
    "fig = plt.figure(figsize=(30,50))\n",
    "ax= sns.boxplot(data=r)"
   ]
  },
  {
   "cell_type": "code",
   "execution_count": null,
   "id": "integral-religious",
   "metadata": {},
   "outputs": [],
   "source": [
    "r = df[['icu_patients',\n",
    " 'icu_patients_per_million',\n",
    " 'hosp_patients',\n",
    " 'hosp_patients_per_million',\n",
    " 'new_tests']]\n",
    "fig = plt.figure(figsize=(30,50))\n",
    "ax= sns.boxplot(data=r)"
   ]
  },
  {
   "cell_type": "code",
   "execution_count": null,
   "id": "purple-hebrew",
   "metadata": {},
   "outputs": [],
   "source": [
    "r =df[['population',\n",
    " 'population_density']]\n",
    "fig = plt.figure(figsize=(30,50))\n",
    "ax= sns.boxplot(data=r)"
   ]
  },
  {
   "cell_type": "code",
   "execution_count": null,
   "id": "preceding-companion",
   "metadata": {},
   "outputs": [],
   "source": [
    "r = df[['new_tests',\n",
    " 'total_tests',\n",
    " 'total_tests_per_thousand',\n",
    " 'new_tests_per_thousand',\n",
    " 'new_tests_smoothed',\n",
    " 'new_tests_smoothed_per_thousand']]\n",
    "fig = plt.figure(figsize=(30,50))\n",
    "ax= sns.boxplot(data=r)\n"
   ]
  },
  {
   "cell_type": "code",
   "execution_count": null,
   "id": "weighted-realtor",
   "metadata": {},
   "outputs": [],
   "source": [
    "fig = plt.figure(figsize=(30,30))\n",
    "plt.plot(df['date'], df['total_cases'])\n",
    "plt.title('Total Cases Vs Date')\n",
    "plt.xlabel('Date')\n",
    "plt.ylabel('Total Cases')\n",
    "plt.show()                         \n",
    "# "
   ]
  },
  {
   "cell_type": "code",
   "execution_count": null,
   "id": "palestinian-sigma",
   "metadata": {},
   "outputs": [],
   "source": [
    "fig = plt.figure(figsize=(30,30))\n",
    "plt.plot(df['date'], df['new_cases'])\n",
    "plt.title('Total Cases Vs Date')\n",
    "plt.xlabel('Date')\n",
    "plt.ylabel('Total Cases')\n",
    "plt.show()   "
   ]
  },
  {
   "cell_type": "code",
   "execution_count": null,
   "id": "dried-lighting",
   "metadata": {},
   "outputs": [],
   "source": [
    "df.location.unique()"
   ]
  },
  {
   "cell_type": "code",
   "execution_count": null,
   "id": "dried-complex",
   "metadata": {},
   "outputs": [],
   "source": [
    "df.loc[df[\"location\"]=='European Union','location']= 'Europe'"
   ]
  },
  {
   "cell_type": "code",
   "execution_count": null,
   "id": "conventional-journey",
   "metadata": {},
   "outputs": [],
   "source": [
    "df.loc[df['location']== 'European Union']"
   ]
  },
  {
   "cell_type": "code",
   "execution_count": null,
   "id": "perceived-warner",
   "metadata": {},
   "outputs": [],
   "source": [
    "df.to_csv(r'D:\\Final_project\\Owid-covid-data-EDA.csv', index = False)"
   ]
  },
  {
   "cell_type": "code",
   "execution_count": null,
   "id": "beneficial-baker",
   "metadata": {},
   "outputs": [],
   "source": [
    "df = pd.read_csv(\"Owid-covid-data-filled.csv\")\n",
    "df"
   ]
  }
 ],
 "metadata": {
  "kernelspec": {
   "display_name": "Python 3",
   "language": "python",
   "name": "python3"
  },
  "language_info": {
   "codemirror_mode": {
    "name": "ipython",
    "version": 3
   },
   "file_extension": ".py",
   "mimetype": "text/x-python",
   "name": "python",
   "nbconvert_exporter": "python",
   "pygments_lexer": "ipython3",
   "version": "3.8.5"
  }
 },
 "nbformat": 4,
 "nbformat_minor": 5
}
